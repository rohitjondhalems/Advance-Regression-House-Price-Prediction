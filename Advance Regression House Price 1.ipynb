{
 "cells": [
  {
   "cell_type": "code",
   "execution_count": 1,
   "id": "db5d5a31",
   "metadata": {},
   "outputs": [],
   "source": [
    "#importing the required liabraries\n",
    "import pandas as pd\n",
    "import numpy as np\n",
    "import matplotlib.pyplot as plt\n",
    "%matplotlib inline"
   ]
  },
  {
   "cell_type": "code",
   "execution_count": 2,
   "id": "9ff66651",
   "metadata": {},
   "outputs": [],
   "source": [
    "import os\n",
    "os.chdir(\"D:\\Simplilearn\\Machine Learning\\Advance House Regression\")"
   ]
  },
  {
   "cell_type": "code",
   "execution_count": 3,
   "id": "e75af171",
   "metadata": {},
   "outputs": [],
   "source": [
    "# reading the train and test file \n",
    "housetrain=pd.read_csv('train (1).csv')\n",
    "housetest=pd.read_csv('test (1).csv')"
   ]
  },
  {
   "cell_type": "code",
   "execution_count": 4,
   "id": "cca84772",
   "metadata": {},
   "outputs": [
    {
     "name": "stdout",
     "output_type": "stream",
     "text": [
      "(1460, 81)\n",
      "(1459, 80)\n"
     ]
    }
   ],
   "source": [
    "# checking the shape of the file with .shape function\n",
    "print(housetrain.shape)\n",
    "print(housetest.shape)"
   ]
  },
  {
   "cell_type": "code",
   "execution_count": 5,
   "id": "3c17adc0",
   "metadata": {},
   "outputs": [
    {
     "data": {
      "text/plain": [
       "Index(['Id', 'MSSubClass', 'MSZoning', 'LotFrontage', 'LotArea', 'Street',\n",
       "       'Alley', 'LotShape', 'LandContour', 'Utilities', 'LotConfig',\n",
       "       'LandSlope', 'Neighborhood', 'Condition1', 'Condition2', 'BldgType',\n",
       "       'HouseStyle', 'OverallQual', 'OverallCond', 'YearBuilt', 'YearRemodAdd',\n",
       "       'RoofStyle', 'RoofMatl', 'Exterior1st', 'Exterior2nd', 'MasVnrType',\n",
       "       'MasVnrArea', 'ExterQual', 'ExterCond', 'Foundation', 'BsmtQual',\n",
       "       'BsmtCond', 'BsmtExposure', 'BsmtFinType1', 'BsmtFinSF1',\n",
       "       'BsmtFinType2', 'BsmtFinSF2', 'BsmtUnfSF', 'TotalBsmtSF', 'Heating',\n",
       "       'HeatingQC', 'CentralAir', 'Electrical', '1stFlrSF', '2ndFlrSF',\n",
       "       'LowQualFinSF', 'GrLivArea', 'BsmtFullBath', 'BsmtHalfBath', 'FullBath',\n",
       "       'HalfBath', 'BedroomAbvGr', 'KitchenAbvGr', 'KitchenQual',\n",
       "       'TotRmsAbvGrd', 'Functional', 'Fireplaces', 'FireplaceQu', 'GarageType',\n",
       "       'GarageYrBlt', 'GarageFinish', 'GarageCars', 'GarageArea', 'GarageQual',\n",
       "       'GarageCond', 'PavedDrive', 'WoodDeckSF', 'OpenPorchSF',\n",
       "       'EnclosedPorch', '3SsnPorch', 'ScreenPorch', 'PoolArea', 'PoolQC',\n",
       "       'Fence', 'MiscFeature', 'MiscVal', 'MoSold', 'YrSold', 'SaleType',\n",
       "       'SaleCondition', 'SalePrice'],\n",
       "      dtype='object')"
      ]
     },
     "execution_count": 5,
     "metadata": {},
     "output_type": "execute_result"
    }
   ],
   "source": [
    "# checking the coloumns in the train dataset\n",
    "housetrain.columns"
   ]
  },
  {
   "cell_type": "code",
   "execution_count": 6,
   "id": "1af95a06",
   "metadata": {},
   "outputs": [
    {
     "data": {
      "text/plain": [
       "Index(['Id', 'MSSubClass', 'MSZoning', 'LotFrontage', 'LotArea', 'Street',\n",
       "       'Alley', 'LotShape', 'LandContour', 'Utilities', 'LotConfig',\n",
       "       'LandSlope', 'Neighborhood', 'Condition1', 'Condition2', 'BldgType',\n",
       "       'HouseStyle', 'OverallQual', 'OverallCond', 'YearBuilt', 'YearRemodAdd',\n",
       "       'RoofStyle', 'RoofMatl', 'Exterior1st', 'Exterior2nd', 'MasVnrType',\n",
       "       'MasVnrArea', 'ExterQual', 'ExterCond', 'Foundation', 'BsmtQual',\n",
       "       'BsmtCond', 'BsmtExposure', 'BsmtFinType1', 'BsmtFinSF1',\n",
       "       'BsmtFinType2', 'BsmtFinSF2', 'BsmtUnfSF', 'TotalBsmtSF', 'Heating',\n",
       "       'HeatingQC', 'CentralAir', 'Electrical', '1stFlrSF', '2ndFlrSF',\n",
       "       'LowQualFinSF', 'GrLivArea', 'BsmtFullBath', 'BsmtHalfBath', 'FullBath',\n",
       "       'HalfBath', 'BedroomAbvGr', 'KitchenAbvGr', 'KitchenQual',\n",
       "       'TotRmsAbvGrd', 'Functional', 'Fireplaces', 'FireplaceQu', 'GarageType',\n",
       "       'GarageYrBlt', 'GarageFinish', 'GarageCars', 'GarageArea', 'GarageQual',\n",
       "       'GarageCond', 'PavedDrive', 'WoodDeckSF', 'OpenPorchSF',\n",
       "       'EnclosedPorch', '3SsnPorch', 'ScreenPorch', 'PoolArea', 'PoolQC',\n",
       "       'Fence', 'MiscFeature', 'MiscVal', 'MoSold', 'YrSold', 'SaleType',\n",
       "       'SaleCondition'],\n",
       "      dtype='object')"
      ]
     },
     "execution_count": 6,
     "metadata": {},
     "output_type": "execute_result"
    }
   ],
   "source": [
    "# checking the columns in the test dataset\n",
    "housetest.columns"
   ]
  },
  {
   "cell_type": "code",
   "execution_count": 7,
   "id": "3b6d1c75",
   "metadata": {},
   "outputs": [
    {
     "data": {
      "text/plain": [
       "Id                 int64\n",
       "MSSubClass         int64\n",
       "MSZoning          object\n",
       "LotFrontage      float64\n",
       "LotArea            int64\n",
       "                  ...   \n",
       "MoSold             int64\n",
       "YrSold             int64\n",
       "SaleType          object\n",
       "SaleCondition     object\n",
       "SalePrice          int64\n",
       "Length: 81, dtype: object"
      ]
     },
     "execution_count": 7,
     "metadata": {},
     "output_type": "execute_result"
    }
   ],
   "source": [
    "# checking the how many types of dataset present in the data\n",
    "housetrain.dtypes "
   ]
  },
  {
   "cell_type": "code",
   "execution_count": 8,
   "id": "1d128858",
   "metadata": {},
   "outputs": [
    {
     "data": {
      "text/plain": [
       "Id                 int64\n",
       "MSSubClass         int64\n",
       "MSZoning          object\n",
       "LotFrontage      float64\n",
       "LotArea            int64\n",
       "                  ...   \n",
       "MiscVal            int64\n",
       "MoSold             int64\n",
       "YrSold             int64\n",
       "SaleType          object\n",
       "SaleCondition     object\n",
       "Length: 80, dtype: object"
      ]
     },
     "execution_count": 8,
     "metadata": {},
     "output_type": "execute_result"
    }
   ],
   "source": [
    "housetest.dtypes"
   ]
  },
  {
   "cell_type": "code",
   "execution_count": 9,
   "id": "a2040f75",
   "metadata": {},
   "outputs": [
    {
     "data": {
      "text/plain": [
       "PoolQC         1453\n",
       "MiscFeature    1406\n",
       "Alley          1369\n",
       "Fence          1179\n",
       "FireplaceQu     690\n",
       "               ... \n",
       "ExterQual         0\n",
       "Exterior2nd       0\n",
       "Exterior1st       0\n",
       "RoofMatl          0\n",
       "SalePrice         0\n",
       "Length: 81, dtype: int64"
      ]
     },
     "execution_count": 9,
     "metadata": {},
     "output_type": "execute_result"
    }
   ],
   "source": [
    "# checking the null values in the train dataset\n",
    "housetrain.isnull().sum().sort_values(ascending=False)"
   ]
  },
  {
   "cell_type": "code",
   "execution_count": 10,
   "id": "ab5b2f37",
   "metadata": {},
   "outputs": [
    {
     "data": {
      "text/plain": [
       "PoolQC           1456\n",
       "MiscFeature      1408\n",
       "Alley            1352\n",
       "Fence            1169\n",
       "FireplaceQu       730\n",
       "                 ... \n",
       "Electrical          0\n",
       "1stFlrSF            0\n",
       "2ndFlrSF            0\n",
       "LowQualFinSF        0\n",
       "SaleCondition       0\n",
       "Length: 80, dtype: int64"
      ]
     },
     "execution_count": 10,
     "metadata": {},
     "output_type": "execute_result"
    }
   ],
   "source": [
    "# checking the null values in the test dataset\n",
    "housetest.isnull().sum().sort_values(ascending=False)"
   ]
  },
  {
   "cell_type": "code",
   "execution_count": 11,
   "id": "5851fdf7",
   "metadata": {},
   "outputs": [],
   "source": [
    "# dropping the dependant variable  \n",
    "housetrain1=housetrain.drop('SalePrice',axis=1)"
   ]
  },
  {
   "cell_type": "code",
   "execution_count": 12,
   "id": "d08a567f",
   "metadata": {},
   "outputs": [],
   "source": [
    "# combining the test and train file\n",
    "combinedata=pd.concat([housetrain1,housetest],axis=0)"
   ]
  },
  {
   "cell_type": "code",
   "execution_count": 13,
   "id": "25900375",
   "metadata": {},
   "outputs": [
    {
     "data": {
      "text/plain": [
       "PoolQC           2909\n",
       "MiscFeature      2814\n",
       "Alley            2721\n",
       "Fence            2348\n",
       "FireplaceQu      1420\n",
       "                 ... \n",
       "CentralAir          0\n",
       "1stFlrSF            0\n",
       "2ndFlrSF            0\n",
       "LowQualFinSF        0\n",
       "SaleCondition       0\n",
       "Length: 80, dtype: int64"
      ]
     },
     "execution_count": 13,
     "metadata": {},
     "output_type": "execute_result"
    }
   ],
   "source": [
    "# checking the null values in combine dataset\n",
    "combinedata.isnull().sum().sort_values(ascending=False)"
   ]
  },
  {
   "cell_type": "code",
   "execution_count": 14,
   "id": "f3f151df",
   "metadata": {},
   "outputs": [
    {
     "name": "stdout",
     "output_type": "stream",
     "text": [
      "(2919, 37)\n",
      "(2919, 43)\n"
     ]
    }
   ],
   "source": [
    "# splitting the combine data on it's types (number and object)\n",
    "numericdata=combinedata.select_dtypes(include=np.number)\n",
    "objectdata=combinedata.select_dtypes(include=np.object)\n",
    "print(numericdata.shape) \n",
    "print(objectdata.shape) "
   ]
  },
  {
   "cell_type": "code",
   "execution_count": 15,
   "id": "f50c5a2d",
   "metadata": {},
   "outputs": [
    {
     "data": {
      "text/plain": [
       "PoolQC           2909\n",
       "MiscFeature      2814\n",
       "Alley            2721\n",
       "Fence            2348\n",
       "FireplaceQu      1420\n",
       "GarageCond        159\n",
       "GarageQual        159\n",
       "GarageFinish      159\n",
       "GarageType        157\n",
       "BsmtExposure       82\n",
       "BsmtCond           82\n",
       "BsmtQual           81\n",
       "BsmtFinType2       80\n",
       "BsmtFinType1       79\n",
       "MasVnrType         24\n",
       "MSZoning            4\n",
       "Utilities           2\n",
       "Functional          2\n",
       "Exterior2nd         1\n",
       "Exterior1st         1\n",
       "SaleType            1\n",
       "KitchenQual         1\n",
       "Electrical          1\n",
       "RoofStyle           0\n",
       "HouseStyle          0\n",
       "ExterQual           0\n",
       "LotShape            0\n",
       "LandContour         0\n",
       "ExterCond           0\n",
       "PavedDrive          0\n",
       "LotConfig           0\n",
       "LandSlope           0\n",
       "Neighborhood        0\n",
       "Condition1          0\n",
       "Condition2          0\n",
       "Foundation          0\n",
       "Street              0\n",
       "RoofMatl            0\n",
       "CentralAir          0\n",
       "HeatingQC           0\n",
       "Heating             0\n",
       "BldgType            0\n",
       "SaleCondition       0\n",
       "dtype: int64"
      ]
     },
     "execution_count": 15,
     "metadata": {},
     "output_type": "execute_result"
    }
   ],
   "source": [
    "# checking the null values in object dataset\n",
    "objectdata.isnull().sum().sort_values(ascending=False)"
   ]
  },
  {
   "cell_type": "code",
   "execution_count": 16,
   "id": "d5f2341f",
   "metadata": {},
   "outputs": [
    {
     "name": "stderr",
     "output_type": "stream",
     "text": [
      "C:\\Users\\rohit\\anaconda3\\lib\\site-packages\\ipykernel_launcher.py:4: SettingWithCopyWarning: \n",
      "A value is trying to be set on a copy of a slice from a DataFrame.\n",
      "Try using .loc[row_indexer,col_indexer] = value instead\n",
      "\n",
      "See the caveats in the documentation: https://pandas.pydata.org/pandas-docs/stable/user_guide/indexing.html#returning-a-view-versus-a-copy\n",
      "  after removing the cwd from sys.path.\n"
     ]
    }
   ],
   "source": [
    "# filling the null values to unknown in object data\n",
    "nonecols=['PoolQC','MiscFeature','Alley','Fence','FireplaceQu']\n",
    "for col in nonecols:\n",
    "    objectdata[col]=objectdata[col].fillna('Unknown')"
   ]
  },
  {
   "cell_type": "code",
   "execution_count": 17,
   "id": "cc6cfaab",
   "metadata": {},
   "outputs": [
    {
     "data": {
      "text/plain": [
       "Unknown    2721\n",
       "Grvl        120\n",
       "Pave         78\n",
       "Name: Alley, dtype: int64"
      ]
     },
     "execution_count": 17,
     "metadata": {},
     "output_type": "execute_result"
    }
   ],
   "source": [
    "# checking if null values filled properly\n",
    "objectdata.Alley.value_counts()"
   ]
  },
  {
   "cell_type": "code",
   "execution_count": 18,
   "id": "bf4b125e",
   "metadata": {},
   "outputs": [],
   "source": [
    "# importing the simple imputer to fill the null values in the object data with it's most frequent with in it's columns \n",
    "from sklearn.impute import SimpleImputer"
   ]
  },
  {
   "cell_type": "code",
   "execution_count": 19,
   "id": "dc60270e",
   "metadata": {},
   "outputs": [],
   "source": [
    "objectimputer=SimpleImputer(missing_values=np.nan,\n",
    "                            strategy='most_frequent')"
   ]
  },
  {
   "cell_type": "code",
   "execution_count": 20,
   "id": "eaef3696",
   "metadata": {},
   "outputs": [],
   "source": [
    "objectdata=objectimputer.fit_transform(objectdata)"
   ]
  },
  {
   "cell_type": "code",
   "execution_count": 21,
   "id": "841a6811",
   "metadata": {},
   "outputs": [],
   "source": [
    "labels=combinedata.select_dtypes(include=np.object).columns"
   ]
  },
  {
   "cell_type": "code",
   "execution_count": 22,
   "id": "98c1763a",
   "metadata": {},
   "outputs": [],
   "source": [
    "objectdatadf=pd.DataFrame(objectdata,columns=labels)"
   ]
  },
  {
   "cell_type": "code",
   "execution_count": 23,
   "id": "1f35aede",
   "metadata": {},
   "outputs": [
    {
     "data": {
      "text/html": [
       "<div>\n",
       "<style scoped>\n",
       "    .dataframe tbody tr th:only-of-type {\n",
       "        vertical-align: middle;\n",
       "    }\n",
       "\n",
       "    .dataframe tbody tr th {\n",
       "        vertical-align: top;\n",
       "    }\n",
       "\n",
       "    .dataframe thead th {\n",
       "        text-align: right;\n",
       "    }\n",
       "</style>\n",
       "<table border=\"1\" class=\"dataframe\">\n",
       "  <thead>\n",
       "    <tr style=\"text-align: right;\">\n",
       "      <th></th>\n",
       "      <th>MSZoning</th>\n",
       "      <th>Street</th>\n",
       "      <th>Alley</th>\n",
       "      <th>LotShape</th>\n",
       "      <th>LandContour</th>\n",
       "      <th>Utilities</th>\n",
       "      <th>LotConfig</th>\n",
       "      <th>LandSlope</th>\n",
       "      <th>Neighborhood</th>\n",
       "      <th>Condition1</th>\n",
       "      <th>...</th>\n",
       "      <th>GarageType</th>\n",
       "      <th>GarageFinish</th>\n",
       "      <th>GarageQual</th>\n",
       "      <th>GarageCond</th>\n",
       "      <th>PavedDrive</th>\n",
       "      <th>PoolQC</th>\n",
       "      <th>Fence</th>\n",
       "      <th>MiscFeature</th>\n",
       "      <th>SaleType</th>\n",
       "      <th>SaleCondition</th>\n",
       "    </tr>\n",
       "  </thead>\n",
       "  <tbody>\n",
       "    <tr>\n",
       "      <th>0</th>\n",
       "      <td>RL</td>\n",
       "      <td>Pave</td>\n",
       "      <td>Unknown</td>\n",
       "      <td>Reg</td>\n",
       "      <td>Lvl</td>\n",
       "      <td>AllPub</td>\n",
       "      <td>Inside</td>\n",
       "      <td>Gtl</td>\n",
       "      <td>CollgCr</td>\n",
       "      <td>Norm</td>\n",
       "      <td>...</td>\n",
       "      <td>Attchd</td>\n",
       "      <td>RFn</td>\n",
       "      <td>TA</td>\n",
       "      <td>TA</td>\n",
       "      <td>Y</td>\n",
       "      <td>Unknown</td>\n",
       "      <td>Unknown</td>\n",
       "      <td>Unknown</td>\n",
       "      <td>WD</td>\n",
       "      <td>Normal</td>\n",
       "    </tr>\n",
       "    <tr>\n",
       "      <th>1</th>\n",
       "      <td>RL</td>\n",
       "      <td>Pave</td>\n",
       "      <td>Unknown</td>\n",
       "      <td>Reg</td>\n",
       "      <td>Lvl</td>\n",
       "      <td>AllPub</td>\n",
       "      <td>FR2</td>\n",
       "      <td>Gtl</td>\n",
       "      <td>Veenker</td>\n",
       "      <td>Feedr</td>\n",
       "      <td>...</td>\n",
       "      <td>Attchd</td>\n",
       "      <td>RFn</td>\n",
       "      <td>TA</td>\n",
       "      <td>TA</td>\n",
       "      <td>Y</td>\n",
       "      <td>Unknown</td>\n",
       "      <td>Unknown</td>\n",
       "      <td>Unknown</td>\n",
       "      <td>WD</td>\n",
       "      <td>Normal</td>\n",
       "    </tr>\n",
       "    <tr>\n",
       "      <th>2</th>\n",
       "      <td>RL</td>\n",
       "      <td>Pave</td>\n",
       "      <td>Unknown</td>\n",
       "      <td>IR1</td>\n",
       "      <td>Lvl</td>\n",
       "      <td>AllPub</td>\n",
       "      <td>Inside</td>\n",
       "      <td>Gtl</td>\n",
       "      <td>CollgCr</td>\n",
       "      <td>Norm</td>\n",
       "      <td>...</td>\n",
       "      <td>Attchd</td>\n",
       "      <td>RFn</td>\n",
       "      <td>TA</td>\n",
       "      <td>TA</td>\n",
       "      <td>Y</td>\n",
       "      <td>Unknown</td>\n",
       "      <td>Unknown</td>\n",
       "      <td>Unknown</td>\n",
       "      <td>WD</td>\n",
       "      <td>Normal</td>\n",
       "    </tr>\n",
       "    <tr>\n",
       "      <th>3</th>\n",
       "      <td>RL</td>\n",
       "      <td>Pave</td>\n",
       "      <td>Unknown</td>\n",
       "      <td>IR1</td>\n",
       "      <td>Lvl</td>\n",
       "      <td>AllPub</td>\n",
       "      <td>Corner</td>\n",
       "      <td>Gtl</td>\n",
       "      <td>Crawfor</td>\n",
       "      <td>Norm</td>\n",
       "      <td>...</td>\n",
       "      <td>Detchd</td>\n",
       "      <td>Unf</td>\n",
       "      <td>TA</td>\n",
       "      <td>TA</td>\n",
       "      <td>Y</td>\n",
       "      <td>Unknown</td>\n",
       "      <td>Unknown</td>\n",
       "      <td>Unknown</td>\n",
       "      <td>WD</td>\n",
       "      <td>Abnorml</td>\n",
       "    </tr>\n",
       "    <tr>\n",
       "      <th>4</th>\n",
       "      <td>RL</td>\n",
       "      <td>Pave</td>\n",
       "      <td>Unknown</td>\n",
       "      <td>IR1</td>\n",
       "      <td>Lvl</td>\n",
       "      <td>AllPub</td>\n",
       "      <td>FR2</td>\n",
       "      <td>Gtl</td>\n",
       "      <td>NoRidge</td>\n",
       "      <td>Norm</td>\n",
       "      <td>...</td>\n",
       "      <td>Attchd</td>\n",
       "      <td>RFn</td>\n",
       "      <td>TA</td>\n",
       "      <td>TA</td>\n",
       "      <td>Y</td>\n",
       "      <td>Unknown</td>\n",
       "      <td>Unknown</td>\n",
       "      <td>Unknown</td>\n",
       "      <td>WD</td>\n",
       "      <td>Normal</td>\n",
       "    </tr>\n",
       "  </tbody>\n",
       "</table>\n",
       "<p>5 rows × 43 columns</p>\n",
       "</div>"
      ],
      "text/plain": [
       "  MSZoning Street    Alley LotShape LandContour Utilities LotConfig LandSlope  \\\n",
       "0       RL   Pave  Unknown      Reg         Lvl    AllPub    Inside       Gtl   \n",
       "1       RL   Pave  Unknown      Reg         Lvl    AllPub       FR2       Gtl   \n",
       "2       RL   Pave  Unknown      IR1         Lvl    AllPub    Inside       Gtl   \n",
       "3       RL   Pave  Unknown      IR1         Lvl    AllPub    Corner       Gtl   \n",
       "4       RL   Pave  Unknown      IR1         Lvl    AllPub       FR2       Gtl   \n",
       "\n",
       "  Neighborhood Condition1  ... GarageType GarageFinish GarageQual GarageCond  \\\n",
       "0      CollgCr       Norm  ...     Attchd          RFn         TA         TA   \n",
       "1      Veenker      Feedr  ...     Attchd          RFn         TA         TA   \n",
       "2      CollgCr       Norm  ...     Attchd          RFn         TA         TA   \n",
       "3      Crawfor       Norm  ...     Detchd          Unf         TA         TA   \n",
       "4      NoRidge       Norm  ...     Attchd          RFn         TA         TA   \n",
       "\n",
       "  PavedDrive   PoolQC    Fence MiscFeature SaleType SaleCondition  \n",
       "0          Y  Unknown  Unknown     Unknown       WD        Normal  \n",
       "1          Y  Unknown  Unknown     Unknown       WD        Normal  \n",
       "2          Y  Unknown  Unknown     Unknown       WD        Normal  \n",
       "3          Y  Unknown  Unknown     Unknown       WD       Abnorml  \n",
       "4          Y  Unknown  Unknown     Unknown       WD        Normal  \n",
       "\n",
       "[5 rows x 43 columns]"
      ]
     },
     "execution_count": 23,
     "metadata": {},
     "output_type": "execute_result"
    }
   ],
   "source": [
    "objectdatadf.head()"
   ]
  },
  {
   "cell_type": "code",
   "execution_count": 24,
   "id": "d279cde8",
   "metadata": {},
   "outputs": [
    {
     "data": {
      "text/plain": [
       "TA    2654\n",
       "Fa      74\n",
       "Gd      15\n",
       "Po      14\n",
       "Ex       3\n",
       "Name: GarageCond, dtype: int64"
      ]
     },
     "execution_count": 24,
     "metadata": {},
     "output_type": "execute_result"
    }
   ],
   "source": [
    "combinedata.GarageCond.value_counts()"
   ]
  },
  {
   "cell_type": "code",
   "execution_count": 25,
   "id": "a90f0a2b",
   "metadata": {},
   "outputs": [
    {
     "data": {
      "text/plain": [
       "Unf    1230\n",
       "RFn     811\n",
       "Fin     719\n",
       "Name: GarageFinish, dtype: int64"
      ]
     },
     "execution_count": 25,
     "metadata": {},
     "output_type": "execute_result"
    }
   ],
   "source": [
    "combinedata.GarageFinish.value_counts()"
   ]
  },
  {
   "cell_type": "code",
   "execution_count": 26,
   "id": "dad0a774",
   "metadata": {},
   "outputs": [
    {
     "data": {
      "text/plain": [
       "TA    2604\n",
       "Fa     124\n",
       "Gd      24\n",
       "Po       5\n",
       "Ex       3\n",
       "Name: GarageQual, dtype: int64"
      ]
     },
     "execution_count": 26,
     "metadata": {},
     "output_type": "execute_result"
    }
   ],
   "source": [
    "combinedata.GarageQual.value_counts()"
   ]
  },
  {
   "cell_type": "code",
   "execution_count": 27,
   "id": "174f571b",
   "metadata": {},
   "outputs": [
    {
     "data": {
      "text/plain": [
       "Grvl    120\n",
       "Pave     78\n",
       "Name: Alley, dtype: int64"
      ]
     },
     "execution_count": 27,
     "metadata": {},
     "output_type": "execute_result"
    }
   ],
   "source": [
    "combinedata.Alley.value_counts()"
   ]
  },
  {
   "cell_type": "code",
   "execution_count": 28,
   "id": "300ac096",
   "metadata": {},
   "outputs": [
    {
     "data": {
      "text/plain": [
       "LotFrontage      486\n",
       "GarageYrBlt      159\n",
       "MasVnrArea        23\n",
       "BsmtHalfBath       2\n",
       "BsmtFullBath       2\n",
       "BsmtFinSF2         1\n",
       "GarageCars         1\n",
       "GarageArea         1\n",
       "TotalBsmtSF        1\n",
       "BsmtUnfSF          1\n",
       "BsmtFinSF1         1\n",
       "KitchenAbvGr       0\n",
       "3SsnPorch          0\n",
       "EnclosedPorch      0\n",
       "OpenPorchSF        0\n",
       "WoodDeckSF         0\n",
       "ScreenPorch        0\n",
       "PoolArea           0\n",
       "MiscVal            0\n",
       "MoSold             0\n",
       "Fireplaces         0\n",
       "TotRmsAbvGrd       0\n",
       "Id                 0\n",
       "BedroomAbvGr       0\n",
       "HalfBath           0\n",
       "FullBath           0\n",
       "MSSubClass         0\n",
       "GrLivArea          0\n",
       "LowQualFinSF       0\n",
       "2ndFlrSF           0\n",
       "1stFlrSF           0\n",
       "YearRemodAdd       0\n",
       "YearBuilt          0\n",
       "OverallCond        0\n",
       "OverallQual        0\n",
       "LotArea            0\n",
       "YrSold             0\n",
       "dtype: int64"
      ]
     },
     "execution_count": 28,
     "metadata": {},
     "output_type": "execute_result"
    }
   ],
   "source": [
    "# checking the null values in the numeric data\n",
    "numericdata.isnull().sum().sort_values(ascending=False)"
   ]
  },
  {
   "cell_type": "code",
   "execution_count": 29,
   "id": "6252a5e5",
   "metadata": {},
   "outputs": [],
   "source": [
    "# filling null values with median with the help of simple imputer for numeric data \n",
    "numericimputer=SimpleImputer(missing_values=np.nan,strategy='median')"
   ]
  },
  {
   "cell_type": "code",
   "execution_count": 30,
   "id": "dd9bca09",
   "metadata": {},
   "outputs": [],
   "source": [
    "numericdata=numericimputer.fit_transform(numericdata)"
   ]
  },
  {
   "cell_type": "code",
   "execution_count": 31,
   "id": "c9b3eba5",
   "metadata": {},
   "outputs": [],
   "source": [
    "numericlabels=combinedata.select_dtypes(include=np.number).columns"
   ]
  },
  {
   "cell_type": "code",
   "execution_count": 32,
   "id": "0294e6bb",
   "metadata": {},
   "outputs": [],
   "source": [
    "numericdatadf=pd.DataFrame(numericdata,columns=numericlabels)"
   ]
  },
  {
   "cell_type": "code",
   "execution_count": 33,
   "id": "4071c431",
   "metadata": {},
   "outputs": [
    {
     "data": {
      "text/html": [
       "<div>\n",
       "<style scoped>\n",
       "    .dataframe tbody tr th:only-of-type {\n",
       "        vertical-align: middle;\n",
       "    }\n",
       "\n",
       "    .dataframe tbody tr th {\n",
       "        vertical-align: top;\n",
       "    }\n",
       "\n",
       "    .dataframe thead th {\n",
       "        text-align: right;\n",
       "    }\n",
       "</style>\n",
       "<table border=\"1\" class=\"dataframe\">\n",
       "  <thead>\n",
       "    <tr style=\"text-align: right;\">\n",
       "      <th></th>\n",
       "      <th>Id</th>\n",
       "      <th>MSSubClass</th>\n",
       "      <th>LotFrontage</th>\n",
       "      <th>LotArea</th>\n",
       "      <th>OverallQual</th>\n",
       "      <th>OverallCond</th>\n",
       "      <th>YearBuilt</th>\n",
       "      <th>YearRemodAdd</th>\n",
       "      <th>MasVnrArea</th>\n",
       "      <th>BsmtFinSF1</th>\n",
       "      <th>...</th>\n",
       "      <th>GarageArea</th>\n",
       "      <th>WoodDeckSF</th>\n",
       "      <th>OpenPorchSF</th>\n",
       "      <th>EnclosedPorch</th>\n",
       "      <th>3SsnPorch</th>\n",
       "      <th>ScreenPorch</th>\n",
       "      <th>PoolArea</th>\n",
       "      <th>MiscVal</th>\n",
       "      <th>MoSold</th>\n",
       "      <th>YrSold</th>\n",
       "    </tr>\n",
       "  </thead>\n",
       "  <tbody>\n",
       "    <tr>\n",
       "      <th>0</th>\n",
       "      <td>1.0</td>\n",
       "      <td>60.0</td>\n",
       "      <td>65.0</td>\n",
       "      <td>8450.0</td>\n",
       "      <td>7.0</td>\n",
       "      <td>5.0</td>\n",
       "      <td>2003.0</td>\n",
       "      <td>2003.0</td>\n",
       "      <td>196.0</td>\n",
       "      <td>706.0</td>\n",
       "      <td>...</td>\n",
       "      <td>548.0</td>\n",
       "      <td>0.0</td>\n",
       "      <td>61.0</td>\n",
       "      <td>0.0</td>\n",
       "      <td>0.0</td>\n",
       "      <td>0.0</td>\n",
       "      <td>0.0</td>\n",
       "      <td>0.0</td>\n",
       "      <td>2.0</td>\n",
       "      <td>2008.0</td>\n",
       "    </tr>\n",
       "    <tr>\n",
       "      <th>1</th>\n",
       "      <td>2.0</td>\n",
       "      <td>20.0</td>\n",
       "      <td>80.0</td>\n",
       "      <td>9600.0</td>\n",
       "      <td>6.0</td>\n",
       "      <td>8.0</td>\n",
       "      <td>1976.0</td>\n",
       "      <td>1976.0</td>\n",
       "      <td>0.0</td>\n",
       "      <td>978.0</td>\n",
       "      <td>...</td>\n",
       "      <td>460.0</td>\n",
       "      <td>298.0</td>\n",
       "      <td>0.0</td>\n",
       "      <td>0.0</td>\n",
       "      <td>0.0</td>\n",
       "      <td>0.0</td>\n",
       "      <td>0.0</td>\n",
       "      <td>0.0</td>\n",
       "      <td>5.0</td>\n",
       "      <td>2007.0</td>\n",
       "    </tr>\n",
       "    <tr>\n",
       "      <th>2</th>\n",
       "      <td>3.0</td>\n",
       "      <td>60.0</td>\n",
       "      <td>68.0</td>\n",
       "      <td>11250.0</td>\n",
       "      <td>7.0</td>\n",
       "      <td>5.0</td>\n",
       "      <td>2001.0</td>\n",
       "      <td>2002.0</td>\n",
       "      <td>162.0</td>\n",
       "      <td>486.0</td>\n",
       "      <td>...</td>\n",
       "      <td>608.0</td>\n",
       "      <td>0.0</td>\n",
       "      <td>42.0</td>\n",
       "      <td>0.0</td>\n",
       "      <td>0.0</td>\n",
       "      <td>0.0</td>\n",
       "      <td>0.0</td>\n",
       "      <td>0.0</td>\n",
       "      <td>9.0</td>\n",
       "      <td>2008.0</td>\n",
       "    </tr>\n",
       "    <tr>\n",
       "      <th>3</th>\n",
       "      <td>4.0</td>\n",
       "      <td>70.0</td>\n",
       "      <td>60.0</td>\n",
       "      <td>9550.0</td>\n",
       "      <td>7.0</td>\n",
       "      <td>5.0</td>\n",
       "      <td>1915.0</td>\n",
       "      <td>1970.0</td>\n",
       "      <td>0.0</td>\n",
       "      <td>216.0</td>\n",
       "      <td>...</td>\n",
       "      <td>642.0</td>\n",
       "      <td>0.0</td>\n",
       "      <td>35.0</td>\n",
       "      <td>272.0</td>\n",
       "      <td>0.0</td>\n",
       "      <td>0.0</td>\n",
       "      <td>0.0</td>\n",
       "      <td>0.0</td>\n",
       "      <td>2.0</td>\n",
       "      <td>2006.0</td>\n",
       "    </tr>\n",
       "    <tr>\n",
       "      <th>4</th>\n",
       "      <td>5.0</td>\n",
       "      <td>60.0</td>\n",
       "      <td>84.0</td>\n",
       "      <td>14260.0</td>\n",
       "      <td>8.0</td>\n",
       "      <td>5.0</td>\n",
       "      <td>2000.0</td>\n",
       "      <td>2000.0</td>\n",
       "      <td>350.0</td>\n",
       "      <td>655.0</td>\n",
       "      <td>...</td>\n",
       "      <td>836.0</td>\n",
       "      <td>192.0</td>\n",
       "      <td>84.0</td>\n",
       "      <td>0.0</td>\n",
       "      <td>0.0</td>\n",
       "      <td>0.0</td>\n",
       "      <td>0.0</td>\n",
       "      <td>0.0</td>\n",
       "      <td>12.0</td>\n",
       "      <td>2008.0</td>\n",
       "    </tr>\n",
       "  </tbody>\n",
       "</table>\n",
       "<p>5 rows × 37 columns</p>\n",
       "</div>"
      ],
      "text/plain": [
       "    Id  MSSubClass  LotFrontage  LotArea  OverallQual  OverallCond  YearBuilt  \\\n",
       "0  1.0        60.0         65.0   8450.0          7.0          5.0     2003.0   \n",
       "1  2.0        20.0         80.0   9600.0          6.0          8.0     1976.0   \n",
       "2  3.0        60.0         68.0  11250.0          7.0          5.0     2001.0   \n",
       "3  4.0        70.0         60.0   9550.0          7.0          5.0     1915.0   \n",
       "4  5.0        60.0         84.0  14260.0          8.0          5.0     2000.0   \n",
       "\n",
       "   YearRemodAdd  MasVnrArea  BsmtFinSF1  ...  GarageArea  WoodDeckSF  \\\n",
       "0        2003.0       196.0       706.0  ...       548.0         0.0   \n",
       "1        1976.0         0.0       978.0  ...       460.0       298.0   \n",
       "2        2002.0       162.0       486.0  ...       608.0         0.0   \n",
       "3        1970.0         0.0       216.0  ...       642.0         0.0   \n",
       "4        2000.0       350.0       655.0  ...       836.0       192.0   \n",
       "\n",
       "   OpenPorchSF  EnclosedPorch  3SsnPorch  ScreenPorch  PoolArea  MiscVal  \\\n",
       "0         61.0            0.0        0.0          0.0       0.0      0.0   \n",
       "1          0.0            0.0        0.0          0.0       0.0      0.0   \n",
       "2         42.0            0.0        0.0          0.0       0.0      0.0   \n",
       "3         35.0          272.0        0.0          0.0       0.0      0.0   \n",
       "4         84.0            0.0        0.0          0.0       0.0      0.0   \n",
       "\n",
       "   MoSold  YrSold  \n",
       "0     2.0  2008.0  \n",
       "1     5.0  2007.0  \n",
       "2     9.0  2008.0  \n",
       "3     2.0  2006.0  \n",
       "4    12.0  2008.0  \n",
       "\n",
       "[5 rows x 37 columns]"
      ]
     },
     "execution_count": 33,
     "metadata": {},
     "output_type": "execute_result"
    }
   ],
   "source": [
    "numericdatadf.head()"
   ]
  },
  {
   "cell_type": "code",
   "execution_count": 34,
   "id": "8c6eefd9",
   "metadata": {},
   "outputs": [
    {
     "data": {
      "text/plain": [
       "Index(['Id', 'MSSubClass', 'LotFrontage', 'LotArea', 'OverallQual',\n",
       "       'OverallCond', 'YearBuilt', 'YearRemodAdd', 'MasVnrArea', 'BsmtFinSF1',\n",
       "       'BsmtFinSF2', 'BsmtUnfSF', 'TotalBsmtSF', '1stFlrSF', '2ndFlrSF',\n",
       "       'LowQualFinSF', 'GrLivArea', 'BsmtFullBath', 'BsmtHalfBath', 'FullBath',\n",
       "       'HalfBath', 'BedroomAbvGr', 'KitchenAbvGr', 'TotRmsAbvGrd',\n",
       "       'Fireplaces', 'GarageYrBlt', 'GarageCars', 'GarageArea', 'WoodDeckSF',\n",
       "       'OpenPorchSF', 'EnclosedPorch', '3SsnPorch', 'ScreenPorch', 'PoolArea',\n",
       "       'MiscVal', 'MoSold', 'YrSold'],\n",
       "      dtype='object')"
      ]
     },
     "execution_count": 34,
     "metadata": {},
     "output_type": "execute_result"
    }
   ],
   "source": [
    "numericdatadf.columns"
   ]
  },
  {
   "cell_type": "code",
   "execution_count": 35,
   "id": "9c94c7f9",
   "metadata": {},
   "outputs": [],
   "source": [
    "# there are some columns which has numerical data but can not act as numerical data so changed (copying) into categocrical data type\n",
    "categoricaldf=numericdatadf[['YearBuilt','YearRemodAdd','GarageYrBlt',\n",
    "                            'MoSold', 'YrSold','OverallQual',\n",
    "                             'OverallCond']]"
   ]
  },
  {
   "cell_type": "code",
   "execution_count": 36,
   "id": "8458c52d",
   "metadata": {},
   "outputs": [],
   "source": [
    "# removing these data from the numerical data\n",
    "numericdatadf=numericdatadf.drop(['YearBuilt','YearRemodAdd','GarageYrBlt',\n",
    "                            'MoSold', 'YrSold','OverallQual',\n",
    "                             'OverallCond'],axis=1)"
   ]
  },
  {
   "cell_type": "code",
   "execution_count": 37,
   "id": "a298b427",
   "metadata": {},
   "outputs": [
    {
     "name": "stdout",
     "output_type": "stream",
     "text": [
      "(2919, 43)\n",
      "(2919, 7)\n",
      "(2919, 30)\n"
     ]
    }
   ],
   "source": [
    "# checking the shape of the all three types of data\n",
    "print(objectdatadf.shape)\n",
    "print(categoricaldf.shape)\n",
    "print(numericdatadf.shape)"
   ]
  },
  {
   "cell_type": "code",
   "execution_count": 38,
   "id": "fb78f573",
   "metadata": {},
   "outputs": [
    {
     "data": {
      "text/html": [
       "<div>\n",
       "<style scoped>\n",
       "    .dataframe tbody tr th:only-of-type {\n",
       "        vertical-align: middle;\n",
       "    }\n",
       "\n",
       "    .dataframe tbody tr th {\n",
       "        vertical-align: top;\n",
       "    }\n",
       "\n",
       "    .dataframe thead th {\n",
       "        text-align: right;\n",
       "    }\n",
       "</style>\n",
       "<table border=\"1\" class=\"dataframe\">\n",
       "  <thead>\n",
       "    <tr style=\"text-align: right;\">\n",
       "      <th></th>\n",
       "      <th>MSZoning</th>\n",
       "      <th>Street</th>\n",
       "      <th>Alley</th>\n",
       "      <th>LotShape</th>\n",
       "      <th>LandContour</th>\n",
       "      <th>Utilities</th>\n",
       "      <th>LotConfig</th>\n",
       "      <th>LandSlope</th>\n",
       "      <th>Neighborhood</th>\n",
       "      <th>Condition1</th>\n",
       "      <th>...</th>\n",
       "      <th>GarageType</th>\n",
       "      <th>GarageFinish</th>\n",
       "      <th>GarageQual</th>\n",
       "      <th>GarageCond</th>\n",
       "      <th>PavedDrive</th>\n",
       "      <th>PoolQC</th>\n",
       "      <th>Fence</th>\n",
       "      <th>MiscFeature</th>\n",
       "      <th>SaleType</th>\n",
       "      <th>SaleCondition</th>\n",
       "    </tr>\n",
       "  </thead>\n",
       "  <tbody>\n",
       "    <tr>\n",
       "      <th>0</th>\n",
       "      <td>RL</td>\n",
       "      <td>Pave</td>\n",
       "      <td>Unknown</td>\n",
       "      <td>Reg</td>\n",
       "      <td>Lvl</td>\n",
       "      <td>AllPub</td>\n",
       "      <td>Inside</td>\n",
       "      <td>Gtl</td>\n",
       "      <td>CollgCr</td>\n",
       "      <td>Norm</td>\n",
       "      <td>...</td>\n",
       "      <td>Attchd</td>\n",
       "      <td>RFn</td>\n",
       "      <td>TA</td>\n",
       "      <td>TA</td>\n",
       "      <td>Y</td>\n",
       "      <td>Unknown</td>\n",
       "      <td>Unknown</td>\n",
       "      <td>Unknown</td>\n",
       "      <td>WD</td>\n",
       "      <td>Normal</td>\n",
       "    </tr>\n",
       "    <tr>\n",
       "      <th>1</th>\n",
       "      <td>RL</td>\n",
       "      <td>Pave</td>\n",
       "      <td>Unknown</td>\n",
       "      <td>Reg</td>\n",
       "      <td>Lvl</td>\n",
       "      <td>AllPub</td>\n",
       "      <td>FR2</td>\n",
       "      <td>Gtl</td>\n",
       "      <td>Veenker</td>\n",
       "      <td>Feedr</td>\n",
       "      <td>...</td>\n",
       "      <td>Attchd</td>\n",
       "      <td>RFn</td>\n",
       "      <td>TA</td>\n",
       "      <td>TA</td>\n",
       "      <td>Y</td>\n",
       "      <td>Unknown</td>\n",
       "      <td>Unknown</td>\n",
       "      <td>Unknown</td>\n",
       "      <td>WD</td>\n",
       "      <td>Normal</td>\n",
       "    </tr>\n",
       "    <tr>\n",
       "      <th>2</th>\n",
       "      <td>RL</td>\n",
       "      <td>Pave</td>\n",
       "      <td>Unknown</td>\n",
       "      <td>IR1</td>\n",
       "      <td>Lvl</td>\n",
       "      <td>AllPub</td>\n",
       "      <td>Inside</td>\n",
       "      <td>Gtl</td>\n",
       "      <td>CollgCr</td>\n",
       "      <td>Norm</td>\n",
       "      <td>...</td>\n",
       "      <td>Attchd</td>\n",
       "      <td>RFn</td>\n",
       "      <td>TA</td>\n",
       "      <td>TA</td>\n",
       "      <td>Y</td>\n",
       "      <td>Unknown</td>\n",
       "      <td>Unknown</td>\n",
       "      <td>Unknown</td>\n",
       "      <td>WD</td>\n",
       "      <td>Normal</td>\n",
       "    </tr>\n",
       "    <tr>\n",
       "      <th>3</th>\n",
       "      <td>RL</td>\n",
       "      <td>Pave</td>\n",
       "      <td>Unknown</td>\n",
       "      <td>IR1</td>\n",
       "      <td>Lvl</td>\n",
       "      <td>AllPub</td>\n",
       "      <td>Corner</td>\n",
       "      <td>Gtl</td>\n",
       "      <td>Crawfor</td>\n",
       "      <td>Norm</td>\n",
       "      <td>...</td>\n",
       "      <td>Detchd</td>\n",
       "      <td>Unf</td>\n",
       "      <td>TA</td>\n",
       "      <td>TA</td>\n",
       "      <td>Y</td>\n",
       "      <td>Unknown</td>\n",
       "      <td>Unknown</td>\n",
       "      <td>Unknown</td>\n",
       "      <td>WD</td>\n",
       "      <td>Abnorml</td>\n",
       "    </tr>\n",
       "    <tr>\n",
       "      <th>4</th>\n",
       "      <td>RL</td>\n",
       "      <td>Pave</td>\n",
       "      <td>Unknown</td>\n",
       "      <td>IR1</td>\n",
       "      <td>Lvl</td>\n",
       "      <td>AllPub</td>\n",
       "      <td>FR2</td>\n",
       "      <td>Gtl</td>\n",
       "      <td>NoRidge</td>\n",
       "      <td>Norm</td>\n",
       "      <td>...</td>\n",
       "      <td>Attchd</td>\n",
       "      <td>RFn</td>\n",
       "      <td>TA</td>\n",
       "      <td>TA</td>\n",
       "      <td>Y</td>\n",
       "      <td>Unknown</td>\n",
       "      <td>Unknown</td>\n",
       "      <td>Unknown</td>\n",
       "      <td>WD</td>\n",
       "      <td>Normal</td>\n",
       "    </tr>\n",
       "  </tbody>\n",
       "</table>\n",
       "<p>5 rows × 43 columns</p>\n",
       "</div>"
      ],
      "text/plain": [
       "  MSZoning Street    Alley LotShape LandContour Utilities LotConfig LandSlope  \\\n",
       "0       RL   Pave  Unknown      Reg         Lvl    AllPub    Inside       Gtl   \n",
       "1       RL   Pave  Unknown      Reg         Lvl    AllPub       FR2       Gtl   \n",
       "2       RL   Pave  Unknown      IR1         Lvl    AllPub    Inside       Gtl   \n",
       "3       RL   Pave  Unknown      IR1         Lvl    AllPub    Corner       Gtl   \n",
       "4       RL   Pave  Unknown      IR1         Lvl    AllPub       FR2       Gtl   \n",
       "\n",
       "  Neighborhood Condition1  ... GarageType GarageFinish GarageQual GarageCond  \\\n",
       "0      CollgCr       Norm  ...     Attchd          RFn         TA         TA   \n",
       "1      Veenker      Feedr  ...     Attchd          RFn         TA         TA   \n",
       "2      CollgCr       Norm  ...     Attchd          RFn         TA         TA   \n",
       "3      Crawfor       Norm  ...     Detchd          Unf         TA         TA   \n",
       "4      NoRidge       Norm  ...     Attchd          RFn         TA         TA   \n",
       "\n",
       "  PavedDrive   PoolQC    Fence MiscFeature SaleType SaleCondition  \n",
       "0          Y  Unknown  Unknown     Unknown       WD        Normal  \n",
       "1          Y  Unknown  Unknown     Unknown       WD        Normal  \n",
       "2          Y  Unknown  Unknown     Unknown       WD        Normal  \n",
       "3          Y  Unknown  Unknown     Unknown       WD       Abnorml  \n",
       "4          Y  Unknown  Unknown     Unknown       WD        Normal  \n",
       "\n",
       "[5 rows x 43 columns]"
      ]
     },
     "execution_count": 38,
     "metadata": {},
     "output_type": "execute_result"
    }
   ],
   "source": [
    "objectdatadf.head()"
   ]
  },
  {
   "cell_type": "code",
   "execution_count": 39,
   "id": "277afac0",
   "metadata": {},
   "outputs": [],
   "source": [
    "# label encoding the object data with Label Encoder\n",
    "from sklearn.preprocessing import LabelEncoder"
   ]
  },
  {
   "cell_type": "code",
   "execution_count": 40,
   "id": "a550c6c5",
   "metadata": {},
   "outputs": [],
   "source": [
    "le=LabelEncoder()"
   ]
  },
  {
   "cell_type": "code",
   "execution_count": 41,
   "id": "ec9b5c2d",
   "metadata": {},
   "outputs": [],
   "source": [
    "objectdatadummy=objectdatadf.apply(le.fit_transform)"
   ]
  },
  {
   "cell_type": "code",
   "execution_count": 42,
   "id": "e4f8ce7b",
   "metadata": {},
   "outputs": [
    {
     "data": {
      "text/html": [
       "<div>\n",
       "<style scoped>\n",
       "    .dataframe tbody tr th:only-of-type {\n",
       "        vertical-align: middle;\n",
       "    }\n",
       "\n",
       "    .dataframe tbody tr th {\n",
       "        vertical-align: top;\n",
       "    }\n",
       "\n",
       "    .dataframe thead th {\n",
       "        text-align: right;\n",
       "    }\n",
       "</style>\n",
       "<table border=\"1\" class=\"dataframe\">\n",
       "  <thead>\n",
       "    <tr style=\"text-align: right;\">\n",
       "      <th></th>\n",
       "      <th>MSZoning</th>\n",
       "      <th>Street</th>\n",
       "      <th>Alley</th>\n",
       "      <th>LotShape</th>\n",
       "      <th>LandContour</th>\n",
       "      <th>Utilities</th>\n",
       "      <th>LotConfig</th>\n",
       "      <th>LandSlope</th>\n",
       "      <th>Neighborhood</th>\n",
       "      <th>Condition1</th>\n",
       "      <th>...</th>\n",
       "      <th>GarageType</th>\n",
       "      <th>GarageFinish</th>\n",
       "      <th>GarageQual</th>\n",
       "      <th>GarageCond</th>\n",
       "      <th>PavedDrive</th>\n",
       "      <th>PoolQC</th>\n",
       "      <th>Fence</th>\n",
       "      <th>MiscFeature</th>\n",
       "      <th>SaleType</th>\n",
       "      <th>SaleCondition</th>\n",
       "    </tr>\n",
       "  </thead>\n",
       "  <tbody>\n",
       "    <tr>\n",
       "      <th>0</th>\n",
       "      <td>3</td>\n",
       "      <td>1</td>\n",
       "      <td>2</td>\n",
       "      <td>3</td>\n",
       "      <td>3</td>\n",
       "      <td>0</td>\n",
       "      <td>4</td>\n",
       "      <td>0</td>\n",
       "      <td>5</td>\n",
       "      <td>2</td>\n",
       "      <td>...</td>\n",
       "      <td>1</td>\n",
       "      <td>1</td>\n",
       "      <td>4</td>\n",
       "      <td>4</td>\n",
       "      <td>2</td>\n",
       "      <td>3</td>\n",
       "      <td>4</td>\n",
       "      <td>4</td>\n",
       "      <td>8</td>\n",
       "      <td>4</td>\n",
       "    </tr>\n",
       "    <tr>\n",
       "      <th>1</th>\n",
       "      <td>3</td>\n",
       "      <td>1</td>\n",
       "      <td>2</td>\n",
       "      <td>3</td>\n",
       "      <td>3</td>\n",
       "      <td>0</td>\n",
       "      <td>2</td>\n",
       "      <td>0</td>\n",
       "      <td>24</td>\n",
       "      <td>1</td>\n",
       "      <td>...</td>\n",
       "      <td>1</td>\n",
       "      <td>1</td>\n",
       "      <td>4</td>\n",
       "      <td>4</td>\n",
       "      <td>2</td>\n",
       "      <td>3</td>\n",
       "      <td>4</td>\n",
       "      <td>4</td>\n",
       "      <td>8</td>\n",
       "      <td>4</td>\n",
       "    </tr>\n",
       "    <tr>\n",
       "      <th>2</th>\n",
       "      <td>3</td>\n",
       "      <td>1</td>\n",
       "      <td>2</td>\n",
       "      <td>0</td>\n",
       "      <td>3</td>\n",
       "      <td>0</td>\n",
       "      <td>4</td>\n",
       "      <td>0</td>\n",
       "      <td>5</td>\n",
       "      <td>2</td>\n",
       "      <td>...</td>\n",
       "      <td>1</td>\n",
       "      <td>1</td>\n",
       "      <td>4</td>\n",
       "      <td>4</td>\n",
       "      <td>2</td>\n",
       "      <td>3</td>\n",
       "      <td>4</td>\n",
       "      <td>4</td>\n",
       "      <td>8</td>\n",
       "      <td>4</td>\n",
       "    </tr>\n",
       "    <tr>\n",
       "      <th>3</th>\n",
       "      <td>3</td>\n",
       "      <td>1</td>\n",
       "      <td>2</td>\n",
       "      <td>0</td>\n",
       "      <td>3</td>\n",
       "      <td>0</td>\n",
       "      <td>0</td>\n",
       "      <td>0</td>\n",
       "      <td>6</td>\n",
       "      <td>2</td>\n",
       "      <td>...</td>\n",
       "      <td>5</td>\n",
       "      <td>2</td>\n",
       "      <td>4</td>\n",
       "      <td>4</td>\n",
       "      <td>2</td>\n",
       "      <td>3</td>\n",
       "      <td>4</td>\n",
       "      <td>4</td>\n",
       "      <td>8</td>\n",
       "      <td>0</td>\n",
       "    </tr>\n",
       "    <tr>\n",
       "      <th>4</th>\n",
       "      <td>3</td>\n",
       "      <td>1</td>\n",
       "      <td>2</td>\n",
       "      <td>0</td>\n",
       "      <td>3</td>\n",
       "      <td>0</td>\n",
       "      <td>2</td>\n",
       "      <td>0</td>\n",
       "      <td>15</td>\n",
       "      <td>2</td>\n",
       "      <td>...</td>\n",
       "      <td>1</td>\n",
       "      <td>1</td>\n",
       "      <td>4</td>\n",
       "      <td>4</td>\n",
       "      <td>2</td>\n",
       "      <td>3</td>\n",
       "      <td>4</td>\n",
       "      <td>4</td>\n",
       "      <td>8</td>\n",
       "      <td>4</td>\n",
       "    </tr>\n",
       "  </tbody>\n",
       "</table>\n",
       "<p>5 rows × 43 columns</p>\n",
       "</div>"
      ],
      "text/plain": [
       "   MSZoning  Street  Alley  LotShape  LandContour  Utilities  LotConfig  \\\n",
       "0         3       1      2         3            3          0          4   \n",
       "1         3       1      2         3            3          0          2   \n",
       "2         3       1      2         0            3          0          4   \n",
       "3         3       1      2         0            3          0          0   \n",
       "4         3       1      2         0            3          0          2   \n",
       "\n",
       "   LandSlope  Neighborhood  Condition1  ...  GarageType  GarageFinish  \\\n",
       "0          0             5           2  ...           1             1   \n",
       "1          0            24           1  ...           1             1   \n",
       "2          0             5           2  ...           1             1   \n",
       "3          0             6           2  ...           5             2   \n",
       "4          0            15           2  ...           1             1   \n",
       "\n",
       "   GarageQual  GarageCond  PavedDrive  PoolQC  Fence  MiscFeature  SaleType  \\\n",
       "0           4           4           2       3      4            4         8   \n",
       "1           4           4           2       3      4            4         8   \n",
       "2           4           4           2       3      4            4         8   \n",
       "3           4           4           2       3      4            4         8   \n",
       "4           4           4           2       3      4            4         8   \n",
       "\n",
       "   SaleCondition  \n",
       "0              4  \n",
       "1              4  \n",
       "2              4  \n",
       "3              0  \n",
       "4              4  \n",
       "\n",
       "[5 rows x 43 columns]"
      ]
     },
     "execution_count": 42,
     "metadata": {},
     "output_type": "execute_result"
    }
   ],
   "source": [
    "objectdatadummy.head()"
   ]
  },
  {
   "cell_type": "code",
   "execution_count": 43,
   "id": "09ce5e85",
   "metadata": {},
   "outputs": [],
   "source": [
    "# Label Encoding the Categorical data\n",
    "categoricaldummy=categoricaldf.apply(le.fit_transform)"
   ]
  },
  {
   "cell_type": "code",
   "execution_count": 44,
   "id": "9c6bb11d",
   "metadata": {},
   "outputs": [],
   "source": [
    "# Combing all the three dataset \n",
    "combineddatafinal=pd.concat([objectdatadummy,categoricaldummy,\n",
    "                             numericdatadf],axis=1)"
   ]
  },
  {
   "cell_type": "code",
   "execution_count": 45,
   "id": "377c455d",
   "metadata": {},
   "outputs": [
    {
     "data": {
      "text/plain": [
       "(2919, 80)"
      ]
     },
     "execution_count": 45,
     "metadata": {},
     "output_type": "execute_result"
    }
   ],
   "source": [
    "# checking shape of the combined data \n",
    "combineddatafinal.shape"
   ]
  },
  {
   "cell_type": "code",
   "execution_count": 46,
   "id": "db57540e",
   "metadata": {},
   "outputs": [
    {
     "data": {
      "text/html": [
       "<div>\n",
       "<style scoped>\n",
       "    .dataframe tbody tr th:only-of-type {\n",
       "        vertical-align: middle;\n",
       "    }\n",
       "\n",
       "    .dataframe tbody tr th {\n",
       "        vertical-align: top;\n",
       "    }\n",
       "\n",
       "    .dataframe thead th {\n",
       "        text-align: right;\n",
       "    }\n",
       "</style>\n",
       "<table border=\"1\" class=\"dataframe\">\n",
       "  <thead>\n",
       "    <tr style=\"text-align: right;\">\n",
       "      <th></th>\n",
       "      <th>MSZoning</th>\n",
       "      <th>Street</th>\n",
       "      <th>Alley</th>\n",
       "      <th>LotShape</th>\n",
       "      <th>LandContour</th>\n",
       "      <th>Utilities</th>\n",
       "      <th>LotConfig</th>\n",
       "      <th>LandSlope</th>\n",
       "      <th>Neighborhood</th>\n",
       "      <th>Condition1</th>\n",
       "      <th>...</th>\n",
       "      <th>Fireplaces</th>\n",
       "      <th>GarageCars</th>\n",
       "      <th>GarageArea</th>\n",
       "      <th>WoodDeckSF</th>\n",
       "      <th>OpenPorchSF</th>\n",
       "      <th>EnclosedPorch</th>\n",
       "      <th>3SsnPorch</th>\n",
       "      <th>ScreenPorch</th>\n",
       "      <th>PoolArea</th>\n",
       "      <th>MiscVal</th>\n",
       "    </tr>\n",
       "  </thead>\n",
       "  <tbody>\n",
       "    <tr>\n",
       "      <th>0</th>\n",
       "      <td>3</td>\n",
       "      <td>1</td>\n",
       "      <td>2</td>\n",
       "      <td>3</td>\n",
       "      <td>3</td>\n",
       "      <td>0</td>\n",
       "      <td>4</td>\n",
       "      <td>0</td>\n",
       "      <td>5</td>\n",
       "      <td>2</td>\n",
       "      <td>...</td>\n",
       "      <td>0.0</td>\n",
       "      <td>2.0</td>\n",
       "      <td>548.0</td>\n",
       "      <td>0.0</td>\n",
       "      <td>61.0</td>\n",
       "      <td>0.0</td>\n",
       "      <td>0.0</td>\n",
       "      <td>0.0</td>\n",
       "      <td>0.0</td>\n",
       "      <td>0.0</td>\n",
       "    </tr>\n",
       "    <tr>\n",
       "      <th>1</th>\n",
       "      <td>3</td>\n",
       "      <td>1</td>\n",
       "      <td>2</td>\n",
       "      <td>3</td>\n",
       "      <td>3</td>\n",
       "      <td>0</td>\n",
       "      <td>2</td>\n",
       "      <td>0</td>\n",
       "      <td>24</td>\n",
       "      <td>1</td>\n",
       "      <td>...</td>\n",
       "      <td>1.0</td>\n",
       "      <td>2.0</td>\n",
       "      <td>460.0</td>\n",
       "      <td>298.0</td>\n",
       "      <td>0.0</td>\n",
       "      <td>0.0</td>\n",
       "      <td>0.0</td>\n",
       "      <td>0.0</td>\n",
       "      <td>0.0</td>\n",
       "      <td>0.0</td>\n",
       "    </tr>\n",
       "    <tr>\n",
       "      <th>2</th>\n",
       "      <td>3</td>\n",
       "      <td>1</td>\n",
       "      <td>2</td>\n",
       "      <td>0</td>\n",
       "      <td>3</td>\n",
       "      <td>0</td>\n",
       "      <td>4</td>\n",
       "      <td>0</td>\n",
       "      <td>5</td>\n",
       "      <td>2</td>\n",
       "      <td>...</td>\n",
       "      <td>1.0</td>\n",
       "      <td>2.0</td>\n",
       "      <td>608.0</td>\n",
       "      <td>0.0</td>\n",
       "      <td>42.0</td>\n",
       "      <td>0.0</td>\n",
       "      <td>0.0</td>\n",
       "      <td>0.0</td>\n",
       "      <td>0.0</td>\n",
       "      <td>0.0</td>\n",
       "    </tr>\n",
       "    <tr>\n",
       "      <th>3</th>\n",
       "      <td>3</td>\n",
       "      <td>1</td>\n",
       "      <td>2</td>\n",
       "      <td>0</td>\n",
       "      <td>3</td>\n",
       "      <td>0</td>\n",
       "      <td>0</td>\n",
       "      <td>0</td>\n",
       "      <td>6</td>\n",
       "      <td>2</td>\n",
       "      <td>...</td>\n",
       "      <td>1.0</td>\n",
       "      <td>3.0</td>\n",
       "      <td>642.0</td>\n",
       "      <td>0.0</td>\n",
       "      <td>35.0</td>\n",
       "      <td>272.0</td>\n",
       "      <td>0.0</td>\n",
       "      <td>0.0</td>\n",
       "      <td>0.0</td>\n",
       "      <td>0.0</td>\n",
       "    </tr>\n",
       "    <tr>\n",
       "      <th>4</th>\n",
       "      <td>3</td>\n",
       "      <td>1</td>\n",
       "      <td>2</td>\n",
       "      <td>0</td>\n",
       "      <td>3</td>\n",
       "      <td>0</td>\n",
       "      <td>2</td>\n",
       "      <td>0</td>\n",
       "      <td>15</td>\n",
       "      <td>2</td>\n",
       "      <td>...</td>\n",
       "      <td>1.0</td>\n",
       "      <td>3.0</td>\n",
       "      <td>836.0</td>\n",
       "      <td>192.0</td>\n",
       "      <td>84.0</td>\n",
       "      <td>0.0</td>\n",
       "      <td>0.0</td>\n",
       "      <td>0.0</td>\n",
       "      <td>0.0</td>\n",
       "      <td>0.0</td>\n",
       "    </tr>\n",
       "  </tbody>\n",
       "</table>\n",
       "<p>5 rows × 80 columns</p>\n",
       "</div>"
      ],
      "text/plain": [
       "   MSZoning  Street  Alley  LotShape  LandContour  Utilities  LotConfig  \\\n",
       "0         3       1      2         3            3          0          4   \n",
       "1         3       1      2         3            3          0          2   \n",
       "2         3       1      2         0            3          0          4   \n",
       "3         3       1      2         0            3          0          0   \n",
       "4         3       1      2         0            3          0          2   \n",
       "\n",
       "   LandSlope  Neighborhood  Condition1  ...  Fireplaces  GarageCars  \\\n",
       "0          0             5           2  ...         0.0         2.0   \n",
       "1          0            24           1  ...         1.0         2.0   \n",
       "2          0             5           2  ...         1.0         2.0   \n",
       "3          0             6           2  ...         1.0         3.0   \n",
       "4          0            15           2  ...         1.0         3.0   \n",
       "\n",
       "   GarageArea  WoodDeckSF  OpenPorchSF  EnclosedPorch  3SsnPorch  ScreenPorch  \\\n",
       "0       548.0         0.0         61.0            0.0        0.0          0.0   \n",
       "1       460.0       298.0          0.0            0.0        0.0          0.0   \n",
       "2       608.0         0.0         42.0            0.0        0.0          0.0   \n",
       "3       642.0         0.0         35.0          272.0        0.0          0.0   \n",
       "4       836.0       192.0         84.0            0.0        0.0          0.0   \n",
       "\n",
       "   PoolArea  MiscVal  \n",
       "0       0.0      0.0  \n",
       "1       0.0      0.0  \n",
       "2       0.0      0.0  \n",
       "3       0.0      0.0  \n",
       "4       0.0      0.0  \n",
       "\n",
       "[5 rows x 80 columns]"
      ]
     },
     "execution_count": 46,
     "metadata": {},
     "output_type": "execute_result"
    }
   ],
   "source": [
    "combineddatafinal.head()"
   ]
  },
  {
   "cell_type": "code",
   "execution_count": 47,
   "id": "f9b6ecc0",
   "metadata": {},
   "outputs": [],
   "source": [
    "from sklearn.impute import SimpleImputer"
   ]
  },
  {
   "cell_type": "code",
   "execution_count": 48,
   "id": "66853832",
   "metadata": {},
   "outputs": [],
   "source": [
    "imputer=SimpleImputer(missing_values=np.nan, strategy='most_frequent')"
   ]
  },
  {
   "cell_type": "code",
   "execution_count": 49,
   "id": "b985bef3",
   "metadata": {},
   "outputs": [],
   "source": [
    "combinedata=combinedata.T.drop_duplicates().T"
   ]
  },
  {
   "cell_type": "code",
   "execution_count": 50,
   "id": "942126cd",
   "metadata": {},
   "outputs": [
    {
     "name": "stdout",
     "output_type": "stream",
     "text": [
      "(2919, 80)\n"
     ]
    }
   ],
   "source": [
    "print(combinedata.shape)"
   ]
  },
  {
   "cell_type": "code",
   "execution_count": 51,
   "id": "41077857",
   "metadata": {},
   "outputs": [
    {
     "data": {
      "text/html": [
       "<div>\n",
       "<style scoped>\n",
       "    .dataframe tbody tr th:only-of-type {\n",
       "        vertical-align: middle;\n",
       "    }\n",
       "\n",
       "    .dataframe tbody tr th {\n",
       "        vertical-align: top;\n",
       "    }\n",
       "\n",
       "    .dataframe thead th {\n",
       "        text-align: right;\n",
       "    }\n",
       "</style>\n",
       "<table border=\"1\" class=\"dataframe\">\n",
       "  <thead>\n",
       "    <tr style=\"text-align: right;\">\n",
       "      <th></th>\n",
       "      <th>Id</th>\n",
       "      <th>MSSubClass</th>\n",
       "      <th>MSZoning</th>\n",
       "      <th>LotFrontage</th>\n",
       "      <th>LotArea</th>\n",
       "      <th>Street</th>\n",
       "      <th>Alley</th>\n",
       "      <th>LotShape</th>\n",
       "      <th>LandContour</th>\n",
       "      <th>Utilities</th>\n",
       "      <th>...</th>\n",
       "      <th>ScreenPorch</th>\n",
       "      <th>PoolArea</th>\n",
       "      <th>PoolQC</th>\n",
       "      <th>Fence</th>\n",
       "      <th>MiscFeature</th>\n",
       "      <th>MiscVal</th>\n",
       "      <th>MoSold</th>\n",
       "      <th>YrSold</th>\n",
       "      <th>SaleType</th>\n",
       "      <th>SaleCondition</th>\n",
       "    </tr>\n",
       "  </thead>\n",
       "  <tbody>\n",
       "    <tr>\n",
       "      <th>0</th>\n",
       "      <td>1</td>\n",
       "      <td>60</td>\n",
       "      <td>RL</td>\n",
       "      <td>65.0</td>\n",
       "      <td>8450</td>\n",
       "      <td>Pave</td>\n",
       "      <td>NaN</td>\n",
       "      <td>Reg</td>\n",
       "      <td>Lvl</td>\n",
       "      <td>AllPub</td>\n",
       "      <td>...</td>\n",
       "      <td>0</td>\n",
       "      <td>0</td>\n",
       "      <td>NaN</td>\n",
       "      <td>NaN</td>\n",
       "      <td>NaN</td>\n",
       "      <td>0</td>\n",
       "      <td>2</td>\n",
       "      <td>2008</td>\n",
       "      <td>WD</td>\n",
       "      <td>Normal</td>\n",
       "    </tr>\n",
       "    <tr>\n",
       "      <th>1</th>\n",
       "      <td>2</td>\n",
       "      <td>20</td>\n",
       "      <td>RL</td>\n",
       "      <td>80.0</td>\n",
       "      <td>9600</td>\n",
       "      <td>Pave</td>\n",
       "      <td>NaN</td>\n",
       "      <td>Reg</td>\n",
       "      <td>Lvl</td>\n",
       "      <td>AllPub</td>\n",
       "      <td>...</td>\n",
       "      <td>0</td>\n",
       "      <td>0</td>\n",
       "      <td>NaN</td>\n",
       "      <td>NaN</td>\n",
       "      <td>NaN</td>\n",
       "      <td>0</td>\n",
       "      <td>5</td>\n",
       "      <td>2007</td>\n",
       "      <td>WD</td>\n",
       "      <td>Normal</td>\n",
       "    </tr>\n",
       "    <tr>\n",
       "      <th>2</th>\n",
       "      <td>3</td>\n",
       "      <td>60</td>\n",
       "      <td>RL</td>\n",
       "      <td>68.0</td>\n",
       "      <td>11250</td>\n",
       "      <td>Pave</td>\n",
       "      <td>NaN</td>\n",
       "      <td>IR1</td>\n",
       "      <td>Lvl</td>\n",
       "      <td>AllPub</td>\n",
       "      <td>...</td>\n",
       "      <td>0</td>\n",
       "      <td>0</td>\n",
       "      <td>NaN</td>\n",
       "      <td>NaN</td>\n",
       "      <td>NaN</td>\n",
       "      <td>0</td>\n",
       "      <td>9</td>\n",
       "      <td>2008</td>\n",
       "      <td>WD</td>\n",
       "      <td>Normal</td>\n",
       "    </tr>\n",
       "    <tr>\n",
       "      <th>3</th>\n",
       "      <td>4</td>\n",
       "      <td>70</td>\n",
       "      <td>RL</td>\n",
       "      <td>60.0</td>\n",
       "      <td>9550</td>\n",
       "      <td>Pave</td>\n",
       "      <td>NaN</td>\n",
       "      <td>IR1</td>\n",
       "      <td>Lvl</td>\n",
       "      <td>AllPub</td>\n",
       "      <td>...</td>\n",
       "      <td>0</td>\n",
       "      <td>0</td>\n",
       "      <td>NaN</td>\n",
       "      <td>NaN</td>\n",
       "      <td>NaN</td>\n",
       "      <td>0</td>\n",
       "      <td>2</td>\n",
       "      <td>2006</td>\n",
       "      <td>WD</td>\n",
       "      <td>Abnorml</td>\n",
       "    </tr>\n",
       "    <tr>\n",
       "      <th>4</th>\n",
       "      <td>5</td>\n",
       "      <td>60</td>\n",
       "      <td>RL</td>\n",
       "      <td>84.0</td>\n",
       "      <td>14260</td>\n",
       "      <td>Pave</td>\n",
       "      <td>NaN</td>\n",
       "      <td>IR1</td>\n",
       "      <td>Lvl</td>\n",
       "      <td>AllPub</td>\n",
       "      <td>...</td>\n",
       "      <td>0</td>\n",
       "      <td>0</td>\n",
       "      <td>NaN</td>\n",
       "      <td>NaN</td>\n",
       "      <td>NaN</td>\n",
       "      <td>0</td>\n",
       "      <td>12</td>\n",
       "      <td>2008</td>\n",
       "      <td>WD</td>\n",
       "      <td>Normal</td>\n",
       "    </tr>\n",
       "    <tr>\n",
       "      <th>...</th>\n",
       "      <td>...</td>\n",
       "      <td>...</td>\n",
       "      <td>...</td>\n",
       "      <td>...</td>\n",
       "      <td>...</td>\n",
       "      <td>...</td>\n",
       "      <td>...</td>\n",
       "      <td>...</td>\n",
       "      <td>...</td>\n",
       "      <td>...</td>\n",
       "      <td>...</td>\n",
       "      <td>...</td>\n",
       "      <td>...</td>\n",
       "      <td>...</td>\n",
       "      <td>...</td>\n",
       "      <td>...</td>\n",
       "      <td>...</td>\n",
       "      <td>...</td>\n",
       "      <td>...</td>\n",
       "      <td>...</td>\n",
       "      <td>...</td>\n",
       "    </tr>\n",
       "    <tr>\n",
       "      <th>1454</th>\n",
       "      <td>2915</td>\n",
       "      <td>160</td>\n",
       "      <td>RM</td>\n",
       "      <td>21.0</td>\n",
       "      <td>1936</td>\n",
       "      <td>Pave</td>\n",
       "      <td>NaN</td>\n",
       "      <td>Reg</td>\n",
       "      <td>Lvl</td>\n",
       "      <td>AllPub</td>\n",
       "      <td>...</td>\n",
       "      <td>0</td>\n",
       "      <td>0</td>\n",
       "      <td>NaN</td>\n",
       "      <td>NaN</td>\n",
       "      <td>NaN</td>\n",
       "      <td>0</td>\n",
       "      <td>6</td>\n",
       "      <td>2006</td>\n",
       "      <td>WD</td>\n",
       "      <td>Normal</td>\n",
       "    </tr>\n",
       "    <tr>\n",
       "      <th>1455</th>\n",
       "      <td>2916</td>\n",
       "      <td>160</td>\n",
       "      <td>RM</td>\n",
       "      <td>21.0</td>\n",
       "      <td>1894</td>\n",
       "      <td>Pave</td>\n",
       "      <td>NaN</td>\n",
       "      <td>Reg</td>\n",
       "      <td>Lvl</td>\n",
       "      <td>AllPub</td>\n",
       "      <td>...</td>\n",
       "      <td>0</td>\n",
       "      <td>0</td>\n",
       "      <td>NaN</td>\n",
       "      <td>NaN</td>\n",
       "      <td>NaN</td>\n",
       "      <td>0</td>\n",
       "      <td>4</td>\n",
       "      <td>2006</td>\n",
       "      <td>WD</td>\n",
       "      <td>Abnorml</td>\n",
       "    </tr>\n",
       "    <tr>\n",
       "      <th>1456</th>\n",
       "      <td>2917</td>\n",
       "      <td>20</td>\n",
       "      <td>RL</td>\n",
       "      <td>160.0</td>\n",
       "      <td>20000</td>\n",
       "      <td>Pave</td>\n",
       "      <td>NaN</td>\n",
       "      <td>Reg</td>\n",
       "      <td>Lvl</td>\n",
       "      <td>AllPub</td>\n",
       "      <td>...</td>\n",
       "      <td>0</td>\n",
       "      <td>0</td>\n",
       "      <td>NaN</td>\n",
       "      <td>NaN</td>\n",
       "      <td>NaN</td>\n",
       "      <td>0</td>\n",
       "      <td>9</td>\n",
       "      <td>2006</td>\n",
       "      <td>WD</td>\n",
       "      <td>Abnorml</td>\n",
       "    </tr>\n",
       "    <tr>\n",
       "      <th>1457</th>\n",
       "      <td>2918</td>\n",
       "      <td>85</td>\n",
       "      <td>RL</td>\n",
       "      <td>62.0</td>\n",
       "      <td>10441</td>\n",
       "      <td>Pave</td>\n",
       "      <td>NaN</td>\n",
       "      <td>Reg</td>\n",
       "      <td>Lvl</td>\n",
       "      <td>AllPub</td>\n",
       "      <td>...</td>\n",
       "      <td>0</td>\n",
       "      <td>0</td>\n",
       "      <td>NaN</td>\n",
       "      <td>MnPrv</td>\n",
       "      <td>Shed</td>\n",
       "      <td>700</td>\n",
       "      <td>7</td>\n",
       "      <td>2006</td>\n",
       "      <td>WD</td>\n",
       "      <td>Normal</td>\n",
       "    </tr>\n",
       "    <tr>\n",
       "      <th>1458</th>\n",
       "      <td>2919</td>\n",
       "      <td>60</td>\n",
       "      <td>RL</td>\n",
       "      <td>74.0</td>\n",
       "      <td>9627</td>\n",
       "      <td>Pave</td>\n",
       "      <td>NaN</td>\n",
       "      <td>Reg</td>\n",
       "      <td>Lvl</td>\n",
       "      <td>AllPub</td>\n",
       "      <td>...</td>\n",
       "      <td>0</td>\n",
       "      <td>0</td>\n",
       "      <td>NaN</td>\n",
       "      <td>NaN</td>\n",
       "      <td>NaN</td>\n",
       "      <td>0</td>\n",
       "      <td>11</td>\n",
       "      <td>2006</td>\n",
       "      <td>WD</td>\n",
       "      <td>Normal</td>\n",
       "    </tr>\n",
       "  </tbody>\n",
       "</table>\n",
       "<p>2919 rows × 80 columns</p>\n",
       "</div>"
      ],
      "text/plain": [
       "        Id MSSubClass MSZoning LotFrontage LotArea Street Alley LotShape  \\\n",
       "0        1         60       RL        65.0    8450   Pave   NaN      Reg   \n",
       "1        2         20       RL        80.0    9600   Pave   NaN      Reg   \n",
       "2        3         60       RL        68.0   11250   Pave   NaN      IR1   \n",
       "3        4         70       RL        60.0    9550   Pave   NaN      IR1   \n",
       "4        5         60       RL        84.0   14260   Pave   NaN      IR1   \n",
       "...    ...        ...      ...         ...     ...    ...   ...      ...   \n",
       "1454  2915        160       RM        21.0    1936   Pave   NaN      Reg   \n",
       "1455  2916        160       RM        21.0    1894   Pave   NaN      Reg   \n",
       "1456  2917         20       RL       160.0   20000   Pave   NaN      Reg   \n",
       "1457  2918         85       RL        62.0   10441   Pave   NaN      Reg   \n",
       "1458  2919         60       RL        74.0    9627   Pave   NaN      Reg   \n",
       "\n",
       "     LandContour Utilities  ... ScreenPorch PoolArea PoolQC  Fence  \\\n",
       "0            Lvl    AllPub  ...           0        0    NaN    NaN   \n",
       "1            Lvl    AllPub  ...           0        0    NaN    NaN   \n",
       "2            Lvl    AllPub  ...           0        0    NaN    NaN   \n",
       "3            Lvl    AllPub  ...           0        0    NaN    NaN   \n",
       "4            Lvl    AllPub  ...           0        0    NaN    NaN   \n",
       "...          ...       ...  ...         ...      ...    ...    ...   \n",
       "1454         Lvl    AllPub  ...           0        0    NaN    NaN   \n",
       "1455         Lvl    AllPub  ...           0        0    NaN    NaN   \n",
       "1456         Lvl    AllPub  ...           0        0    NaN    NaN   \n",
       "1457         Lvl    AllPub  ...           0        0    NaN  MnPrv   \n",
       "1458         Lvl    AllPub  ...           0        0    NaN    NaN   \n",
       "\n",
       "     MiscFeature MiscVal MoSold YrSold SaleType SaleCondition  \n",
       "0            NaN       0      2   2008       WD        Normal  \n",
       "1            NaN       0      5   2007       WD        Normal  \n",
       "2            NaN       0      9   2008       WD        Normal  \n",
       "3            NaN       0      2   2006       WD       Abnorml  \n",
       "4            NaN       0     12   2008       WD        Normal  \n",
       "...          ...     ...    ...    ...      ...           ...  \n",
       "1454         NaN       0      6   2006       WD        Normal  \n",
       "1455         NaN       0      4   2006       WD       Abnorml  \n",
       "1456         NaN       0      9   2006       WD       Abnorml  \n",
       "1457        Shed     700      7   2006       WD        Normal  \n",
       "1458         NaN       0     11   2006       WD        Normal  \n",
       "\n",
       "[2919 rows x 80 columns]"
      ]
     },
     "execution_count": 51,
     "metadata": {},
     "output_type": "execute_result"
    }
   ],
   "source": [
    "combinedata[(combinedata!=0).any(axis=1)]"
   ]
  },
  {
   "cell_type": "code",
   "execution_count": 52,
   "id": "94b92d54",
   "metadata": {},
   "outputs": [
    {
     "data": {
      "text/plain": [
       "<AxesSubplot:>"
      ]
     },
     "execution_count": 52,
     "metadata": {},
     "output_type": "execute_result"
    },
    {
     "data": {
      "image/png": "[encoded data removed]",
      "text/plain": [
       "<Figure size 432x288 with 1 Axes>"
      ]
     },
     "metadata": {
      "needs_background": "light"
     },
     "output_type": "display_data"
    }
   ],
   "source": [
    "# checking the outliers in dependant variable\n",
    "housetrain.SalePrice.plot(kind='box',vert=False)"
   ]
  },
  {
   "cell_type": "code",
   "execution_count": 53,
   "id": "ed06a170",
   "metadata": {},
   "outputs": [
    {
     "data": {
      "text/plain": [
       "<AxesSubplot:>"
      ]
     },
     "execution_count": 53,
     "metadata": {},
     "output_type": "execute_result"
    },
    {
     "data": {
      "image/png": "[encoded data removed]",
      "text/plain": [
       "<Figure size 432x288 with 1 Axes>"
      ]
     },
     "metadata": {
      "needs_background": "light"
     },
     "output_type": "display_data"
    }
   ],
   "source": [
    "# correcting the right skewness with the logarithamic function, not removed the outliers\n",
    "np.log(housetrain.SalePrice).plot(kind='box',vert=False)"
   ]
  },
  {
   "cell_type": "code",
   "execution_count": 54,
   "id": "6d470388",
   "metadata": {},
   "outputs": [],
   "source": [
    "# transforming the dataset values with the help of Standard Scaler in which the mean value is 0 and std deviation value is 1\n",
    "# for practice purpose, try the dataset changing in the MinMax Scaler and Robust Scaler\n",
    "from sklearn.preprocessing import StandardScaler"
   ]
  },
  {
   "cell_type": "code",
   "execution_count": 55,
   "id": "ea3bca2a",
   "metadata": {},
   "outputs": [],
   "source": [
    "scaler=StandardScaler()"
   ]
  },
  {
   "cell_type": "code",
   "execution_count": 56,
   "id": "895da0cf",
   "metadata": {},
   "outputs": [],
   "source": [
    "combineddatafinal=combineddatafinal.drop('Id',axis=1)"
   ]
  },
  {
   "cell_type": "code",
   "execution_count": 57,
   "id": "bd5d162f",
   "metadata": {},
   "outputs": [],
   "source": [
    "scaleddata=scaler.fit_transform(combineddatafinal)"
   ]
  },
  {
   "cell_type": "code",
   "execution_count": 58,
   "id": "4f44a834",
   "metadata": {},
   "outputs": [
    {
     "data": {
      "text/plain": [
       "array([[-0.04215657,  0.06424926,  0.25728307, ..., -0.28593546,\n",
       "        -0.06315017, -0.08959196],\n",
       "       [-0.04215657,  0.06424926,  0.25728307, ..., -0.28593546,\n",
       "        -0.06315017, -0.08959196],\n",
       "       [-0.04215657,  0.06424926,  0.25728307, ..., -0.28593546,\n",
       "        -0.06315017, -0.08959196],\n",
       "       ...,\n",
       "       [-0.04215657,  0.06424926,  0.25728307, ..., -0.28593546,\n",
       "        -0.06315017, -0.08959196],\n",
       "       [-0.04215657,  0.06424926,  0.25728307, ..., -0.28593546,\n",
       "        -0.06315017,  1.14431218],\n",
       "       [-0.04215657,  0.06424926,  0.25728307, ..., -0.28593546,\n",
       "        -0.06315017, -0.08959196]])"
      ]
     },
     "execution_count": 58,
     "metadata": {},
     "output_type": "execute_result"
    }
   ],
   "source": [
    "scaleddata"
   ]
  },
  {
   "cell_type": "code",
   "execution_count": 59,
   "id": "930086da",
   "metadata": {},
   "outputs": [],
   "source": [
    "# applying Min-Max Scaler changes data into 0 to 1 range\n",
    "from sklearn.preprocessing import MinMaxScaler"
   ]
  },
  {
   "cell_type": "code",
   "execution_count": 60,
   "id": "e629ae3d",
   "metadata": {},
   "outputs": [],
   "source": [
    "normalize=MinMaxScaler()"
   ]
  },
  {
   "cell_type": "code",
   "execution_count": 61,
   "id": "77012648",
   "metadata": {},
   "outputs": [],
   "source": [
    "normalizedata=normalize.fit_transform(combineddatafinal)"
   ]
  },
  {
   "cell_type": "code",
   "execution_count": 62,
   "id": "3e3ce603",
   "metadata": {},
   "outputs": [
    {
     "data": {
      "text/plain": [
       "array([[0.75      , 1.        , 1.        , ..., 0.        , 0.        ,\n",
       "        0.        ],\n",
       "       [0.75      , 1.        , 1.        , ..., 0.        , 0.        ,\n",
       "        0.        ],\n",
       "       [0.75      , 1.        , 1.        , ..., 0.        , 0.        ,\n",
       "        0.        ],\n",
       "       ...,\n",
       "       [0.75      , 1.        , 1.        , ..., 0.        , 0.        ,\n",
       "        0.        ],\n",
       "       [0.75      , 1.        , 1.        , ..., 0.        , 0.        ,\n",
       "        0.04117647],\n",
       "       [0.75      , 1.        , 1.        , ..., 0.        , 0.        ,\n",
       "        0.        ]])"
      ]
     },
     "execution_count": 62,
     "metadata": {},
     "output_type": "execute_result"
    }
   ],
   "source": [
    "normalizedata"
   ]
  },
  {
   "cell_type": "code",
   "execution_count": 63,
   "id": "96b8d041",
   "metadata": {},
   "outputs": [],
   "source": [
    "# applying Robust scaler it works on the interquartile range to standardize the data \n",
    "from sklearn.preprocessing import RobustScaler"
   ]
  },
  {
   "cell_type": "code",
   "execution_count": 64,
   "id": "265a97ac",
   "metadata": {},
   "outputs": [],
   "source": [
    "robust=RobustScaler()"
   ]
  },
  {
   "cell_type": "code",
   "execution_count": 65,
   "id": "2b324302",
   "metadata": {},
   "outputs": [],
   "source": [
    "robustdata=robust.fit_transform(combineddatafinal)"
   ]
  },
  {
   "cell_type": "code",
   "execution_count": 66,
   "id": "aa917cf2",
   "metadata": {},
   "outputs": [
    {
     "data": {
      "text/plain": [
       "array([[  0.,   0.,   0., ...,   0.,   0.,   0.],\n",
       "       [  0.,   0.,   0., ...,   0.,   0.,   0.],\n",
       "       [  0.,   0.,   0., ...,   0.,   0.,   0.],\n",
       "       ...,\n",
       "       [  0.,   0.,   0., ...,   0.,   0.,   0.],\n",
       "       [  0.,   0.,   0., ...,   0.,   0., 700.],\n",
       "       [  0.,   0.,   0., ...,   0.,   0.,   0.]])"
      ]
     },
     "execution_count": 66,
     "metadata": {},
     "output_type": "execute_result"
    }
   ],
   "source": [
    "robustdata"
   ]
  },
  {
   "cell_type": "code",
   "execution_count": 67,
   "id": "dca7a962",
   "metadata": {},
   "outputs": [
    {
     "name": "stdout",
     "output_type": "stream",
     "text": [
      "(1460, 79)\n",
      "(1459, 79)\n"
     ]
    }
   ],
   "source": [
    "# spiliting the data into train test data\n",
    "housetraindf=combineddatafinal[0:1460]\n",
    "print(housetraindf.shape)\n",
    "housetestdf=combineddatafinal[1460:2919]\n",
    "print(housetestdf.shape)"
   ]
  },
  {
   "cell_type": "code",
   "execution_count": 68,
   "id": "579b3339",
   "metadata": {},
   "outputs": [],
   "source": [
    "combineddatafinal['SalePrice']=housetrain.SalePrice"
   ]
  },
  {
   "cell_type": "code",
   "execution_count": 69,
   "id": "c5bb323b",
   "metadata": {},
   "outputs": [
    {
     "data": {
      "text/plain": [
       "4    1645\n",
       "5     531\n",
       "6     390\n",
       "7     144\n",
       "3     101\n",
       "2      50\n",
       "8      41\n",
       "1      10\n",
       "0       7\n",
       "Name: OverallCond, dtype: int64"
      ]
     },
     "execution_count": 69,
     "metadata": {},
     "output_type": "execute_result"
    }
   ],
   "source": [
    "combineddatafinal.OverallCond.value_counts()"
   ]
  },
  {
   "cell_type": "code",
   "execution_count": 70,
   "id": "13f2326d",
   "metadata": {},
   "outputs": [
    {
     "data": {
      "text/plain": [
       "OverallCond\n",
       "0     61000.000000\n",
       "1    141986.400000\n",
       "2    101929.400000\n",
       "3    120438.438596\n",
       "4    203146.914738\n",
       "5    153961.591270\n",
       "6    158145.487805\n",
       "7    155651.736111\n",
       "8    216004.545455\n",
       "Name: SalePrice, dtype: float64"
      ]
     },
     "execution_count": 70,
     "metadata": {},
     "output_type": "execute_result"
    }
   ],
   "source": [
    "# checking analysis with the groupby function\n",
    "combineddatafinal.SalePrice.groupby(combineddatafinal.OverallCond).mean()"
   ]
  },
  {
   "cell_type": "code",
   "execution_count": 71,
   "id": "eb829415",
   "metadata": {},
   "outputs": [
    {
     "data": {
      "text/plain": [
       "0    208500.0\n",
       "1    181500.0\n",
       "2    223500.0\n",
       "3    140000.0\n",
       "4    250000.0\n",
       "Name: SalePrice, dtype: float64"
      ]
     },
     "execution_count": 71,
     "metadata": {},
     "output_type": "execute_result"
    }
   ],
   "source": [
    "combineddatafinal.SalePrice.head()"
   ]
  },
  {
   "cell_type": "code",
   "execution_count": 72,
   "id": "0416836d",
   "metadata": {},
   "outputs": [],
   "source": [
    "# assign the independant variale as X and dependant variable as y\n",
    "y=housetrain.SalePrice  \n",
    "X=housetraindf"
   ]
  },
  {
   "cell_type": "code",
   "execution_count": 74,
   "id": "ed3c5601",
   "metadata": {},
   "outputs": [],
   "source": [
    "# fitting the Linear Regression model on the dataset (not taken any scaled data)\n",
    "from sklearn.linear_model import LinearRegression"
   ]
  },
  {
   "cell_type": "code",
   "execution_count": 75,
   "id": "2df9618d",
   "metadata": {},
   "outputs": [],
   "source": [
    "LinReg=LinearRegression()"
   ]
  },
  {
   "cell_type": "code",
   "execution_count": 76,
   "id": "5152a476",
   "metadata": {},
   "outputs": [],
   "source": [
    "LinRegmodel=LinReg.fit(X,y)"
   ]
  },
  {
   "cell_type": "code",
   "execution_count": 77,
   "id": "762bf048",
   "metadata": {},
   "outputs": [
    {
     "data": {
      "text/plain": [
       "0.8544640146260464"
      ]
     },
     "execution_count": 77,
     "metadata": {},
     "output_type": "execute_result"
    }
   ],
   "source": [
    "LinRegmodel.score(X,y)"
   ]
  },
  {
   "cell_type": "code",
   "execution_count": 78,
   "id": "4d889280",
   "metadata": {},
   "outputs": [
    {
     "data": {
      "text/plain": [
       "248948.06871532142"
      ]
     },
     "execution_count": 78,
     "metadata": {},
     "output_type": "execute_result"
    }
   ],
   "source": [
    "LinRegmodel.intercept_"
   ]
  },
  {
   "cell_type": "code",
   "execution_count": 79,
   "id": "a21f89cc",
   "metadata": {},
   "outputs": [
    {
     "name": "stdout",
     "output_type": "stream",
     "text": [
      "[(-1572.7873997091458, 'MSZoning'), (27694.724257203718, 'Street'), (4340.945097720054, 'Alley'), (-856.0199255620821, 'LotShape'), (3002.409820605621, 'LandContour'), (-51610.87546316184, 'Utilities'), (37.164200043496976, 'LotConfig'), (5172.526621104614, 'LandSlope'), (393.28303855757576, 'Neighborhood'), (-1076.1209729601267, 'Condition1'), (-8629.336177011704, 'Condition2'), (-2720.182321758028, 'BldgType'), (-981.5867985675311, 'HouseStyle'), (1867.155131882055, 'RoofStyle'), (5642.464590562894, 'RoofMatl'), (-1157.7137844760416, 'Exterior1st'), (552.649712563198, 'Exterior2nd'), (4681.601887541143, 'MasVnrType'), (-9653.640346216938, 'ExterQual'), (739.1402924517488, 'ExterCond'), (860.3985836882764, 'Foundation'), (-8904.479837238412, 'BsmtQual'), (2254.8242631521807, 'BsmtCond'), (-3728.342533159584, 'BsmtExposure'), (-736.5972919826079, 'BsmtFinType1'), (809.3524522965332, 'BsmtFinType2'), (-1819.3934735078776, 'Heating'), (-763.2054997441021, 'HeatingQC'), (-1075.6411454569652, 'CentralAir'), (-346.8280880648339, 'Electrical'), (-8585.389538347421, 'KitchenQual'), (3892.757206350745, 'Functional'), (-1124.7853887532708, 'FireplaceQu'), (-183.30094684898143, 'GarageType'), (-295.36543123093634, 'GarageFinish'), (-203.76324083080942, 'GarageQual'), (1626.3457927117333, 'GarageCond'), (1116.57258844514, 'PavedDrive'), (-86499.23690330375, 'PoolQC'), (180.92837312288376, 'Fence'), (2488.37209985852, 'MiscFeature'), (-671.8612645027254, 'SaleType'), (2953.27545069273, 'SaleCondition'), (176.8130581279347, 'YearBuilt'), (17.114571961466936, 'YearRemodAdd'), (-0.27644701876852196, 'GarageYrBlt'), (-162.9669199864232, 'MoSold'), (-970.0380333665989, 'YrSold'), (10547.393597196387, 'OverallQual'), (5162.739257822326, 'OverallCond'), (-110.02438518396502, 'MSSubClass'), (-171.27748695820264, 'LotFrontage'), (0.42020926641635015, 'LotArea'), (33.89091079226819, 'MasVnrArea'), (4.113386975877802, 'BsmtFinSF1'), (5.500481179196868, 'BsmtFinSF2'), (-3.487369827907969, 'BsmtUnfSF'), (6.126498591220297, 'TotalBsmtSF'), (22.46659549189826, '1stFlrSF'), (19.31958727500205, '2ndFlrSF'), (-17.167392214745178, 'LowQualFinSF'), (24.618790025291673, 'GrLivArea'), (6695.88902014356, 'BsmtFullBath'), (-893.8995473952541, 'BsmtHalfBath'), (3206.524150246412, 'FullBath'), (-10.954568471350981, 'HalfBath'), (-3268.5993033379373, 'BedroomAbvGr'), (-11698.134330303203, 'KitchenAbvGr'), (3541.944750710468, 'TotRmsAbvGrd'), (2941.900382773898, 'Fireplaces'), (11017.715526074819, 'GarageCars'), (-5.477771532986935, 'GarageArea'), (20.021888602003855, 'WoodDeckSF'), (-3.7045302123751753, 'OpenPorchSF'), (-2.1553088986220246, 'EnclosedPorch'), (29.26022486425228, '3SsnPorch'), (43.65950641119207, 'ScreenPorch'), (-279.2401898640205, 'PoolArea'), (0.6173946150793199, 'MiscVal')]\n"
     ]
    }
   ],
   "source": [
    "print(list(zip(LinRegmodel.coef_,X)))"
   ]
  },
  {
   "cell_type": "code",
   "execution_count": 80,
   "id": "f2269249",
   "metadata": {},
   "outputs": [],
   "source": [
    "LinRegpedict=LinRegmodel.predict(X)"
   ]
  },
  {
   "cell_type": "code",
   "execution_count": 81,
   "id": "eddd68af",
   "metadata": {},
   "outputs": [],
   "source": [
    "LinRegResidual=y-LinRegpedict "
   ]
  },
  {
   "cell_type": "code",
   "execution_count": 82,
   "id": "aede480b",
   "metadata": {},
   "outputs": [
    {
     "data": {
      "text/plain": [
       "30296.28180675005"
      ]
     },
     "execution_count": 82,
     "metadata": {},
     "output_type": "execute_result"
    }
   ],
   "source": [
    "np.sqrt(np.mean(LinRegResidual**2))"
   ]
  },
  {
   "cell_type": "code",
   "execution_count": 83,
   "id": "00dea5a5",
   "metadata": {},
   "outputs": [],
   "source": [
    "LinRegtest=LinRegmodel.predict(housetestdf)"
   ]
  },
  {
   "cell_type": "code",
   "execution_count": 84,
   "id": "ddf9e71d",
   "metadata": {},
   "outputs": [
    {
     "data": {
      "text/plain": [
       "array([107199.47627537, 157237.62389181, 167021.89863965, ...,\n",
       "       143802.7685456 , 114851.17361398, 242529.96029474])"
      ]
     },
     "execution_count": 84,
     "metadata": {},
     "output_type": "execute_result"
    }
   ],
   "source": [
    "LinRegtest"
   ]
  },
  {
   "cell_type": "code",
   "execution_count": 85,
   "id": "c361bb32",
   "metadata": {},
   "outputs": [],
   "source": [
    "# fitting the model with the scaled data \n",
    "scaledata=scaler.fit_transform(housetraindf)"
   ]
  },
  {
   "cell_type": "code",
   "execution_count": 86,
   "id": "e1866027",
   "metadata": {},
   "outputs": [],
   "source": [
    "LinRegscalemodel=LinReg.fit(scaledata,np.log(y))"
   ]
  },
  {
   "cell_type": "code",
   "execution_count": 87,
   "id": "9454eff9",
   "metadata": {},
   "outputs": [
    {
     "data": {
      "text/plain": [
       "0.8879010574180118"
      ]
     },
     "execution_count": 87,
     "metadata": {},
     "output_type": "execute_result"
    }
   ],
   "source": [
    "LinRegscalemodel.score(scaledata,np.log(y)) # can clearly see the accuracy improve with the scaled data"
   ]
  },
  {
   "cell_type": "code",
   "execution_count": 88,
   "id": "40f227fd",
   "metadata": {},
   "outputs": [],
   "source": [
    "# predicting for the test data\n",
    "LinRegscalemodeltest=LinRegscalemodel.predict(housetestdf)"
   ]
  },
  {
   "cell_type": "code",
   "execution_count": 89,
   "id": "c8d5aec5",
   "metadata": {},
   "outputs": [
    {
     "data": {
      "text/plain": [
       "array([1.08356600e+14, 9.44185850e+13, 1.01779083e+14, ...,\n",
       "       8.13802174e+13, 7.41286286e+13, 1.24247335e+14])"
      ]
     },
     "execution_count": 89,
     "metadata": {},
     "output_type": "execute_result"
    }
   ],
   "source": [
    "LinRegscalemodeltest"
   ]
  },
  {
   "cell_type": "code",
   "execution_count": 90,
   "id": "21db23d1",
   "metadata": {},
   "outputs": [],
   "source": [
    "LinRegscaledpredict=LinRegscalemodel.predict(scaleddata)"
   ]
  },
  {
   "cell_type": "code",
   "execution_count": 91,
   "id": "aa286c18",
   "metadata": {},
   "outputs": [
    {
     "data": {
      "text/plain": [
       "array([-2.99173920e+09, -3.36571866e+09, -2.41085813e+09, ...,\n",
       "       -3.11336056e+09, -1.20042459e+10,  2.15509208e+09])"
      ]
     },
     "execution_count": 91,
     "metadata": {},
     "output_type": "execute_result"
    }
   ],
   "source": [
    "LinRegscaledpredict"
   ]
  },
  {
   "cell_type": "code",
   "execution_count": 92,
   "id": "cee4216c",
   "metadata": {},
   "outputs": [],
   "source": [
    "# checking the accuracy of the model (linear regression) with the cross val score, taking 10 samples  \n",
    "from sklearn.model_selection import cross_val_score"
   ]
  },
  {
   "cell_type": "code",
   "execution_count": 93,
   "id": "91157e86",
   "metadata": {},
   "outputs": [
    {
     "data": {
      "text/plain": [
       "array([0.8944009 , 0.8322485 , 0.89519738, 0.74038038, 0.8585626 ,\n",
       "       0.85615155, 0.83992568, 0.85410937, 0.47153872, 0.76206919])"
      ]
     },
     "execution_count": 93,
     "metadata": {},
     "output_type": "execute_result"
    }
   ],
   "source": [
    "cross_val_score(LinRegmodel,X,y,cv=10)"
   ]
  },
  {
   "cell_type": "code",
   "execution_count": 94,
   "id": "e889202a",
   "metadata": {},
   "outputs": [],
   "source": [
    "# applying desion tree regressor model\n",
    "from sklearn.tree import DecisionTreeRegressor"
   ]
  },
  {
   "cell_type": "code",
   "execution_count": 95,
   "id": "0cd603ef",
   "metadata": {},
   "outputs": [],
   "source": [
    "TR=DecisionTreeRegressor() # no hyperparameter tunning given, proceed with the default parameters."
   ]
  },
  {
   "cell_type": "code",
   "execution_count": 96,
   "id": "592d40cf",
   "metadata": {},
   "outputs": [
    {
     "data": {
      "text/plain": [
       "DecisionTreeRegressor(ccp_alpha=0.0, criterion='mse', max_depth=None,\n",
       "                      max_features=None, max_leaf_nodes=None,\n",
       "                      min_impurity_decrease=0.0, min_impurity_split=None,\n",
       "                      min_samples_leaf=1, min_samples_split=2,\n",
       "                      min_weight_fraction_leaf=0.0, presort='deprecated',\n",
       "                      random_state=None, splitter='best')"
      ]
     },
     "execution_count": 96,
     "metadata": {},
     "output_type": "execute_result"
    }
   ],
   "source": [
    "TR.fit(X,y) "
   ]
  },
  {
   "cell_type": "code",
   "execution_count": 97,
   "id": "e82d109a",
   "metadata": {},
   "outputs": [
    {
     "data": {
      "text/plain": [
       "1.0"
      ]
     },
     "execution_count": 97,
     "metadata": {},
     "output_type": "execute_result"
    }
   ],
   "source": [
    "TR.score(X,y) # showing accuracy of 100 means, it is overfitting the data"
   ]
  },
  {
   "cell_type": "code",
   "execution_count": 98,
   "id": "a58e5adc",
   "metadata": {},
   "outputs": [
    {
     "data": {
      "text/plain": [
       "[Text(249.8928621402505, 213.55714285714285, 'X[48] <= 6.5\\nmse = 6306788585.349\\nsamples = 1460\\nvalue = 180921.196'),\n",
       " Text(186.31883363073868, 205.79142857142858, 'X[48] <= 5.5\\nmse = 2426928665.05\\nsamples = 1231\\nvalue = 157832.433'),\n",
       " Text(113.05941304724644, 198.0257142857143, 'X[61] <= 1378.5\\nmse = 1411538921.037\\nsamples = 912\\nvalue = 140383.976'),\n",
       " Text(62.01679345780507, 190.26, 'X[57] <= 1007.5\\nmse = 837746927.031\\nsamples = 564\\nvalue = 124907.778'),\n",
       " Text(22.995820572503963, 182.4942857142857, 'X[28] <= 0.5\\nmse = 641983560.06\\nsamples = 376\\nvalue = 113919.918'),\n",
       " Text(3.7087987321711573, 174.72857142857143, 'X[0] <= 1.0\\nmse = 573823485.316\\nsamples = 56\\nvalue = 84009.071'),\n",
       " Text(0.6791505546751189, 166.96285714285713, 'X[48] <= 3.5\\nmse = 73537591.5\\nsamples = 4\\nvalue = 41551.0'),\n",
       " Text(0.45276703645007926, 159.19714285714286, 'X[46] <= 7.5\\nmse = 5351738.0\\nsamples = 3\\nvalue = 36737.0'),\n",
       " Text(0.22638351822503963, 151.43142857142857, 'mse = 0.0\\nsamples = 1\\nvalue = 40000.0'),\n",
       " Text(0.6791505546751189, 151.43142857142857, 'X[39] <= 2.5\\nmse = 42230.25\\nsamples = 2\\nvalue = 35105.5'),\n",
       " Text(0.45276703645007926, 143.66571428571427, 'mse = 0.0\\nsamples = 1\\nvalue = 34900.0'),\n",
       " Text(0.9055340729001585, 143.66571428571427, 'mse = 0.0\\nsamples = 1\\nvalue = 35311.0'),\n",
       " Text(0.9055340729001585, 159.19714285714286, 'mse = 0.0\\nsamples = 1\\nvalue = 55993.0'),\n",
       " Text(6.7384469096671955, 166.96285714285713, 'X[48] <= 2.5\\nmse = 462971929.148\\nsamples = 52\\nvalue = 87275.077'),\n",
       " Text(3.2259651347068146, 159.19714285714286, 'X[58] <= 924.0\\nmse = 335819053.254\\nsamples = 13\\nvalue = 69469.231'),\n",
       " Text(1.9242599049128368, 151.43142857142857, 'X[52] <= 6022.5\\nmse = 131824375.0\\nsamples = 8\\nvalue = 57025.0'),\n",
       " Text(1.3583011093502377, 143.66571428571427, 'X[0] <= 3.5\\nmse = 490000.0\\nsamples = 2\\nvalue = 38600.0'),\n",
       " Text(1.1319175911251982, 135.89999999999998, 'mse = 0.0\\nsamples = 1\\nvalue = 39300.0'),\n",
       " Text(1.5846846275752775, 135.89999999999998, 'mse = 0.0\\nsamples = 1\\nvalue = 37900.0'),\n",
       " Text(2.490218700475436, 143.66571428571427, 'X[46] <= 5.5\\nmse = 24722222.222\\nsamples = 6\\nvalue = 63166.667'),\n",
       " Text(2.037451664025357, 135.89999999999998, 'X[36] <= 2.5\\nmse = 796875.0\\nsamples = 4\\nvalue = 59875.0'),\n",
       " Text(1.811068145800317, 128.1342857142857, 'mse = 0.0\\nsamples = 1\\nvalue = 58500.0'),\n",
       " Text(2.2638351822503964, 128.1342857142857, 'X[24] <= 2.5\\nmse = 222222.222\\nsamples = 3\\nvalue = 60333.333'),\n",
       " Text(2.037451664025357, 120.36857142857143, 'mse = 0.0\\nsamples = 1\\nvalue = 61000.0'),\n",
       " Text(2.490218700475436, 120.36857142857143, 'mse = 0.0\\nsamples = 2\\nvalue = 60000.0'),\n",
       " Text(2.942985736925515, 135.89999999999998, 'X[8] <= 5.0\\nmse = 7562500.0\\nsamples = 2\\nvalue = 69750.0'),\n",
       " Text(2.7166022187004755, 128.1342857142857, 'mse = 0.0\\nsamples = 1\\nvalue = 72500.0'),\n",
       " Text(3.169369255150555, 128.1342857142857, 'mse = 0.0\\nsamples = 1\\nvalue = 67000.0'),\n",
       " Text(4.527670364500793, 151.43142857142857, 'X[51] <= 64.0\\nmse = 17997600.0\\nsamples = 5\\nvalue = 89380.0'),\n",
       " Text(4.074903328050714, 143.66571428571427, 'X[58] <= 1058.5\\nmse = 1135555.556\\nsamples = 3\\nvalue = 92466.667'),\n",
       " Text(3.8485198098256737, 135.89999999999998, 'X[20] <= 2.0\\nmse = 90000.0\\nsamples = 2\\nvalue = 93200.0'),\n",
       " Text(3.622136291600634, 128.1342857142857, 'mse = 0.0\\nsamples = 1\\nvalue = 93500.0'),\n",
       " Text(4.074903328050714, 128.1342857142857, 'mse = 0.0\\nsamples = 1\\nvalue = 92900.0'),\n",
       " Text(4.301286846275753, 135.89999999999998, 'mse = 0.0\\nsamples = 1\\nvalue = 91000.0'),\n",
       " Text(4.980437400950872, 143.66571428571427, 'X[8] <= 9.5\\nmse = 7562500.0\\nsamples = 2\\nvalue = 84750.0'),\n",
       " Text(4.754053882725832, 135.89999999999998, 'mse = 0.0\\nsamples = 1\\nvalue = 82000.0'),\n",
       " Text(5.206820919175912, 135.89999999999998, 'mse = 0.0\\nsamples = 1\\nvalue = 87500.0'),\n",
       " Text(10.250928684627576, 159.19714285714286, 'X[37] <= 0.5\\nmse = 364445928.999\\nsamples = 39\\nvalue = 93210.359'),\n",
       " Text(7.300868462757528, 151.43142857142857, 'X[49] <= 5.0\\nmse = 307855080.996\\nsamples = 15\\nvalue = 81016.933'),\n",
       " Text(6.22554675118859, 143.66571428571427, 'X[52] <= 5820.0\\nmse = 137400000.0\\nsamples = 10\\nvalue = 71500.0'),\n",
       " Text(5.659587955625991, 135.89999999999998, 'X[27] <= 1.5\\nmse = 67546875.0\\nsamples = 4\\nvalue = 58875.0'),\n",
       " Text(5.433204437400951, 128.1342857142857, 'X[2] <= 1.0\\nmse = 1388888.889\\nsamples = 3\\nvalue = 54166.667'),\n",
       " Text(5.206820919175912, 120.36857142857143, 'mse = 0.0\\nsamples = 1\\nvalue = 52500.0'),\n",
       " Text(5.659587955625991, 120.36857142857143, 'mse = 0.0\\nsamples = 2\\nvalue = 55000.0'),\n",
       " Text(5.88597147385103, 128.1342857142857, 'mse = 0.0\\nsamples = 1\\nvalue = 73000.0'),\n",
       " Text(6.791505546751189, 135.89999999999998, 'X[74] <= 45.5\\nmse = 6868055.556\\nsamples = 6\\nvalue = 79916.667'),\n",
       " Text(6.33873851030111, 128.1342857142857, 'X[70] <= 0.5\\nmse = 2055555.556\\nsamples = 3\\nvalue = 82166.667'),\n",
       " Text(6.11235499207607, 120.36857142857143, 'X[47] <= 1.0\\nmse = 562500.0\\nsamples = 2\\nvalue = 81250.0'),\n",
       " Text(5.88597147385103, 112.60285714285713, 'mse = 0.0\\nsamples = 1\\nvalue = 80500.0'),\n",
       " Text(6.33873851030111, 112.60285714285713, 'mse = 0.0\\nsamples = 1\\nvalue = 82000.0'),\n",
       " Text(6.565122028526149, 120.36857142857143, 'mse = 0.0\\nsamples = 1\\nvalue = 84000.0'),\n",
       " Text(7.244272583201268, 128.1342857142857, 'X[49] <= 3.0\\nmse = 1555555.556\\nsamples = 3\\nvalue = 77666.667'),\n",
       " Text(7.017889064976228, 120.36857142857143, 'mse = 0.0\\nsamples = 1\\nvalue = 76000.0'),\n",
       " Text(7.470656101426308, 120.36857142857143, 'X[66] <= 2.5\\nmse = 250000.0\\nsamples = 2\\nvalue = 78500.0'),\n",
       " Text(7.244272583201268, 112.60285714285713, 'mse = 0.0\\nsamples = 1\\nvalue = 79000.0'),\n",
       " Text(7.697039619651347, 112.60285714285713, 'mse = 0.0\\nsamples = 1\\nvalue = 78000.0'),\n",
       " Text(8.376190174326466, 143.66571428571427, 'X[19] <= 3.0\\nmse = 105333122.56\\nsamples = 5\\nvalue = 100050.8'),\n",
       " Text(7.923423137876387, 135.89999999999998, 'X[50] <= 120.0\\nmse = 22562500.0\\nsamples = 2\\nvalue = 89250.0'),\n",
       " Text(7.697039619651347, 128.1342857142857, 'mse = 0.0\\nsamples = 1\\nvalue = 94000.0'),\n",
       " Text(8.149806656101427, 128.1342857142857, 'mse = 0.0\\nsamples = 1\\nvalue = 84500.0'),\n",
       " Text(8.828957210776545, 135.89999999999998, 'X[56] <= 607.0\\nmse = 30894336.889\\nsamples = 3\\nvalue = 107251.333'),\n",
       " Text(8.602573692551506, 128.1342857142857, 'X[47] <= 1.5\\nmse = 6890625.0\\nsamples = 2\\nvalue = 103625.0'),\n",
       " Text(8.376190174326466, 120.36857142857143, 'mse = 0.0\\nsamples = 1\\nvalue = 101000.0'),\n",
       " Text(8.828957210776545, 120.36857142857143, 'mse = 0.0\\nsamples = 1\\nvalue = 106250.0'),\n",
       " Text(9.055340729001585, 128.1342857142857, 'mse = 0.0\\nsamples = 1\\nvalue = 114504.0'),\n",
       " Text(13.200988906497624, 151.43142857142857, 'X[65] <= 0.5\\nmse = 248812460.938\\nsamples = 24\\nvalue = 100831.25'),\n",
       " Text(11.68704912836767, 143.66571428571427, 'X[57] <= 792.0\\nmse = 181384195.011\\nsamples = 21\\nvalue = 97473.81'),\n",
       " Text(10.130662440570523, 135.89999999999998, 'X[30] <= 1.5\\nmse = 94286213.018\\nsamples = 13\\nvalue = 90611.538'),\n",
       " Text(9.508107765451664, 128.1342857142857, 'X[61] <= 722.0\\nmse = 33062500.0\\nsamples = 2\\nvalue = 74250.0'),\n",
       " Text(9.281724247226625, 120.36857142857143, 'mse = 0.0\\nsamples = 1\\nvalue = 68500.0'),\n",
       " Text(9.734491283676704, 120.36857142857143, 'mse = 0.0\\nsamples = 1\\nvalue = 80000.0'),\n",
       " Text(10.753217115689383, 128.1342857142857, 'X[59] <= 506.5\\nmse = 47895495.868\\nsamples = 11\\nvalue = 93586.364'),\n",
       " Text(10.187258320126784, 120.36857142857143, 'X[36] <= 3.5\\nmse = 16285273.438\\nsamples = 8\\nvalue = 90106.25'),\n",
       " Text(9.734491283676704, 112.60285714285713, 'X[50] <= 47.5\\nmse = 562500.0\\nsamples = 2\\nvalue = 95750.0'),\n",
       " Text(9.508107765451664, 104.83714285714285, 'mse = 0.0\\nsamples = 1\\nvalue = 96500.0'),\n",
       " Text(9.960874801901744, 104.83714285714285, 'mse = 0.0\\nsamples = 1\\nvalue = 95000.0'),\n",
       " Text(10.640025356576862, 112.60285714285713, 'X[52] <= 8912.5\\nmse = 7369791.667\\nsamples = 6\\nvalue = 88225.0'),\n",
       " Text(10.413641838351824, 104.83714285714285, 'X[16] <= 9.5\\nmse = 2291600.0\\nsamples = 5\\nvalue = 89270.0'),\n",
       " Text(9.960874801901744, 97.07142857142857, 'X[27] <= 3.5\\nmse = 250000.0\\nsamples = 2\\nvalue = 87500.0'),\n",
       " Text(9.734491283676704, 89.30571428571429, 'mse = 0.0\\nsamples = 1\\nvalue = 87000.0'),\n",
       " Text(10.187258320126784, 89.30571428571429, 'mse = 0.0\\nsamples = 1\\nvalue = 88000.0'),\n",
       " Text(10.866408874801902, 97.07142857142857, 'X[45] <= 32.0\\nmse = 171666.667\\nsamples = 3\\nvalue = 90450.0'),\n",
       " Text(10.640025356576862, 89.30571428571429, 'mse = 0.0\\nsamples = 1\\nvalue = 91000.0'),\n",
       " Text(11.092792393026942, 89.30571428571429, 'X[32] <= 3.5\\nmse = 30625.0\\nsamples = 2\\nvalue = 90175.0'),\n",
       " Text(10.866408874801902, 81.53999999999999, 'mse = 0.0\\nsamples = 1\\nvalue = 90350.0'),\n",
       " Text(11.319175911251982, 81.53999999999999, 'mse = 0.0\\nsamples = 1\\nvalue = 90000.0'),\n",
       " Text(10.866408874801902, 104.83714285714285, 'mse = 0.0\\nsamples = 1\\nvalue = 83000.0'),\n",
       " Text(11.319175911251982, 120.36857142857143, 'X[43] <= 30.5\\nmse = 13768888.889\\nsamples = 3\\nvalue = 102866.667'),\n",
       " Text(11.092792393026942, 112.60285714285713, 'mse = 0.0\\nsamples = 1\\nvalue = 98000.0'),\n",
       " Text(11.545559429477022, 112.60285714285713, 'X[57] <= 679.0\\nmse = 2890000.0\\nsamples = 2\\nvalue = 105300.0'),\n",
       " Text(11.319175911251982, 104.83714285714285, 'mse = 0.0\\nsamples = 1\\nvalue = 103600.0'),\n",
       " Text(11.77194294770206, 104.83714285714285, 'mse = 0.0\\nsamples = 1\\nvalue = 107000.0'),\n",
       " Text(13.24343581616482, 135.89999999999998, 'X[52] <= 8809.5\\nmse = 122046875.0\\nsamples = 8\\nvalue = 108625.0'),\n",
       " Text(12.67747702060222, 128.1342857142857, 'X[52] <= 6390.0\\nmse = 38222222.222\\nsamples = 6\\nvalue = 103166.667'),\n",
       " Text(12.22470998415214, 120.36857142857143, 'X[46] <= 2.0\\nmse = 13555555.556\\nsamples = 3\\nvalue = 97666.667'),\n",
       " Text(11.9983264659271, 112.60285714285713, 'mse = 0.0\\nsamples = 1\\nvalue = 93000.0'),\n",
       " Text(12.45109350237718, 112.60285714285713, 'X[33] <= 3.0\\nmse = 4000000.0\\nsamples = 2\\nvalue = 100000.0'),\n",
       " Text(12.22470998415214, 104.83714285714285, 'mse = 0.0\\nsamples = 1\\nvalue = 98000.0'),\n",
       " Text(12.67747702060222, 104.83714285714285, 'mse = 0.0\\nsamples = 1\\nvalue = 102000.0'),\n",
       " Text(13.130244057052298, 120.36857142857143, 'X[27] <= 1.0\\nmse = 2388888.889\\nsamples = 3\\nvalue = 108666.667'),\n",
       " Text(12.903860538827258, 112.60285714285713, 'mse = 0.0\\nsamples = 1\\nvalue = 106500.0'),\n",
       " Text(13.356627575277338, 112.60285714285713, 'X[72] <= 53.0\\nmse = 62500.0\\nsamples = 2\\nvalue = 109750.0'),\n",
       " Text(13.130244057052298, 104.83714285714285, 'mse = 0.0\\nsamples = 1\\nvalue = 109500.0'),\n",
       " Text(13.583011093502378, 104.83714285714285, 'mse = 0.0\\nsamples = 1\\nvalue = 110000.0'),\n",
       " Text(13.809394611727418, 128.1342857142857, 'X[51] <= 64.0\\nmse = 16000000.0\\nsamples = 2\\nvalue = 125000.0'),\n",
       " Text(13.583011093502378, 120.36857142857143, 'mse = 0.0\\nsamples = 1\\nvalue = 129000.0'),\n",
       " Text(14.035778129952456, 120.36857142857143, 'mse = 0.0\\nsamples = 1\\nvalue = 121000.0'),\n",
       " Text(14.714928684627576, 143.66571428571427, 'X[61] <= 1269.0\\nmse = 89555555.556\\nsamples = 3\\nvalue = 124333.333'),\n",
       " Text(14.488545166402536, 135.89999999999998, 'X[15] <= 4.0\\nmse = 20250000.0\\nsamples = 2\\nvalue = 130500.0'),\n",
       " Text(14.262161648177496, 128.1342857142857, 'mse = 0.0\\nsamples = 1\\nvalue = 135000.0'),\n",
       " Text(14.714928684627576, 128.1342857142857, 'mse = 0.0\\nsamples = 1\\nvalue = 126000.0'),\n",
       " Text(14.941312202852616, 135.89999999999998, 'mse = 0.0\\nsamples = 1\\nvalue = 112000.0'),\n",
       " Text(42.28284241283677, 174.72857142857143, 'X[54] <= 369.5\\nmse = 469947374.685\\nsamples = 320\\nvalue = 119154.316'),\n",
       " Text(29.40172523771791, 166.96285714285713, 'X[71] <= 227.0\\nmse = 415724968.13\\nsamples = 164\\nvalue = 109902.061'),\n",
       " Text(20.07031378763867, 159.19714285714286, 'X[61] <= 1324.5\\nmse = 418221111.111\\nsamples = 36\\nvalue = 95566.667'),\n",
       " Text(17.332488114104596, 151.43142857142857, 'X[57] <= 681.0\\nmse = 251193388.889\\nsamples = 30\\nvalue = 89916.667'),\n",
       " Text(15.620462757527735, 143.66571428571427, 'X[31] <= 2.0\\nmse = 149248520.71\\nsamples = 13\\nvalue = 80461.538'),\n",
       " Text(15.394079239302695, 135.89999999999998, 'mse = 0.0\\nsamples = 1\\nvalue = 52000.0'),\n",
       " Text(15.846846275752775, 135.89999999999998, 'X[70] <= 0.5\\nmse = 88555555.556\\nsamples = 12\\nvalue = 82833.333'),\n",
       " Text(15.224291600633915, 128.1342857142857, 'X[6] <= 1.0\\nmse = 33960000.0\\nsamples = 10\\nvalue = 86300.0'),\n",
       " Text(14.658332805071316, 120.36857142857143, 'X[8] <= 12.0\\nmse = 3062500.0\\nsamples = 2\\nvalue = 94750.0'),\n",
       " Text(14.431949286846276, 112.60285714285713, 'mse = 0.0\\nsamples = 1\\nvalue = 93000.0'),\n",
       " Text(14.884716323296356, 112.60285714285713, 'mse = 0.0\\nsamples = 1\\nvalue = 96500.0'),\n",
       " Text(15.790250396196514, 120.36857142857143, 'X[73] <= 12.0\\nmse = 19371093.75\\nsamples = 8\\nvalue = 84187.5'),\n",
       " Text(15.337483359746434, 112.60285714285713, 'X[8] <= 2.5\\nmse = 7638888.889\\nsamples = 6\\nvalue = 86166.667'),\n",
       " Text(15.111099841521396, 104.83714285714285, 'mse = 0.0\\nsamples = 1\\nvalue = 91500.0'),\n",
       " Text(15.563866877971474, 104.83714285714285, 'X[16] <= 13.5\\nmse = 2340000.0\\nsamples = 5\\nvalue = 85100.0'),\n",
       " Text(15.111099841521396, 97.07142857142857, 'X[55] <= 249.5\\nmse = 1000000.0\\nsamples = 2\\nvalue = 83500.0'),\n",
       " Text(14.884716323296356, 89.30571428571429, 'mse = 0.0\\nsamples = 1\\nvalue = 82500.0'),\n",
       " Text(15.337483359746434, 89.30571428571429, 'mse = 0.0\\nsamples = 1\\nvalue = 84500.0'),\n",
       " Text(16.016633914421554, 97.07142857142857, 'X[32] <= 4.5\\nmse = 388888.889\\nsamples = 3\\nvalue = 86166.667'),\n",
       " Text(15.790250396196514, 89.30571428571429, 'mse = 0.0\\nsamples = 1\\nvalue = 87000.0'),\n",
       " Text(16.243017432646592, 89.30571428571429, 'X[43] <= 31.5\\nmse = 62500.0\\nsamples = 2\\nvalue = 85750.0'),\n",
       " Text(16.016633914421554, 81.53999999999999, 'mse = 0.0\\nsamples = 1\\nvalue = 86000.0'),\n",
       " Text(16.469400950871634, 81.53999999999999, 'mse = 0.0\\nsamples = 1\\nvalue = 85500.0'),\n",
       " Text(16.243017432646592, 112.60285714285713, 'X[72] <= 48.0\\nmse = 7562500.0\\nsamples = 2\\nvalue = 78250.0'),\n",
       " Text(16.016633914421554, 104.83714285714285, 'mse = 0.0\\nsamples = 1\\nvalue = 81000.0'),\n",
       " Text(16.469400950871634, 104.83714285714285, 'mse = 0.0\\nsamples = 1\\nvalue = 75500.0'),\n",
       " Text(16.469400950871634, 128.1342857142857, 'X[72] <= 13.0\\nmse = 1000000.0\\nsamples = 2\\nvalue = 65500.0'),\n",
       " Text(16.243017432646592, 120.36857142857143, 'mse = 0.0\\nsamples = 1\\nvalue = 64500.0'),\n",
       " Text(16.695784469096672, 120.36857142857143, 'mse = 0.0\\nsamples = 1\\nvalue = 66500.0'),\n",
       " Text(19.04451347068146, 143.66571428571427, 'X[16] <= 11.5\\nmse = 208508373.702\\nsamples = 17\\nvalue = 97147.059'),\n",
       " Text(17.82770206022187, 135.89999999999998, 'X[47] <= 1.5\\nmse = 91691388.889\\nsamples = 6\\nvalue = 85516.667'),\n",
       " Text(17.37493502377179, 128.1342857142857, 'X[8] <= 14.0\\nmse = 23522500.0\\nsamples = 2\\nvalue = 98350.0'),\n",
       " Text(17.148551505546752, 120.36857142857143, 'mse = 0.0\\nsamples = 1\\nvalue = 93500.0'),\n",
       " Text(17.601318541996832, 120.36857142857143, 'mse = 0.0\\nsamples = 1\\nvalue = 103200.0'),\n",
       " Text(18.28046909667195, 128.1342857142857, 'X[30] <= 2.0\\nmse = 2255000.0\\nsamples = 4\\nvalue = 79100.0'),\n",
       " Text(18.054085578446912, 120.36857142857143, 'mse = 0.0\\nsamples = 1\\nvalue = 76500.0'),\n",
       " Text(18.50685261489699, 120.36857142857143, 'X[42] <= 2.0\\nmse = 2222.222\\nsamples = 3\\nvalue = 79966.667'),\n",
       " Text(18.28046909667195, 112.60285714285713, 'mse = 0.0\\nsamples = 1\\nvalue = 79900.0'),\n",
       " Text(18.73323613312203, 112.60285714285713, 'mse = 0.0\\nsamples = 2\\nvalue = 80000.0'),\n",
       " Text(20.261324881141046, 135.89999999999998, 'X[51] <= 50.5\\nmse = 158200826.446\\nsamples = 11\\nvalue = 103490.909'),\n",
       " Text(19.18600316957211, 128.1342857142857, 'X[47] <= 1.5\\nmse = 14046875.0\\nsamples = 4\\nvalue = 116875.0'),\n",
       " Text(18.95961965134707, 120.36857142857143, 'mse = 0.0\\nsamples = 1\\nvalue = 110500.0'),\n",
       " Text(19.41238668779715, 120.36857142857143, 'X[68] <= 4.5\\nmse = 666666.667\\nsamples = 3\\nvalue = 119000.0'),\n",
       " Text(19.18600316957211, 112.60285714285713, 'X[74] <= 52.5\\nmse = 250000.0\\nsamples = 2\\nvalue = 118500.0'),\n",
       " Text(18.95961965134707, 104.83714285714285, 'mse = 0.0\\nsamples = 1\\nvalue = 118000.0'),\n",
       " Text(19.41238668779715, 104.83714285714285, 'mse = 0.0\\nsamples = 1\\nvalue = 119000.0'),\n",
       " Text(19.638770206022187, 112.60285714285713, 'mse = 0.0\\nsamples = 1\\nvalue = 120000.0'),\n",
       " Text(21.336646592709986, 128.1342857142857, 'X[74] <= 47.0\\nmse = 79719591.837\\nsamples = 7\\nvalue = 95842.857'),\n",
       " Text(20.544304278922347, 120.36857142857143, 'X[61] <= 869.5\\nmse = 11851875.0\\nsamples = 4\\nvalue = 103225.0'),\n",
       " Text(20.091537242472267, 112.60285714285713, 'X[57] <= 826.0\\nmse = 2500.0\\nsamples = 2\\nvalue = 99950.0'),\n",
       " Text(19.86515372424723, 104.83714285714285, 'mse = 0.0\\nsamples = 1\\nvalue = 100000.0'),\n",
       " Text(20.31792076069731, 104.83714285714285, 'mse = 0.0\\nsamples = 1\\nvalue = 99900.0'),\n",
       " Text(20.997071315372427, 112.60285714285713, 'X[20] <= 0.5\\nmse = 2250000.0\\nsamples = 2\\nvalue = 106500.0'),\n",
       " Text(20.770687797147385, 104.83714285714285, 'mse = 0.0\\nsamples = 1\\nvalue = 105000.0'),\n",
       " Text(21.223454833597465, 104.83714285714285, 'mse = 0.0\\nsamples = 1\\nvalue = 108000.0'),\n",
       " Text(22.128988906497625, 120.36857142857143, 'X[54] <= 162.0\\nmse = 666666.667\\nsamples = 3\\nvalue = 86000.0'),\n",
       " Text(21.902605388272583, 112.60285714285713, 'X[20] <= 0.5\\nmse = 250000.0\\nsamples = 2\\nvalue = 85500.0'),\n",
       " Text(21.676221870047545, 104.83714285714285, 'mse = 0.0\\nsamples = 1\\nvalue = 86000.0'),\n",
       " Text(22.128988906497625, 104.83714285714285, 'mse = 0.0\\nsamples = 1\\nvalue = 85000.0'),\n",
       " Text(22.355372424722663, 112.60285714285713, 'mse = 0.0\\nsamples = 1\\nvalue = 87000.0'),\n",
       " Text(22.808139461172743, 151.43142857142857, 'X[45] <= 21.0\\nmse = 295684722.222\\nsamples = 6\\nvalue = 123816.667'),\n",
       " Text(22.5817559429477, 143.66571428571427, 'mse = 0.0\\nsamples = 1\\nvalue = 154900.0'),\n",
       " Text(23.03452297939778, 143.66571428571427, 'X[48] <= 3.5\\nmse = 122940000.0\\nsamples = 5\\nvalue = 117600.0'),\n",
       " Text(22.808139461172743, 135.89999999999998, 'mse = 0.0\\nsamples = 1\\nvalue = 97000.0'),\n",
       " Text(23.260906497622823, 135.89999999999998, 'X[57] <= 732.0\\nmse = 21062500.0\\nsamples = 4\\nvalue = 122750.0'),\n",
       " Text(22.808139461172743, 128.1342857142857, 'X[46] <= 5.0\\nmse = 62500.0\\nsamples = 2\\nvalue = 127250.0'),\n",
       " Text(22.5817559429477, 120.36857142857143, 'mse = 0.0\\nsamples = 1\\nvalue = 127000.0'),\n",
       " Text(23.03452297939778, 120.36857142857143, 'mse = 0.0\\nsamples = 1\\nvalue = 127500.0'),\n",
       " Text(23.7136735340729, 128.1342857142857, 'X[45] <= 40.0\\nmse = 1562500.0\\nsamples = 2\\nvalue = 118250.0'),\n",
       " Text(23.48729001584786, 120.36857142857143, 'mse = 0.0\\nsamples = 1\\nvalue = 119500.0'),\n",
       " Text(23.94005705229794, 120.36857142857143, 'mse = 0.0\\nsamples = 1\\nvalue = 117000.0'),\n",
       " Text(38.73313668779715, 159.19714285714286, 'X[43] <= 96.5\\nmse = 340969409.785\\nsamples = 128\\nvalue = 113933.891'),\n",
       " Text(31.73768700475436, 151.43142857142857, 'X[49] <= 3.5\\nmse = 289470691.814\\nsamples = 125\\nvalue = 112778.44'),\n",
       " Text(25.298358161648178, 143.66571428571427, 'X[19] <= 3.0\\nmse = 263658055.556\\nsamples = 12\\nvalue = 92616.667'),\n",
       " Text(24.39282408874802, 135.89999999999998, 'X[16] <= 4.0\\nmse = 45768888.889\\nsamples = 3\\nvalue = 72466.667'),\n",
       " Text(24.16644057052298, 128.1342857142857, 'mse = 0.0\\nsamples = 1\\nvalue = 82000.0'),\n",
       " Text(24.61920760697306, 128.1342857142857, 'X[46] <= 6.5\\nmse = 490000.0\\nsamples = 2\\nvalue = 67700.0'),\n",
       " Text(24.39282408874802, 120.36857142857143, 'mse = 0.0\\nsamples = 1\\nvalue = 68400.0'),\n",
       " Text(24.845591125198098, 120.36857142857143, 'mse = 0.0\\nsamples = 1\\nvalue = 67000.0'),\n",
       " Text(26.203892234548338, 135.89999999999998, 'X[58] <= 895.0\\nmse = 155833333.333\\nsamples = 9\\nvalue = 99333.333'),\n",
       " Text(25.52474167987322, 128.1342857142857, 'X[8] <= 13.5\\nmse = 66960000.0\\nsamples = 5\\nvalue = 89700.0'),\n",
       " Text(25.298358161648178, 120.36857142857143, 'X[51] <= 28.5\\nmse = 10546875.0\\nsamples = 4\\nvalue = 85875.0'),\n",
       " Text(24.845591125198098, 112.60285714285713, 'X[25] <= 4.0\\nmse = 562500.0\\nsamples = 2\\nvalue = 88750.0'),\n",
       " Text(24.61920760697306, 104.83714285714285, 'mse = 0.0\\nsamples = 1\\nvalue = 88000.0'),\n",
       " Text(25.07197464342314, 104.83714285714285, 'mse = 0.0\\nsamples = 1\\nvalue = 89500.0'),\n",
       " Text(25.751125198098258, 112.60285714285713, 'X[41] <= 5.5\\nmse = 4000000.0\\nsamples = 2\\nvalue = 83000.0'),\n",
       " Text(25.52474167987322, 104.83714285714285, 'mse = 0.0\\nsamples = 1\\nvalue = 81000.0'),\n",
       " Text(25.977508716323296, 104.83714285714285, 'mse = 0.0\\nsamples = 1\\nvalue = 85000.0'),\n",
       " Text(25.751125198098258, 120.36857142857143, 'mse = 0.0\\nsamples = 1\\nvalue = 105000.0'),\n",
       " Text(26.883042789223456, 128.1342857142857, 'X[54] <= 92.5\\nmse = 5921875.0\\nsamples = 4\\nvalue = 111375.0'),\n",
       " Text(26.430275752773376, 120.36857142857143, 'X[39] <= 3.0\\nmse = 2250000.0\\nsamples = 2\\nvalue = 113500.0'),\n",
       " Text(26.203892234548338, 112.60285714285713, 'mse = 0.0\\nsamples = 1\\nvalue = 112000.0'),\n",
       " Text(26.656659270998418, 112.60285714285713, 'mse = 0.0\\nsamples = 1\\nvalue = 115000.0'),\n",
       " Text(27.335809825673536, 120.36857142857143, 'X[3] <= 1.5\\nmse = 562500.0\\nsamples = 2\\nvalue = 109250.0'),\n",
       " Text(27.109426307448494, 112.60285714285713, 'mse = 0.0\\nsamples = 1\\nvalue = 110000.0'),\n",
       " Text(27.562193343898574, 112.60285714285713, 'mse = 0.0\\nsamples = 1\\nvalue = 108500.0'),\n",
       " Text(38.17701584786054, 143.66571428571427, 'X[57] <= 605.5\\nmse = 244459827.914\\nsamples = 113\\nvalue = 114919.513'),\n",
       " Text(31.07821236133122, 135.89999999999998, 'X[39] <= 3.0\\nmse = 230205153.061\\nsamples = 28\\nvalue = 103164.286'),\n",
       " Text(29.146877971473852, 128.1342857142857, 'X[54] <= 317.0\\nmse = 114061728.395\\nsamples = 9\\nvalue = 117277.778'),\n",
       " Text(28.920494453248814, 120.36857142857143, 'X[72] <= 89.0\\nmse = 61964843.75\\nsamples = 8\\nvalue = 114562.5'),\n",
       " Text(28.014960380348654, 112.60285714285713, 'X[71] <= 367.0\\nmse = 3421875.0\\nsamples = 4\\nvalue = 107375.0'),\n",
       " Text(27.562193343898574, 104.83714285714285, 'X[44] <= 4.5\\nmse = 562500.0\\nsamples = 2\\nvalue = 105750.0'),\n",
       " Text(27.335809825673536, 97.07142857142857, 'mse = 0.0\\nsamples = 1\\nvalue = 105000.0'),\n",
       " Text(27.788576862123616, 97.07142857142857, 'mse = 0.0\\nsamples = 1\\nvalue = 106500.0'),\n",
       " Text(28.467727416798734, 104.83714285714285, 'X[15] <= 12.5\\nmse = 1000000.0\\nsamples = 2\\nvalue = 109000.0'),\n",
       " Text(28.241343898573692, 97.07142857142857, 'mse = 0.0\\nsamples = 1\\nvalue = 108000.0'),\n",
       " Text(28.694110935023772, 97.07142857142857, 'mse = 0.0\\nsamples = 1\\nvalue = 110000.0'),\n",
       " Text(29.82602852614897, 112.60285714285713, 'X[44] <= 43.5\\nmse = 17187500.0\\nsamples = 4\\nvalue = 121750.0'),\n",
       " Text(29.37326148969889, 104.83714285714285, 'X[21] <= 1.5\\nmse = 2250000.0\\nsamples = 2\\nvalue = 125500.0'),\n",
       " Text(29.146877971473852, 97.07142857142857, 'mse = 0.0\\nsamples = 1\\nvalue = 127000.0'),\n",
       " Text(29.599645007923932, 97.07142857142857, 'mse = 0.0\\nsamples = 1\\nvalue = 124000.0'),\n",
       " Text(30.27879556259905, 104.83714285714285, 'X[43] <= 62.0\\nmse = 4000000.0\\nsamples = 2\\nvalue = 118000.0'),\n",
       " Text(30.052412044374012, 97.07142857142857, 'mse = 0.0\\nsamples = 1\\nvalue = 116000.0'),\n",
       " Text(30.50517908082409, 97.07142857142857, 'mse = 0.0\\nsamples = 1\\nvalue = 120000.0'),\n",
       " Text(29.37326148969889, 120.36857142857143, 'mse = 0.0\\nsamples = 1\\nvalue = 139000.0'),\n",
       " Text(33.009546751188594, 128.1342857142857, 'X[57] <= 504.0\\nmse = 146173240.997\\nsamples = 19\\nvalue = 96478.947'),\n",
       " Text(32.00496988906498, 120.36857142857143, 'X[52] <= 10316.5\\nmse = 104306488.889\\nsamples = 15\\nvalue = 100446.667'),\n",
       " Text(31.35411727416799, 112.60285714285713, 'X[22] <= 1.5\\nmse = 94138333.333\\nsamples = 12\\nvalue = 102900.0'),\n",
       " Text(31.12773375594295, 104.83714285714285, 'mse = 0.0\\nsamples = 1\\nvalue = 83000.0'),\n",
       " Text(31.58050079239303, 104.83714285714285, 'X[33] <= 2.0\\nmse = 63422644.628\\nsamples = 11\\nvalue = 104709.091'),\n",
       " Text(30.95794611727417, 97.07142857142857, 'X[65] <= 0.5\\nmse = 2560000.0\\nsamples = 2\\nvalue = 92900.0'),\n",
       " Text(30.73156259904913, 89.30571428571429, 'mse = 0.0\\nsamples = 1\\nvalue = 91300.0'),\n",
       " Text(31.18432963549921, 89.30571428571429, 'mse = 0.0\\nsamples = 1\\nvalue = 94500.0'),\n",
       " Text(32.20305546751189, 97.07142857142857, 'X[72] <= 70.5\\nmse = 39071111.111\\nsamples = 9\\nvalue = 107333.333'),\n",
       " Text(31.637096671949287, 89.30571428571429, 'X[16] <= 10.5\\nmse = 18724081.633\\nsamples = 7\\nvalue = 104714.286'),\n",
       " Text(31.18432963549921, 81.53999999999999, 'X[45] <= 71.0\\nmse = 8206875.0\\nsamples = 4\\nvalue = 101525.0'),\n",
       " Text(30.95794611727417, 73.7742857142857, 'X[71] <= 441.0\\nmse = 2042222.222\\nsamples = 3\\nvalue = 100033.333'),\n",
       " Text(30.73156259904913, 66.00857142857143, 'X[45] <= 52.5\\nmse = 722500.0\\nsamples = 2\\nvalue = 99150.0'),\n",
       " Text(30.50517908082409, 58.24285714285713, 'mse = 0.0\\nsamples = 1\\nvalue = 98300.0'),\n",
       " Text(30.95794611727417, 58.24285714285713, 'mse = 0.0\\nsamples = 1\\nvalue = 100000.0'),\n",
       " Text(31.18432963549921, 66.00857142857143, 'mse = 0.0\\nsamples = 1\\nvalue = 101800.0'),\n",
       " Text(31.41071315372425, 73.7742857142857, 'mse = 0.0\\nsamples = 1\\nvalue = 106000.0'),\n",
       " Text(32.08986370839937, 81.53999999999999, 'X[44] <= 28.5\\nmse = 1102222.222\\nsamples = 3\\nvalue = 108966.667'),\n",
       " Text(31.86348019017433, 73.7742857142857, 'X[49] <= 5.0\\nmse = 40000.0\\nsamples = 2\\nvalue = 109700.0'),\n",
       " Text(31.637096671949287, 66.00857142857143, 'mse = 0.0\\nsamples = 1\\nvalue = 109900.0'),\n",
       " Text(32.08986370839937, 66.00857142857143, 'mse = 0.0\\nsamples = 1\\nvalue = 109500.0'),\n",
       " Text(32.316247226624405, 73.7742857142857, 'mse = 0.0\\nsamples = 1\\nvalue = 107500.0'),\n",
       " Text(32.76901426307449, 89.30571428571429, 'X[8] <= 6.0\\nmse = 2250000.0\\nsamples = 2\\nvalue = 116500.0'),\n",
       " Text(32.54263074484945, 81.53999999999999, 'mse = 0.0\\nsamples = 1\\nvalue = 118000.0'),\n",
       " Text(32.99539778129952, 81.53999999999999, 'mse = 0.0\\nsamples = 1\\nvalue = 115000.0'),\n",
       " Text(32.655822503961964, 112.60285714285713, 'X[68] <= 5.0\\nmse = 24602222.222\\nsamples = 3\\nvalue = 90633.333'),\n",
       " Text(32.42943898573693, 104.83714285714285, 'mse = 0.0\\nsamples = 1\\nvalue = 97000.0'),\n",
       " Text(32.882206022187006, 104.83714285714285, 'X[78] <= 250.0\\nmse = 6502500.0\\nsamples = 2\\nvalue = 87450.0'),\n",
       " Text(32.655822503961964, 97.07142857142857, 'mse = 0.0\\nsamples = 1\\nvalue = 84900.0'),\n",
       " Text(33.10858954041205, 97.07142857142857, 'mse = 0.0\\nsamples = 1\\nvalue = 90000.0'),\n",
       " Text(34.01412361331221, 120.36857142857143, 'X[43] <= 77.5\\nmse = 22755000.0\\nsamples = 4\\nvalue = 81600.0'),\n",
       " Text(33.561356576862124, 112.60285714285713, 'X[58] <= 646.5\\nmse = 6002500.0\\nsamples = 2\\nvalue = 77450.0'),\n",
       " Text(33.33497305863708, 104.83714285714285, 'mse = 0.0\\nsamples = 1\\nvalue = 75000.0'),\n",
       " Text(33.787740095087166, 104.83714285714285, 'mse = 0.0\\nsamples = 1\\nvalue = 79900.0'),\n",
       " Text(34.466890649762284, 112.60285714285713, 'X[11] <= 3.5\\nmse = 5062500.0\\nsamples = 2\\nvalue = 85750.0'),\n",
       " Text(34.24050713153724, 104.83714285714285, 'mse = 0.0\\nsamples = 1\\nvalue = 88000.0'),\n",
       " Text(34.693274167987326, 104.83714285714285, 'mse = 0.0\\nsamples = 1\\nvalue = 83500.0'),\n",
       " Text(45.27581933438986, 135.89999999999998, 'X[55] <= 204.5\\nmse = 188640810.569\\nsamples = 85\\nvalue = 118791.824'),\n",
       " Text(43.12429160063392, 128.1342857142857, 'X[58] <= 1155.5\\nmse = 185671830.116\\nsamples = 65\\nvalue = 115877.769'),\n",
       " Text(42.10379714738511, 120.36857142857143, 'X[51] <= 107.5\\nmse = 171423303.623\\nsamples = 63\\nvalue = 115096.111'),\n",
       " Text(40.7419587955626, 112.60285714285713, 'X[73] <= 137.5\\nmse = 158239899.121\\nsamples = 60\\nvalue = 114109.25'),\n",
       " Text(38.69743264659271, 104.83714285714285, 'X[66] <= 1.5\\nmse = 137195222.866\\nsamples = 57\\nvalue = 113022.895'),\n",
       " Text(38.471049128367675, 97.07142857142857, 'mse = 0.0\\nsamples = 1\\nvalue = 82500.0'),\n",
       " Text(38.92381616481775, 97.07142857142857, 'X[56] <= 728.0\\nmse = 122711500.801\\nsamples = 56\\nvalue = 113567.946'),\n",
       " Text(35.51391442155309, 89.30571428571429, 'X[72] <= 208.5\\nmse = 106272979.658\\nsamples = 33\\nvalue = 116816.909'),\n",
       " Text(35.06114738510301, 81.53999999999999, 'X[57] <= 940.0\\nmse = 85019952.258\\nsamples = 31\\nvalue = 115518.0'),\n",
       " Text(34.83476386687797, 73.7742857142857, 'X[50] <= 37.5\\nmse = 73754674.507\\nsamples = 30\\nvalue = 114843.6'),\n",
       " Text(32.54263074484945, 66.00857142857143, 'X[43] <= 49.5\\nmse = 36948779.889\\nsamples = 12\\nvalue = 110492.333'),\n",
       " Text(31.86348019017433, 58.24285714285713, 'X[44] <= 46.0\\nmse = 9101875.0\\nsamples = 4\\nvalue = 104225.0'),\n",
       " Text(31.41071315372425, 50.47714285714284, 'X[36] <= 2.5\\nmse = 2250000.0\\nsamples = 2\\nvalue = 101500.0'),\n",
       " Text(31.18432963549921, 42.71142857142857, 'mse = 0.0\\nsamples = 1\\nvalue = 100000.0'),\n",
       " Text(31.637096671949287, 42.71142857142857, 'mse = 0.0\\nsamples = 1\\nvalue = 103000.0'),\n",
       " Text(32.316247226624405, 50.47714285714284, 'X[57] <= 648.0\\nmse = 1102500.0\\nsamples = 2\\nvalue = 106950.0'),\n",
       " Text(32.08986370839937, 42.71142857142857, 'mse = 0.0\\nsamples = 1\\nvalue = 105900.0'),\n",
       " Text(32.54263074484945, 42.71142857142857, 'mse = 0.0\\nsamples = 1\\nvalue = 108000.0'),\n",
       " Text(33.221781299524565, 58.24285714285713, 'X[19] <= 3.0\\nmse = 21412632.0\\nsamples = 8\\nvalue = 113626.0'),\n",
       " Text(32.99539778129952, 50.47714285714284, 'mse = 0.0\\nsamples = 1\\nvalue = 124500.0'),\n",
       " Text(33.44816481774961, 50.47714285714284, 'X[51] <= 64.0\\nmse = 5166456.816\\nsamples = 7\\nvalue = 112072.571'),\n",
       " Text(32.99539778129952, 42.71142857142857, 'X[15] <= 10.0\\nmse = 1296875.0\\nsamples = 4\\nvalue = 113875.0'),\n",
       " Text(32.76901426307449, 34.945714285714274, 'X[61] <= 800.0\\nmse = 62500.0\\nsamples = 2\\nvalue = 112750.0'),\n",
       " Text(32.54263074484945, 27.17999999999998, 'mse = 0.0\\nsamples = 1\\nvalue = 113000.0'),\n",
       " Text(32.99539778129952, 27.17999999999998, 'mse = 0.0\\nsamples = 1\\nvalue = 112500.0'),\n",
       " Text(33.221781299524565, 34.945714285714274, 'mse = 0.0\\nsamples = 2\\nvalue = 115000.0'),\n",
       " Text(33.90093185419968, 42.71142857142857, 'X[54] <= 305.0\\nmse = 218680.889\\nsamples = 3\\nvalue = 109669.333'),\n",
       " Text(33.67454833597465, 34.945714285714274, 'mse = 0.0\\nsamples = 1\\nvalue = 109008.0'),\n",
       " Text(34.127315372424725, 34.945714285714274, 'mse = 0.0\\nsamples = 2\\nvalue = 110000.0'),\n",
       " Text(37.1268969889065, 66.00857142857143, 'X[44] <= 26.5\\nmse = 77254691.358\\nsamples = 18\\nvalue = 117744.444'),\n",
       " Text(36.05157527733756, 58.24285714285713, 'X[49] <= 5.5\\nmse = 38880165.289\\nsamples = 11\\nvalue = 113272.727'),\n",
       " Text(35.25923296354992, 50.47714285714284, 'X[44] <= 20.5\\nmse = 12560000.0\\nsamples = 5\\nvalue = 108200.0'),\n",
       " Text(34.80646592709984, 42.71142857142857, 'X[0] <= 3.5\\nmse = 222222.222\\nsamples = 3\\nvalue = 105333.333'),\n",
       " Text(34.5800824088748, 34.945714285714274, 'mse = 0.0\\nsamples = 2\\nvalue = 105000.0'),\n",
       " Text(35.032849445324885, 34.945714285714274, 'mse = 0.0\\nsamples = 1\\nvalue = 106000.0'),\n",
       " Text(35.712, 42.71142857142857, 'X[71] <= 272.0\\nmse = 250000.0\\nsamples = 2\\nvalue = 112500.0'),\n",
       " Text(35.48561648177496, 34.945714285714274, 'mse = 0.0\\nsamples = 1\\nvalue = 113000.0'),\n",
       " Text(35.938383518225045, 34.945714285714274, 'mse = 0.0\\nsamples = 1\\nvalue = 112000.0'),\n",
       " Text(36.8439175911252, 50.47714285714284, 'X[16] <= 12.5\\nmse = 21500000.0\\nsamples = 6\\nvalue = 117500.0'),\n",
       " Text(36.61753407290016, 42.71142857142857, 'X[51] <= 47.5\\nmse = 10440000.0\\nsamples = 5\\nvalue = 115900.0'),\n",
       " Text(36.39115055467512, 34.945714285714274, 'X[24] <= 3.0\\nmse = 2171875.0\\nsamples = 4\\nvalue = 117375.0'),\n",
       " Text(36.16476703645008, 27.17999999999998, 'X[61] <= 1260.0\\nmse = 562500.0\\nsamples = 2\\nvalue = 118750.0'),\n",
       " Text(35.938383518225045, 19.41428571428571, 'mse = 0.0\\nsamples = 1\\nvalue = 118000.0'),\n",
       " Text(36.39115055467512, 19.41428571428571, 'mse = 0.0\\nsamples = 1\\nvalue = 119500.0'),\n",
       " Text(36.61753407290016, 27.17999999999998, 'mse = 0.0\\nsamples = 2\\nvalue = 116000.0'),\n",
       " Text(36.8439175911252, 34.945714285714274, 'mse = 0.0\\nsamples = 1\\nvalue = 110000.0'),\n",
       " Text(37.07030110935024, 42.71142857142857, 'mse = 0.0\\nsamples = 1\\nvalue = 125500.0'),\n",
       " Text(38.202218700475434, 58.24285714285713, 'X[58] <= 717.5\\nmse = 56756326.531\\nsamples = 7\\nvalue = 124771.429'),\n",
       " Text(37.74945166402536, 50.47714285714284, 'X[46] <= 6.5\\nmse = 30535555.556\\nsamples = 3\\nvalue = 117633.333'),\n",
       " Text(37.523068145800316, 42.71142857142857, 'X[12] <= 2.5\\nmse = 2102500.0\\nsamples = 2\\nvalue = 121450.0'),\n",
       " Text(37.29668462757528, 34.945714285714274, 'mse = 0.0\\nsamples = 1\\nvalue = 122900.0'),\n",
       " Text(37.74945166402536, 34.945714285714274, 'mse = 0.0\\nsamples = 1\\nvalue = 120000.0'),\n",
       " Text(37.9758351822504, 42.71142857142857, 'mse = 0.0\\nsamples = 1\\nvalue = 110000.0'),\n",
       " Text(38.65498573692552, 50.47714285714284, 'X[71] <= 539.0\\nmse = 9546875.0\\nsamples = 4\\nvalue = 130125.0'),\n",
       " Text(38.428602218700476, 42.71142857142857, 'X[54] <= 344.0\\nmse = 2166666.667\\nsamples = 3\\nvalue = 128500.0'),\n",
       " Text(38.202218700475434, 34.945714285714274, 'X[71] <= 371.0\\nmse = 250000.0\\nsamples = 2\\nvalue = 127500.0'),\n",
       " Text(37.9758351822504, 27.17999999999998, 'mse = 0.0\\nsamples = 1\\nvalue = 127000.0'),\n",
       " Text(38.428602218700476, 27.17999999999998, 'mse = 0.0\\nsamples = 1\\nvalue = 128000.0'),\n",
       " Text(38.65498573692552, 34.945714285714274, 'mse = 0.0\\nsamples = 1\\nvalue = 130500.0'),\n",
       " Text(38.88136925515056, 42.71142857142857, 'mse = 0.0\\nsamples = 1\\nvalue = 135000.0'),\n",
       " Text(35.287530903328054, 73.7742857142857, 'mse = 0.0\\nsamples = 1\\nvalue = 135750.0'),\n",
       " Text(35.96668145800317, 81.53999999999999, 'X[16] <= 11.5\\nmse = 4202500.0\\nsamples = 2\\nvalue = 136950.0'),\n",
       " Text(35.74029793977813, 73.7742857142857, 'mse = 0.0\\nsamples = 1\\nvalue = 134900.0'),\n",
       " Text(36.193064976228214, 73.7742857142857, 'mse = 0.0\\nsamples = 1\\nvalue = 139000.0'),\n",
       " Text(42.33371790808241, 89.30571428571429, 'X[45] <= 77.5\\nmse = 109421890.325\\nsamples = 23\\nvalue = 108906.391'),\n",
       " Text(41.76775911251981, 81.53999999999999, 'X[74] <= 187.0\\nmse = 55268429.297\\nsamples = 21\\nvalue = 111232.19'),\n",
       " Text(41.314992076069736, 73.7742857142857, 'X[74] <= 130.0\\nmse = 39767365.562\\nsamples = 19\\nvalue = 109809.263'),\n",
       " Text(41.088608557844694, 66.00857142857143, 'X[47] <= 3.5\\nmse = 31793898.325\\nsamples = 17\\nvalue = 110963.294'),\n",
       " Text(40.63584152139462, 58.24285714285713, 'X[70] <= 3.0\\nmse = 21087622.222\\nsamples = 15\\nvalue = 112273.333'),\n",
       " Text(40.409458003169576, 50.47714285714284, 'X[69] <= 0.5\\nmse = 13788163.265\\nsamples = 14\\nvalue = 111507.143'),\n",
       " Text(39.44732805071315, 42.71142857142857, 'X[40] <= 3.0\\nmse = 7539025.0\\nsamples = 10\\nvalue = 109885.0'),\n",
       " Text(39.22094453248812, 34.945714285714274, 'mse = 0.0\\nsamples = 1\\nvalue = 116050.0'),\n",
       " Text(39.673711568938195, 34.945714285714274, 'X[6] <= 2.0\\nmse = 3684444.444\\nsamples = 9\\nvalue = 109200.0'),\n",
       " Text(38.88136925515056, 27.17999999999998, 'X[12] <= 1.5\\nmse = 1335555.556\\nsamples = 3\\nvalue = 107133.333'),\n",
       " Text(38.65498573692552, 19.41428571428571, 'mse = 0.0\\nsamples = 1\\nvalue = 105500.0'),\n",
       " Text(39.107752773375594, 19.41428571428571, 'X[15] <= 8.5\\nmse = 2500.0\\nsamples = 2\\nvalue = 107950.0'),\n",
       " Text(38.88136925515056, 11.648571428571415, 'mse = 0.0\\nsamples = 1\\nvalue = 107900.0'),\n",
       " Text(39.334136291600636, 11.648571428571415, 'mse = 0.0\\nsamples = 1\\nvalue = 108000.0'),\n",
       " Text(40.46605388272583, 27.17999999999998, 'X[58] <= 956.0\\nmse = 1655555.556\\nsamples = 6\\nvalue = 110233.333'),\n",
       " Text(40.239670364500796, 19.41428571428571, 'X[56] <= 790.5\\nmse = 149600.0\\nsamples = 5\\nvalue = 109680.0'),\n",
       " Text(39.78690332805071, 11.648571428571415, 'X[20] <= 0.5\\nmse = 62500.0\\nsamples = 2\\nvalue = 109250.0'),\n",
       " Text(39.56051980982568, 3.8828571428571195, 'mse = 0.0\\nsamples = 1\\nvalue = 109500.0'),\n",
       " Text(40.013286846275754, 3.8828571428571195, 'mse = 0.0\\nsamples = 1\\nvalue = 109000.0'),\n",
       " Text(40.69243740095087, 11.648571428571415, 'X[44] <= 20.5\\nmse = 2222.222\\nsamples = 3\\nvalue = 109966.667'),\n",
       " Text(40.46605388272583, 3.8828571428571195, 'mse = 0.0\\nsamples = 1\\nvalue = 109900.0'),\n",
       " Text(40.918820919175914, 3.8828571428571195, 'mse = 0.0\\nsamples = 2\\nvalue = 110000.0'),\n",
       " Text(40.69243740095087, 19.41428571428571, 'mse = 0.0\\nsamples = 1\\nvalue = 113000.0'),\n",
       " Text(41.37158795562599, 42.71142857142857, 'X[71] <= 260.0\\nmse = 6386718.75\\nsamples = 4\\nvalue = 115562.5'),\n",
       " Text(41.145204437400956, 34.945714285714274, 'mse = 0.0\\nsamples = 1\\nvalue = 119750.0'),\n",
       " Text(41.59797147385103, 34.945714285714274, 'X[58] <= 1026.5\\nmse = 722222.222\\nsamples = 3\\nvalue = 114166.667'),\n",
       " Text(41.37158795562599, 27.17999999999998, 'X[50] <= 35.0\\nmse = 62500.0\\nsamples = 2\\nvalue = 114750.0'),\n",
       " Text(41.145204437400956, 19.41428571428571, 'mse = 0.0\\nsamples = 1\\nvalue = 115000.0'),\n",
       " Text(41.59797147385103, 19.41428571428571, 'mse = 0.0\\nsamples = 1\\nvalue = 114500.0'),\n",
       " Text(41.824354992076074, 27.17999999999998, 'mse = 0.0\\nsamples = 1\\nvalue = 113000.0'),\n",
       " Text(40.86222503961965, 50.47714285714284, 'mse = 0.0\\nsamples = 1\\nvalue = 123000.0'),\n",
       " Text(41.54137559429477, 58.24285714285713, 'X[71] <= 324.0\\nmse = 2683044.0\\nsamples = 2\\nvalue = 101138.0'),\n",
       " Text(41.314992076069736, 50.47714285714284, 'mse = 0.0\\nsamples = 1\\nvalue = 99500.0'),\n",
       " Text(41.76775911251981, 50.47714285714284, 'mse = 0.0\\nsamples = 1\\nvalue = 102776.0'),\n",
       " Text(41.54137559429477, 66.00857142857143, 'mse = 0.0\\nsamples = 2\\nvalue = 100000.0'),\n",
       " Text(42.22052614896989, 73.7742857142857, 'X[73] <= 32.5\\nmse = 562500.0\\nsamples = 2\\nvalue = 124750.0'),\n",
       " Text(41.994142630744854, 66.00857142857143, 'mse = 0.0\\nsamples = 1\\nvalue = 124000.0'),\n",
       " Text(42.44690966719493, 66.00857142857143, 'mse = 0.0\\nsamples = 1\\nvalue = 125500.0'),\n",
       " Text(42.899676703645014, 81.53999999999999, 'X[24] <= 4.5\\nmse = 24855210.25\\nsamples = 2\\nvalue = 84485.5'),\n",
       " Text(42.67329318541997, 73.7742857142857, 'mse = 0.0\\nsamples = 1\\nvalue = 89471.0'),\n",
       " Text(43.12606022187005, 73.7742857142857, 'mse = 0.0\\nsamples = 1\\nvalue = 79500.0'),\n",
       " Text(42.78648494453249, 104.83714285714285, 'X[16] <= 9.0\\nmse = 109625000.0\\nsamples = 3\\nvalue = 134750.0'),\n",
       " Text(42.56010142630745, 97.07142857142857, 'mse = 0.0\\nsamples = 1\\nvalue = 120000.0'),\n",
       " Text(43.01286846275753, 97.07142857142857, 'X[32] <= 3.5\\nmse = 1265625.0\\nsamples = 2\\nvalue = 142125.0'),\n",
       " Text(42.78648494453249, 89.30571428571429, 'mse = 0.0\\nsamples = 1\\nvalue = 141000.0'),\n",
       " Text(43.23925198098257, 89.30571428571429, 'mse = 0.0\\nsamples = 1\\nvalue = 143250.0'),\n",
       " Text(43.46563549920761, 112.60285714285713, 'X[56] <= 612.0\\nmse = 26055555.556\\nsamples = 3\\nvalue = 134833.333'),\n",
       " Text(43.23925198098257, 104.83714285714285, 'mse = 0.0\\nsamples = 1\\nvalue = 128500.0'),\n",
       " Text(43.69201901743265, 104.83714285714285, 'X[59] <= 275.5\\nmse = 9000000.0\\nsamples = 2\\nvalue = 138000.0'),\n",
       " Text(43.46563549920761, 97.07142857142857, 'mse = 0.0\\nsamples = 1\\nvalue = 141000.0'),\n",
       " Text(43.91840253565769, 97.07142857142857, 'mse = 0.0\\nsamples = 1\\nvalue = 135000.0'),\n",
       " Text(44.144786053882726, 120.36857142857143, 'X[74] <= 33.5\\nmse = 9000000.0\\nsamples = 2\\nvalue = 140500.0'),\n",
       " Text(43.91840253565769, 112.60285714285713, 'mse = 0.0\\nsamples = 1\\nvalue = 143500.0'),\n",
       " Text(44.37116957210777, 112.60285714285713, 'mse = 0.0\\nsamples = 1\\nvalue = 137500.0'),\n",
       " Text(47.4273470681458, 128.1342857142857, 'X[8] <= 12.5\\nmse = 80998218.75\\nsamples = 20\\nvalue = 128262.5'),\n",
       " Text(46.18223771790809, 120.36857142857143, 'X[44] <= 24.0\\nmse = 48288524.306\\nsamples = 12\\nvalue = 124229.167'),\n",
       " Text(45.050320126782886, 112.60285714285713, 'X[58] <= 918.5\\nmse = 13900000.0\\nsamples = 5\\nvalue = 117500.0'),\n",
       " Text(44.59755309033281, 104.83714285714285, 'X[8] <= 8.5\\nmse = 1562500.0\\nsamples = 2\\nvalue = 113750.0'),\n",
       " Text(44.37116957210777, 97.07142857142857, 'mse = 0.0\\nsamples = 1\\nvalue = 112500.0'),\n",
       " Text(44.823936608557844, 97.07142857142857, 'mse = 0.0\\nsamples = 1\\nvalue = 115000.0'),\n",
       " Text(45.50308716323297, 104.83714285714285, 'X[3] <= 1.5\\nmse = 6500000.0\\nsamples = 3\\nvalue = 120000.0'),\n",
       " Text(45.27670364500793, 97.07142857142857, 'mse = 0.0\\nsamples = 1\\nvalue = 123500.0'),\n",
       " Text(45.729470681458004, 97.07142857142857, 'X[46] <= 4.5\\nmse = 562500.0\\nsamples = 2\\nvalue = 118250.0'),\n",
       " Text(45.50308716323297, 89.30571428571429, 'mse = 0.0\\nsamples = 1\\nvalue = 119000.0'),\n",
       " Text(45.955854199683046, 89.30571428571429, 'mse = 0.0\\nsamples = 1\\nvalue = 117500.0'),\n",
       " Text(47.31415530903328, 112.60285714285713, 'X[73] <= 158.5\\nmse = 17404795.918\\nsamples = 7\\nvalue = 129035.714'),\n",
       " Text(47.08777179080824, 104.83714285714285, 'X[73] <= 16.0\\nmse = 4430347.222\\nsamples = 6\\nvalue = 130541.667'),\n",
       " Text(46.861388272583206, 97.07142857142857, 'X[51] <= 71.0\\nmse = 964400.0\\nsamples = 5\\nvalue = 129690.0'),\n",
       " Text(46.40862123613312, 89.30571428571429, 'X[4] <= 2.5\\nmse = 180555.556\\nsamples = 3\\nvalue = 130416.667'),\n",
       " Text(46.18223771790809, 81.53999999999999, 'mse = 0.0\\nsamples = 1\\nvalue = 131000.0'),\n",
       " Text(46.635004754358164, 81.53999999999999, 'X[57] <= 877.0\\nmse = 15625.0\\nsamples = 2\\nvalue = 130125.0'),\n",
       " Text(46.40862123613312, 73.7742857142857, 'mse = 0.0\\nsamples = 1\\nvalue = 130000.0'),\n",
       " Text(46.861388272583206, 73.7742857142857, 'mse = 0.0\\nsamples = 1\\nvalue = 130250.0'),\n",
       " Text(47.31415530903328, 89.30571428571429, 'X[58] <= 915.0\\nmse = 160000.0\\nsamples = 2\\nvalue = 128600.0'),\n",
       " Text(47.08777179080824, 81.53999999999999, 'mse = 0.0\\nsamples = 1\\nvalue = 128200.0'),\n",
       " Text(47.540538827258324, 81.53999999999999, 'mse = 0.0\\nsamples = 1\\nvalue = 129000.0'),\n",
       " Text(47.31415530903328, 97.07142857142857, 'mse = 0.0\\nsamples = 1\\nvalue = 134800.0'),\n",
       " Text(47.540538827258324, 104.83714285714285, 'mse = 0.0\\nsamples = 1\\nvalue = 120000.0'),\n",
       " Text(48.67245641838352, 120.36857142857143, 'X[24] <= 2.5\\nmse = 69058593.75\\nsamples = 8\\nvalue = 134312.5'),\n",
       " Text(48.21968938193344, 112.60285714285713, 'X[73] <= 49.5\\nmse = 33171875.0\\nsamples = 4\\nvalue = 141375.0'),\n",
       " Text(47.9933058637084, 104.83714285714285, 'mse = 0.0\\nsamples = 2\\nvalue = 147000.0'),\n",
       " Text(48.446072900158484, 104.83714285714285, 'X[44] <= 13.0\\nmse = 3062500.0\\nsamples = 2\\nvalue = 135750.0'),\n",
       " Text(48.21968938193344, 97.07142857142857, 'mse = 0.0\\nsamples = 1\\nvalue = 137500.0'),\n",
       " Text(48.67245641838352, 97.07142857142857, 'mse = 0.0\\nsamples = 1\\nvalue = 134000.0'),\n",
       " Text(49.1252234548336, 112.60285714285713, 'X[45] <= 61.0\\nmse = 5187500.0\\nsamples = 4\\nvalue = 127250.0'),\n",
       " Text(48.89883993660856, 104.83714285714285, 'mse = 0.0\\nsamples = 2\\nvalue = 125000.0'),\n",
       " Text(49.35160697305864, 104.83714285714285, 'X[74] <= 126.0\\nmse = 250000.0\\nsamples = 2\\nvalue = 129500.0'),\n",
       " Text(49.1252234548336, 97.07142857142857, 'mse = 0.0\\nsamples = 1\\nvalue = 130000.0'),\n",
       " Text(49.57799049128368, 97.07142857142857, 'mse = 0.0\\nsamples = 1\\nvalue = 129000.0'),\n",
       " Text(45.72858637083994, 151.43142857142857, 'X[8] <= 13.0\\nmse = 113298397.556\\nsamples = 3\\nvalue = 162077.667'),\n",
       " Text(45.5022028526149, 143.66571428571427, 'mse = 0.0\\nsamples = 1\\nvalue = 148000.0'),\n",
       " Text(45.95496988906498, 143.66571428571427, 'X[6] <= 2.0\\nmse = 21312072.25\\nsamples = 2\\nvalue = 169116.5'),\n",
       " Text(45.72858637083994, 135.89999999999998, 'mse = 0.0\\nsamples = 1\\nvalue = 164500.0'),\n",
       " Text(46.18135340729002, 135.89999999999998, 'mse = 0.0\\nsamples = 1\\nvalue = 173733.0'),\n",
       " Text(55.16395958795563, 166.96285714285713, 'X[58] <= 645.0\\nmse = 342346979.735\\nsamples = 156\\nvalue = 128881.045'),\n",
       " Text(47.65373058637084, 159.19714285714286, 'X[56] <= 86.5\\nmse = 18648163.265\\nsamples = 7\\nvalue = 86342.857'),\n",
       " Text(46.861388272583206, 151.43142857142857, 'X[62] <= 0.5\\nmse = 1555555.556\\nsamples = 3\\nvalue = 90666.667'),\n",
       " Text(46.635004754358164, 143.66571428571427, 'mse = 0.0\\nsamples = 1\\nvalue = 89000.0'),\n",
       " Text(47.08777179080824, 143.66571428571427, 'X[66] <= 1.5\\nmse = 250000.0\\nsamples = 2\\nvalue = 91500.0'),\n",
       " Text(46.861388272583206, 135.89999999999998, 'mse = 0.0\\nsamples = 1\\nvalue = 92000.0'),\n",
       " Text(47.31415530903328, 135.89999999999998, 'mse = 0.0\\nsamples = 1\\nvalue = 91000.0'),\n",
       " Text(48.446072900158484, 151.43142857142857, 'X[56] <= 118.0\\nmse = 6930000.0\\nsamples = 4\\nvalue = 83100.0'),\n",
       " Text(47.9933058637084, 143.66571428571427, 'X[66] <= 1.5\\nmse = 90000.0\\nsamples = 2\\nvalue = 85700.0'),\n",
       " Text(47.766922345483366, 135.89999999999998, 'mse = 0.0\\nsamples = 1\\nvalue = 86000.0'),\n",
       " Text(48.21968938193344, 135.89999999999998, 'mse = 0.0\\nsamples = 1\\nvalue = 85400.0'),\n",
       " Text(48.89883993660856, 143.66571428571427, 'X[27] <= 3.0\\nmse = 250000.0\\nsamples = 2\\nvalue = 80500.0'),\n",
       " Text(48.67245641838352, 135.89999999999998, 'mse = 0.0\\nsamples = 1\\nvalue = 81000.0'),\n",
       " Text(49.1252234548336, 135.89999999999998, 'mse = 0.0\\nsamples = 1\\nvalue = 80000.0'),\n",
       " Text(62.674188589540414, 159.19714285714286, 'X[48] <= 3.5\\nmse = 268550605.162\\nsamples = 149\\nvalue = 130879.483'),\n",
       " Text(52.03991125198098, 151.43142857142857, 'X[16] <= 9.0\\nmse = 236694501.134\\nsamples = 21\\nvalue = 113245.238'),\n",
       " Text(50.20054516640254, 143.66571428571427, 'X[61] <= 861.0\\nmse = 196886180.556\\nsamples = 12\\nvalue = 106091.667'),\n",
       " Text(49.57799049128368, 135.89999999999998, 'X[47] <= 2.0\\nmse = 74000000.0\\nsamples = 3\\nvalue = 89000.0'),\n",
       " Text(49.35160697305864, 128.1342857142857, 'X[24] <= 2.5\\nmse = 20250000.0\\nsamples = 2\\nvalue = 83500.0'),\n",
       " Text(49.1252234548336, 120.36857142857143, 'mse = 0.0\\nsamples = 1\\nvalue = 88000.0'),\n",
       " Text(49.57799049128368, 120.36857142857143, 'mse = 0.0\\nsamples = 1\\nvalue = 79000.0'),\n",
       " Text(49.80437400950872, 128.1342857142857, 'mse = 0.0\\nsamples = 1\\nvalue = 100000.0'),\n",
       " Text(50.8230998415214, 135.89999999999998, 'X[52] <= 9225.0\\nmse = 108014876.543\\nsamples = 9\\nvalue = 111788.889'),\n",
       " Text(50.2571410459588, 128.1342857142857, 'X[59] <= 511.5\\nmse = 10935555.556\\nsamples = 3\\nvalue = 123366.667'),\n",
       " Text(50.03075752773376, 120.36857142857143, 'X[71] <= 416.5\\nmse = 302500.0\\nsamples = 2\\nvalue = 121050.0'),\n",
       " Text(49.80437400950872, 112.60285714285713, 'mse = 0.0\\nsamples = 1\\nvalue = 121600.0'),\n",
       " Text(50.2571410459588, 112.60285714285713, 'mse = 0.0\\nsamples = 1\\nvalue = 120500.0'),\n",
       " Text(50.48352456418384, 120.36857142857143, 'mse = 0.0\\nsamples = 1\\nvalue = 128000.0'),\n",
       " Text(51.389058637084, 128.1342857142857, 'X[41] <= 6.0\\nmse = 56020833.333\\nsamples = 6\\nvalue = 106000.0'),\n",
       " Text(50.936291600633915, 120.36857142857143, 'X[52] <= 10770.0\\nmse = 8180555.556\\nsamples = 3\\nvalue = 111416.667'),\n",
       " Text(50.70990808240888, 112.60285714285713, 'mse = 0.0\\nsamples = 1\\nvalue = 115000.0'),\n",
       " Text(51.16267511885896, 112.60285714285713, 'X[43] <= 54.5\\nmse = 2640625.0\\nsamples = 2\\nvalue = 109625.0'),\n",
       " Text(50.936291600633915, 104.83714285714285, 'mse = 0.0\\nsamples = 1\\nvalue = 108000.0'),\n",
       " Text(51.389058637084, 104.83714285714285, 'mse = 0.0\\nsamples = 1\\nvalue = 111250.0'),\n",
       " Text(51.841825673534075, 120.36857142857143, 'X[44] <= 9.5\\nmse = 45180555.556\\nsamples = 3\\nvalue = 100583.333'),\n",
       " Text(51.61544215530903, 112.60285714285713, 'mse = 0.0\\nsamples = 1\\nvalue = 110000.0'),\n",
       " Text(52.06820919175912, 112.60285714285713, 'X[53] <= 24.0\\nmse = 1265625.0\\nsamples = 2\\nvalue = 95875.0'),\n",
       " Text(51.841825673534075, 104.83714285714285, 'mse = 0.0\\nsamples = 1\\nvalue = 97000.0'),\n",
       " Text(52.29459270998416, 104.83714285714285, 'mse = 0.0\\nsamples = 1\\nvalue = 94750.0'),\n",
       " Text(53.87927733755943, 143.66571428571427, 'X[15] <= 12.5\\nmse = 130565555.556\\nsamples = 9\\nvalue = 122783.333'),\n",
       " Text(53.42651030110935, 135.89999999999998, 'X[49] <= 7.5\\nmse = 61627013.889\\nsamples = 6\\nvalue = 128841.667'),\n",
       " Text(53.20012678288431, 128.1342857142857, 'X[51] <= 64.5\\nmse = 11290400.0\\nsamples = 5\\nvalue = 125610.0'),\n",
       " Text(52.747359746434235, 120.36857142857143, 'X[24] <= 0.5\\nmse = 4246666.667\\nsamples = 3\\nvalue = 123200.0'),\n",
       " Text(52.52097622820919, 112.60285714285713, 'mse = 0.0\\nsamples = 1\\nvalue = 120500.0'),\n",
       " Text(52.97374326465928, 112.60285714285713, 'X[71] <= 120.0\\nmse = 902500.0\\nsamples = 2\\nvalue = 124550.0'),\n",
       " Text(52.747359746434235, 104.83714285714285, 'mse = 0.0\\nsamples = 1\\nvalue = 123600.0'),\n",
       " Text(53.20012678288431, 104.83714285714285, 'mse = 0.0\\nsamples = 1\\nvalue = 125500.0'),\n",
       " Text(53.652893819334395, 120.36857142857143, 'X[57] <= 897.5\\nmse = 75625.0\\nsamples = 2\\nvalue = 129225.0'),\n",
       " Text(53.42651030110935, 112.60285714285713, 'mse = 0.0\\nsamples = 1\\nvalue = 129500.0'),\n",
       " Text(53.87927733755943, 112.60285714285713, 'mse = 0.0\\nsamples = 1\\nvalue = 128950.0'),\n",
       " Text(53.652893819334395, 128.1342857142857, 'mse = 0.0\\nsamples = 1\\nvalue = 145000.0'),\n",
       " Text(54.33204437400951, 135.89999999999998, 'X[29] <= 2.5\\nmse = 48222222.222\\nsamples = 3\\nvalue = 110666.667'),\n",
       " Text(54.10566085578447, 128.1342857142857, 'mse = 0.0\\nsamples = 1\\nvalue = 102000.0'),\n",
       " Text(54.558427892234555, 128.1342857142857, 'X[4] <= 1.5\\nmse = 16000000.0\\nsamples = 2\\nvalue = 115000.0'),\n",
       " Text(54.33204437400951, 120.36857142857143, 'mse = 0.0\\nsamples = 1\\nvalue = 111000.0'),\n",
       " Text(54.78481141045959, 120.36857142857143, 'mse = 0.0\\nsamples = 1\\nvalue = 119000.0'),\n",
       " Text(73.30846592709985, 151.43142857142857, 'X[71] <= 415.0\\nmse = 214388905.49\\nsamples = 128\\nvalue = 133772.602'),\n",
       " Text(66.77075752773376, 143.66571428571427, 'X[74] <= 196.0\\nmse = 205817679.143\\nsamples = 63\\nvalue = 126541.0'),\n",
       " Text(65.23028843106181, 135.89999999999998, 'X[68] <= 6.5\\nmse = 135430362.806\\nsamples = 61\\nvalue = 127947.541'),\n",
       " Text(62.82850079239303, 128.1342857142857, 'X[13] <= 2.0\\nmse = 106192686.01\\nsamples = 59\\nvalue = 126894.915'),\n",
       " Text(58.70407606973059, 120.36857142857143, 'X[43] <= 67.0\\nmse = 87956649.306\\nsamples = 48\\nvalue = 124570.833'),\n",
       " Text(54.728215530903334, 112.60285714285713, 'X[32] <= 3.0\\nmse = 42788024.691\\nsamples = 18\\nvalue = 119155.556'),\n",
       " Text(53.652893819334395, 104.83714285714285, 'X[0] <= 3.5\\nmse = 42801875.0\\nsamples = 4\\nvalue = 125975.0'),\n",
       " Text(53.20012678288431, 97.07142857142857, 'X[48] <= 4.5\\nmse = 250000.0\\nsamples = 2\\nvalue = 132500.0'),\n",
       " Text(52.97374326465928, 89.30571428571429, 'mse = 0.0\\nsamples = 1\\nvalue = 133000.0'),\n",
       " Text(53.42651030110935, 89.30571428571429, 'mse = 0.0\\nsamples = 1\\nvalue = 132000.0'),\n",
       " Text(54.10566085578447, 97.07142857142857, 'X[12] <= 1.0\\nmse = 202500.0\\nsamples = 2\\nvalue = 119450.0'),\n",
       " Text(53.87927733755943, 89.30571428571429, 'mse = 0.0\\nsamples = 1\\nvalue = 119900.0'),\n",
       " Text(54.33204437400951, 89.30571428571429, 'mse = 0.0\\nsamples = 1\\nvalue = 119000.0'),\n",
       " Text(55.80353724247227, 104.83714285714285, 'X[16] <= 14.5\\nmse = 25700663.265\\nsamples = 14\\nvalue = 117207.143'),\n",
       " Text(55.23757844690967, 97.07142857142857, 'X[61] <= 808.5\\nmse = 14243055.556\\nsamples = 12\\nvalue = 115916.667'),\n",
       " Text(54.78481141045959, 89.30571428571429, 'X[50] <= 32.5\\nmse = 62500.0\\nsamples = 2\\nvalue = 109750.0'),\n",
       " Text(54.558427892234555, 81.53999999999999, 'mse = 0.0\\nsamples = 1\\nvalue = 110000.0'),\n",
       " Text(55.01119492868463, 81.53999999999999, 'mse = 0.0\\nsamples = 1\\nvalue = 109500.0'),\n",
       " Text(55.69034548335975, 89.30571428571429, 'X[20] <= 1.5\\nmse = 7952500.0\\nsamples = 10\\nvalue = 117150.0'),\n",
       " Text(55.46396196513471, 81.53999999999999, 'X[48] <= 4.5\\nmse = 4611111.111\\nsamples = 9\\nvalue = 116500.0'),\n",
       " Text(54.78481141045959, 73.7742857142857, 'X[45] <= 45.5\\nmse = 1979591.837\\nsamples = 7\\nvalue = 117357.143'),\n",
       " Text(54.10566085578447, 66.00857142857143, 'X[56] <= 193.0\\nmse = 171875.0\\nsamples = 4\\nvalue = 118375.0'),\n",
       " Text(53.87927733755943, 58.24285714285713, 'mse = 0.0\\nsamples = 2\\nvalue = 118000.0'),\n",
       " Text(54.33204437400951, 58.24285714285713, 'X[56] <= 318.0\\nmse = 62500.0\\nsamples = 2\\nvalue = 118750.0'),\n",
       " Text(54.10566085578447, 50.47714285714284, 'mse = 0.0\\nsamples = 1\\nvalue = 119000.0'),\n",
       " Text(54.558427892234555, 50.47714285714284, 'mse = 0.0\\nsamples = 1\\nvalue = 118500.0'),\n",
       " Text(55.46396196513471, 66.00857142857143, 'X[16] <= 12.0\\nmse = 1166666.667\\nsamples = 3\\nvalue = 116000.0'),\n",
       " Text(55.23757844690967, 58.24285714285713, 'X[43] <= 63.0\\nmse = 62500.0\\nsamples = 2\\nvalue = 116750.0'),\n",
       " Text(55.01119492868463, 50.47714285714284, 'mse = 0.0\\nsamples = 1\\nvalue = 117000.0'),\n",
       " Text(55.46396196513471, 50.47714285714284, 'mse = 0.0\\nsamples = 1\\nvalue = 116500.0'),\n",
       " Text(55.69034548335975, 58.24285714285713, 'mse = 0.0\\nsamples = 1\\nvalue = 114500.0'),\n",
       " Text(56.143112519809826, 73.7742857142857, 'X[43] <= 35.0\\nmse = 2250000.0\\nsamples = 2\\nvalue = 113500.0'),\n",
       " Text(55.91672900158479, 66.00857142857143, 'mse = 0.0\\nsamples = 1\\nvalue = 112000.0'),\n",
       " Text(56.36949603803487, 66.00857142857143, 'mse = 0.0\\nsamples = 1\\nvalue = 115000.0'),\n",
       " Text(55.91672900158479, 81.53999999999999, 'mse = 0.0\\nsamples = 1\\nvalue = 123000.0'),\n",
       " Text(56.36949603803487, 97.07142857142857, 'X[56] <= 279.0\\nmse = 24502500.0\\nsamples = 2\\nvalue = 124950.0'),\n",
       " Text(56.143112519809826, 89.30571428571429, 'mse = 0.0\\nsamples = 1\\nvalue = 129900.0'),\n",
       " Text(56.59587955625991, 89.30571428571429, 'mse = 0.0\\nsamples = 1\\nvalue = 120000.0'),\n",
       " Text(62.679936608557846, 112.60285714285713, 'X[49] <= 6.5\\nmse = 86905600.0\\nsamples = 30\\nvalue = 127820.0'),\n",
       " Text(60.38780348652932, 104.83714285714285, 'X[57] <= 902.0\\nmse = 71411456.0\\nsamples = 25\\nvalue = 125812.0'),\n",
       " Text(58.18056418383519, 97.07142857142857, 'X[57] <= 887.0\\nmse = 68592295.918\\nsamples = 14\\nvalue = 122235.714'),\n",
       " Text(57.954180665610146, 89.30571428571429, 'X[49] <= 4.5\\nmse = 32910177.515\\nsamples = 13\\nvalue = 123946.154'),\n",
       " Text(56.82226307448495, 81.53999999999999, 'X[27] <= 1.0\\nmse = 14929795.918\\nsamples = 7\\nvalue = 119985.714'),\n",
       " Text(56.59587955625991, 73.7742857142857, 'mse = 0.0\\nsamples = 1\\nvalue = 112000.0'),\n",
       " Text(57.048646592709986, 73.7742857142857, 'X[25] <= 4.0\\nmse = 5018055.556\\nsamples = 6\\nvalue = 121316.667'),\n",
       " Text(56.82226307448495, 66.00857142857143, 'mse = 0.0\\nsamples = 1\\nvalue = 125000.0'),\n",
       " Text(57.27503011093503, 66.00857142857143, 'X[45] <= 65.5\\nmse = 2765600.0\\nsamples = 5\\nvalue = 120580.0'),\n",
       " Text(56.82226307448495, 58.24285714285713, 'X[15] <= 7.0\\nmse = 250000.0\\nsamples = 2\\nvalue = 122500.0'),\n",
       " Text(56.59587955625991, 50.47714285714284, 'mse = 0.0\\nsamples = 1\\nvalue = 123000.0'),\n",
       " Text(57.048646592709986, 50.47714285714284, 'mse = 0.0\\nsamples = 1\\nvalue = 122000.0'),\n",
       " Text(57.727797147385104, 58.24285714285713, 'X[71] <= 132.0\\nmse = 346666.667\\nsamples = 3\\nvalue = 119300.0'),\n",
       " Text(57.50141362916007, 50.47714285714284, 'mse = 0.0\\nsamples = 1\\nvalue = 118500.0'),\n",
       " Text(57.954180665610146, 50.47714285714284, 'X[33] <= 3.0\\nmse = 40000.0\\nsamples = 2\\nvalue = 119700.0'),\n",
       " Text(57.727797147385104, 42.71142857142857, 'mse = 0.0\\nsamples = 1\\nvalue = 119500.0'),\n",
       " Text(58.18056418383519, 42.71142857142857, 'mse = 0.0\\nsamples = 1\\nvalue = 119900.0'),\n",
       " Text(59.08609825673534, 81.53999999999999, 'X[47] <= 2.5\\nmse = 14238888.889\\nsamples = 6\\nvalue = 128566.667'),\n",
       " Text(58.633331220285264, 73.7742857142857, 'X[16] <= 10.5\\nmse = 168888.889\\nsamples = 3\\nvalue = 124966.667'),\n",
       " Text(58.40694770206022, 66.00857142857143, 'X[54] <= 589.0\\nmse = 40000.0\\nsamples = 2\\nvalue = 124700.0'),\n",
       " Text(58.18056418383519, 58.24285714285713, 'mse = 0.0\\nsamples = 1\\nvalue = 124500.0'),\n",
       " Text(58.633331220285264, 58.24285714285713, 'mse = 0.0\\nsamples = 1\\nvalue = 124900.0'),\n",
       " Text(58.859714738510306, 66.00857142857143, 'mse = 0.0\\nsamples = 1\\nvalue = 125500.0'),\n",
       " Text(59.538865293185424, 73.7742857142857, 'X[34] <= 1.5\\nmse = 2388888.889\\nsamples = 3\\nvalue = 132166.667'),\n",
       " Text(59.31248177496038, 66.00857142857143, 'mse = 0.0\\nsamples = 1\\nvalue = 130000.0'),\n",
       " Text(59.765248811410466, 66.00857142857143, 'X[52] <= 11984.0\\nmse = 62500.0\\nsamples = 2\\nvalue = 133250.0'),\n",
       " Text(59.538865293185424, 58.24285714285713, 'mse = 0.0\\nsamples = 1\\nvalue = 133000.0'),\n",
       " Text(59.9916323296355, 58.24285714285713, 'mse = 0.0\\nsamples = 1\\nvalue = 133500.0'),\n",
       " Text(58.40694770206022, 89.30571428571429, 'mse = 0.0\\nsamples = 1\\nvalue = 100000.0'),\n",
       " Text(62.595042789223456, 97.07142857142857, 'X[72] <= 34.0\\nmse = 38004132.231\\nsamples = 11\\nvalue = 130363.636'),\n",
       " Text(61.80270047543582, 89.30571428571429, 'X[58] <= 994.5\\nmse = 19359375.0\\nsamples = 8\\nvalue = 127625.0'),\n",
       " Text(61.34993343898574, 81.53999999999999, 'X[55] <= 143.5\\nmse = 8618055.556\\nsamples = 6\\nvalue = 125583.333'),\n",
       " Text(61.1235499207607, 73.7742857142857, 'X[52] <= 9087.5\\nmse = 1460000.0\\nsamples = 5\\nvalue = 126800.0'),\n",
       " Text(60.67078288431062, 66.00857142857143, 'X[57] <= 933.5\\nmse = 666666.667\\nsamples = 3\\nvalue = 126000.0'),\n",
       " Text(60.444399366085584, 58.24285714285713, 'mse = 0.0\\nsamples = 1\\nvalue = 125000.0'),\n",
       " Text(60.89716640253566, 58.24285714285713, 'X[54] <= 629.0\\nmse = 250000.0\\nsamples = 2\\nvalue = 126500.0'),\n",
       " Text(60.67078288431062, 50.47714285714284, 'mse = 0.0\\nsamples = 1\\nvalue = 126000.0'),\n",
       " Text(61.1235499207607, 50.47714285714284, 'mse = 0.0\\nsamples = 1\\nvalue = 127000.0'),\n",
       " Text(61.57631695721078, 66.00857142857143, 'X[68] <= 4.5\\nmse = 250000.0\\nsamples = 2\\nvalue = 128000.0'),\n",
       " Text(61.34993343898574, 58.24285714285713, 'mse = 0.0\\nsamples = 1\\nvalue = 127500.0'),\n",
       " Text(61.80270047543582, 58.24285714285713, 'mse = 0.0\\nsamples = 1\\nvalue = 128500.0'),\n",
       " Text(61.57631695721078, 73.7742857142857, 'mse = 0.0\\nsamples = 1\\nvalue = 119500.0'),\n",
       " Text(62.2554675118859, 81.53999999999999, 'X[43] <= 68.5\\nmse = 1562500.0\\nsamples = 2\\nvalue = 133750.0'),\n",
       " Text(62.02908399366086, 73.7742857142857, 'mse = 0.0\\nsamples = 1\\nvalue = 135000.0'),\n",
       " Text(62.48185103011094, 73.7742857142857, 'mse = 0.0\\nsamples = 1\\nvalue = 132500.0'),\n",
       " Text(63.3873851030111, 89.30571428571429, 'X[8] <= 16.0\\nmse = 14388888.889\\nsamples = 3\\nvalue = 137666.667'),\n",
       " Text(63.16100158478606, 81.53999999999999, 'X[64] <= 1.5\\nmse = 250000.0\\nsamples = 2\\nvalue = 135000.0'),\n",
       " Text(62.934618066561015, 73.7742857142857, 'mse = 0.0\\nsamples = 1\\nvalue = 134500.0'),\n",
       " Text(63.3873851030111, 73.7742857142857, 'mse = 0.0\\nsamples = 1\\nvalue = 135500.0'),\n",
       " Text(63.61376862123613, 81.53999999999999, 'mse = 0.0\\nsamples = 1\\nvalue = 143000.0'),\n",
       " Text(64.97206973058637, 104.83714285714285, 'X[12] <= 6.5\\nmse = 43414400.0\\nsamples = 5\\nvalue = 137860.0'),\n",
       " Text(64.74568621236133, 97.07142857142857, 'X[63] <= 0.5\\nmse = 8967500.0\\nsamples = 4\\nvalue = 134850.0'),\n",
       " Text(64.29291917591125, 89.30571428571429, 'X[15] <= 10.0\\nmse = 1000000.0\\nsamples = 2\\nvalue = 137500.0'),\n",
       " Text(64.06653565768622, 81.53999999999999, 'mse = 0.0\\nsamples = 1\\nvalue = 138500.0'),\n",
       " Text(64.5193026941363, 81.53999999999999, 'mse = 0.0\\nsamples = 1\\nvalue = 136500.0'),\n",
       " Text(65.19845324881142, 89.30571428571429, 'X[16] <= 9.5\\nmse = 2890000.0\\nsamples = 2\\nvalue = 132200.0'),\n",
       " Text(64.97206973058637, 81.53999999999999, 'mse = 0.0\\nsamples = 1\\nvalue = 133900.0'),\n",
       " Text(65.42483676703645, 81.53999999999999, 'mse = 0.0\\nsamples = 1\\nvalue = 130500.0'),\n",
       " Text(65.19845324881142, 97.07142857142857, 'mse = 0.0\\nsamples = 1\\nvalue = 149900.0'),\n",
       " Text(66.95292551505547, 120.36857142857143, 'X[19] <= 3.0\\nmse = 59349586.777\\nsamples = 11\\nvalue = 137036.364'),\n",
       " Text(66.3303708399366, 112.60285714285713, 'X[57] <= 935.0\\nmse = 18921875.0\\nsamples = 4\\nvalue = 144625.0'),\n",
       " Text(66.10398732171157, 104.83714285714285, 'X[61] <= 1116.5\\nmse = 4222222.222\\nsamples = 3\\nvalue = 142333.333'),\n",
       " Text(65.87760380348654, 97.07142857142857, 'X[63] <= 0.5\\nmse = 1000000.0\\nsamples = 2\\nvalue = 141000.0'),\n",
       " Text(65.65122028526149, 89.30571428571429, 'mse = 0.0\\nsamples = 1\\nvalue = 140000.0'),\n",
       " Text(66.10398732171157, 89.30571428571429, 'mse = 0.0\\nsamples = 1\\nvalue = 142000.0'),\n",
       " Text(66.3303708399366, 97.07142857142857, 'mse = 0.0\\nsamples = 1\\nvalue = 145000.0'),\n",
       " Text(66.55675435816165, 104.83714285714285, 'mse = 0.0\\nsamples = 1\\nvalue = 151500.0'),\n",
       " Text(67.57548019017433, 112.60285714285713, 'X[56] <= 213.5\\nmse = 30740000.0\\nsamples = 7\\nvalue = 132700.0'),\n",
       " Text(67.00952139461172, 104.83714285714285, 'X[44] <= 13.5\\nmse = 12250000.0\\nsamples = 2\\nvalue = 140500.0'),\n",
       " Text(66.78313787638669, 97.07142857142857, 'mse = 0.0\\nsamples = 1\\nvalue = 144000.0'),\n",
       " Text(67.23590491283677, 97.07142857142857, 'mse = 0.0\\nsamples = 1\\nvalue = 137000.0'),\n",
       " Text(68.14143898573693, 104.83714285714285, 'X[72] <= 32.0\\nmse = 4065600.0\\nsamples = 5\\nvalue = 129580.0'),\n",
       " Text(67.68867194928686, 97.07142857142857, 'X[47] <= 2.5\\nmse = 62500.0\\nsamples = 2\\nvalue = 127250.0'),\n",
       " Text(67.46228843106181, 89.30571428571429, 'mse = 0.0\\nsamples = 1\\nvalue = 127000.0'),\n",
       " Text(67.91505546751189, 89.30571428571429, 'mse = 0.0\\nsamples = 1\\nvalue = 127500.0'),\n",
       " Text(68.59420602218701, 97.07142857142857, 'X[34] <= 0.5\\nmse = 702222.222\\nsamples = 3\\nvalue = 131133.333'),\n",
       " Text(68.36782250396197, 89.30571428571429, 'mse = 0.0\\nsamples = 1\\nvalue = 130000.0'),\n",
       " Text(68.82058954041204, 89.30571428571429, 'X[46] <= 3.5\\nmse = 90000.0\\nsamples = 2\\nvalue = 131700.0'),\n",
       " Text(68.59420602218701, 81.53999999999999, 'mse = 0.0\\nsamples = 1\\nvalue = 131400.0'),\n",
       " Text(69.04697305863709, 81.53999999999999, 'mse = 0.0\\nsamples = 1\\nvalue = 132000.0'),\n",
       " Text(67.63207606973059, 128.1342857142857, 'X[27] <= 2.0\\nmse = 1000000.0\\nsamples = 2\\nvalue = 159000.0'),\n",
       " Text(67.40569255150555, 120.36857142857143, 'mse = 0.0\\nsamples = 1\\nvalue = 160000.0'),\n",
       " Text(67.85845958795564, 120.36857142857143, 'mse = 0.0\\nsamples = 1\\nvalue = 158000.0'),\n",
       " Text(68.3112266244057, 135.89999999999998, 'X[39] <= 2.5\\nmse = 451923822.25\\nsamples = 2\\nvalue = 83641.5'),\n",
       " Text(68.08484310618067, 128.1342857142857, 'mse = 0.0\\nsamples = 1\\nvalue = 62383.0'),\n",
       " Text(68.53761014263075, 128.1342857142857, 'mse = 0.0\\nsamples = 1\\nvalue = 104900.0'),\n",
       " Text(79.84617432646593, 143.66571428571427, 'X[52] <= 13355.0\\nmse = 122882097.136\\nsamples = 65\\nvalue = 140781.692'),\n",
       " Text(77.28874801901743, 135.89999999999998, 'X[58] <= 989.0\\nmse = 91694112.873\\nsamples = 61\\nvalue = 139480.492'),\n",
       " Text(74.60751822503963, 128.1342857142857, 'X[56] <= 187.5\\nmse = 94900098.751\\nsamples = 41\\nvalue = 136892.927'),\n",
       " Text(72.58421553090334, 120.36857142857143, 'X[33] <= 3.0\\nmse = 76930110.207\\nsamples = 26\\nvalue = 140581.154'),\n",
       " Text(70.91463708399367, 112.60285714285713, 'X[52] <= 3397.0\\nmse = 57849755.859\\nsamples = 16\\nvalue = 144959.375'),\n",
       " Text(70.68825356576862, 104.83714285714285, 'mse = 0.0\\nsamples = 1\\nvalue = 125000.0'),\n",
       " Text(71.1410206022187, 104.83714285714285, 'X[47] <= 1.5\\nmse = 33377400.0\\nsamples = 15\\nvalue = 146290.0'),\n",
       " Text(70.17889064976228, 97.07142857142857, 'X[15] <= 9.0\\nmse = 31042500.0\\nsamples = 6\\nvalue = 150550.0'),\n",
       " Text(69.72612361331221, 89.30571428571429, 'X[51] <= 84.0\\nmse = 562500.0\\nsamples = 2\\nvalue = 143250.0'),\n",
       " Text(69.49974009508716, 81.53999999999999, 'mse = 0.0\\nsamples = 1\\nvalue = 144000.0'),\n",
       " Text(69.95250713153725, 81.53999999999999, 'mse = 0.0\\nsamples = 1\\nvalue = 142500.0'),\n",
       " Text(70.63165768621236, 89.30571428571429, 'X[50] <= 40.0\\nmse = 6315000.0\\nsamples = 4\\nvalue = 154200.0'),\n",
       " Text(70.40527416798733, 81.53999999999999, 'mse = 0.0\\nsamples = 1\\nvalue = 149900.0'),\n",
       " Text(70.8580412044374, 81.53999999999999, 'X[46] <= 5.5\\nmse = 202222.222\\nsamples = 3\\nvalue = 155633.333'),\n",
       " Text(70.63165768621236, 73.7742857142857, 'X[68] <= 4.0\\nmse = 2500.0\\nsamples = 2\\nvalue = 155950.0'),\n",
       " Text(70.40527416798733, 66.00857142857143, 'mse = 0.0\\nsamples = 1\\nvalue = 155900.0'),\n",
       " Text(70.8580412044374, 66.00857142857143, 'mse = 0.0\\nsamples = 1\\nvalue = 156000.0'),\n",
       " Text(71.08442472266245, 73.7742857142857, 'mse = 0.0\\nsamples = 1\\nvalue = 155000.0'),\n",
       " Text(72.10315055467512, 97.07142857142857, 'X[51] <= 52.5\\nmse = 14770000.0\\nsamples = 9\\nvalue = 143450.0'),\n",
       " Text(71.87676703645009, 89.30571428571429, 'mse = 0.0\\nsamples = 1\\nvalue = 136500.0'),\n",
       " Text(72.32953407290016, 89.30571428571429, 'X[53] <= 187.5\\nmse = 9823710.938\\nsamples = 8\\nvalue = 144318.75'),\n",
       " Text(72.10315055467512, 81.53999999999999, 'X[44] <= 53.5\\nmse = 7649285.714\\nsamples = 7\\nvalue = 143650.0'),\n",
       " Text(71.53719175911252, 73.7742857142857, 'X[43] <= 96.5\\nmse = 3515625.0\\nsamples = 2\\nvalue = 141875.0'),\n",
       " Text(71.31080824088748, 66.00857142857143, 'mse = 0.0\\nsamples = 1\\nvalue = 143750.0'),\n",
       " Text(71.76357527733757, 66.00857142857143, 'mse = 0.0\\nsamples = 1\\nvalue = 140000.0'),\n",
       " Text(72.66910935023772, 73.7742857142857, 'X[23] <= 0.5\\nmse = 7538400.0\\nsamples = 5\\nvalue = 144360.0'),\n",
       " Text(72.21634231378765, 66.00857142857143, 'X[47] <= 2.5\\nmse = 7642222.222\\nsamples = 3\\nvalue = 145433.333'),\n",
       " Text(71.9899587955626, 58.24285714285713, 'mse = 0.0\\nsamples = 1\\nvalue = 149300.0'),\n",
       " Text(72.44272583201268, 58.24285714285713, 'X[68] <= 3.5\\nmse = 250000.0\\nsamples = 2\\nvalue = 143500.0'),\n",
       " Text(72.21634231378765, 50.47714285714284, 'mse = 0.0\\nsamples = 1\\nvalue = 143000.0'),\n",
       " Text(72.66910935023772, 50.47714285714284, 'mse = 0.0\\nsamples = 1\\nvalue = 144000.0'),\n",
       " Text(73.1218763866878, 66.00857142857143, 'X[53] <= 158.0\\nmse = 3062500.0\\nsamples = 2\\nvalue = 142750.0'),\n",
       " Text(72.89549286846277, 58.24285714285713, 'mse = 0.0\\nsamples = 1\\nvalue = 141000.0'),\n",
       " Text(73.34825990491284, 58.24285714285713, 'mse = 0.0\\nsamples = 1\\nvalue = 144500.0'),\n",
       " Text(72.55591759112521, 81.53999999999999, 'mse = 0.0\\nsamples = 1\\nvalue = 149000.0'),\n",
       " Text(74.253793977813, 112.60285714285713, 'X[68] <= 4.5\\nmse = 27716384.0\\nsamples = 10\\nvalue = 133576.0'),\n",
       " Text(73.46145166402536, 104.83714285714285, 'X[71] <= 636.0\\nmse = 2032256.0\\nsamples = 5\\nvalue = 137992.0'),\n",
       " Text(73.00868462757528, 97.07142857142857, 'X[52] <= 7886.0\\nmse = 270400.0\\nsamples = 2\\nvalue = 136480.0'),\n",
       " Text(72.78230110935024, 89.30571428571429, 'mse = 0.0\\nsamples = 1\\nvalue = 135960.0'),\n",
       " Text(73.23506814580033, 89.30571428571429, 'mse = 0.0\\nsamples = 1\\nvalue = 137000.0'),\n",
       " Text(73.91421870047544, 97.07142857142857, 'X[47] <= 1.5\\nmse = 666666.667\\nsamples = 3\\nvalue = 139000.0'),\n",
       " Text(73.6878351822504, 89.30571428571429, 'mse = 0.0\\nsamples = 1\\nvalue = 140000.0'),\n",
       " Text(74.14060221870048, 89.30571428571429, 'X[52] <= 6975.0\\nmse = 250000.0\\nsamples = 2\\nvalue = 138500.0'),\n",
       " Text(73.91421870047544, 81.53999999999999, 'mse = 0.0\\nsamples = 1\\nvalue = 138000.0'),\n",
       " Text(74.36698573692551, 81.53999999999999, 'mse = 0.0\\nsamples = 1\\nvalue = 139000.0'),\n",
       " Text(75.04613629160063, 104.83714285714285, 'X[8] <= 8.0\\nmse = 14398400.0\\nsamples = 5\\nvalue = 129160.0'),\n",
       " Text(74.8197527733756, 97.07142857142857, 'mse = 0.0\\nsamples = 1\\nvalue = 123000.0'),\n",
       " Text(75.27251980982568, 97.07142857142857, 'X[44] <= 26.0\\nmse = 6140000.0\\nsamples = 4\\nvalue = 130700.0'),\n",
       " Text(75.04613629160063, 89.30571428571429, 'X[3] <= 1.5\\nmse = 346666.667\\nsamples = 3\\nvalue = 129300.0'),\n",
       " Text(74.8197527733756, 81.53999999999999, 'mse = 0.0\\nsamples = 1\\nvalue = 128500.0'),\n",
       " Text(75.27251980982568, 81.53999999999999, 'X[46] <= 4.5\\nmse = 40000.0\\nsamples = 2\\nvalue = 129700.0'),\n",
       " Text(75.04613629160063, 73.7742857142857, 'mse = 0.0\\nsamples = 1\\nvalue = 129500.0'),\n",
       " Text(75.49890332805072, 73.7742857142857, 'mse = 0.0\\nsamples = 1\\nvalue = 129900.0'),\n",
       " Text(75.49890332805072, 89.30571428571429, 'mse = 0.0\\nsamples = 1\\nvalue = 134900.0'),\n",
       " Text(76.63082091917592, 120.36857142857143, 'X[73] <= 82.0\\nmse = 61600000.0\\nsamples = 15\\nvalue = 130500.0'),\n",
       " Text(76.40443740095087, 112.60285714285713, 'X[58] <= 832.0\\nmse = 22748520.71\\nsamples = 13\\nvalue = 127961.538'),\n",
       " Text(75.9516703645008, 104.83714285714285, 'X[47] <= 1.5\\nmse = 888888.889\\nsamples = 3\\nvalue = 121166.667'),\n",
       " Text(75.72528684627575, 97.07142857142857, 'mse = 0.0\\nsamples = 1\\nvalue = 122500.0'),\n",
       " Text(76.17805388272583, 97.07142857142857, 'mse = 0.0\\nsamples = 2\\nvalue = 120500.0'),\n",
       " Text(76.85720443740095, 104.83714285714285, 'X[46] <= 1.0\\nmse = 11300000.0\\nsamples = 10\\nvalue = 130000.0'),\n",
       " Text(76.63082091917592, 97.07142857142857, 'mse = 0.0\\nsamples = 1\\nvalue = 122000.0'),\n",
       " Text(77.083587955626, 97.07142857142857, 'X[16] <= 11.5\\nmse = 4654320.988\\nsamples = 9\\nvalue = 130888.889'),\n",
       " Text(76.5176291600634, 89.30571428571429, 'X[61] <= 975.0\\nmse = 1388888.889\\nsamples = 3\\nvalue = 133333.333'),\n",
       " Text(76.29124564183836, 81.53999999999999, 'mse = 0.0\\nsamples = 2\\nvalue = 132500.0'),\n",
       " Text(76.74401267828844, 81.53999999999999, 'mse = 0.0\\nsamples = 1\\nvalue = 135000.0'),\n",
       " Text(77.6495467511886, 89.30571428571429, 'X[27] <= 1.0\\nmse = 1805555.556\\nsamples = 6\\nvalue = 129666.667'),\n",
       " Text(77.19677971473851, 81.53999999999999, 'X[52] <= 7882.0\\nmse = 388888.889\\nsamples = 3\\nvalue = 130833.333'),\n",
       " Text(76.97039619651348, 73.7742857142857, 'X[59] <= 174.5\\nmse = 62500.0\\nsamples = 2\\nvalue = 131250.0'),\n",
       " Text(76.74401267828844, 66.00857142857143, 'mse = 0.0\\nsamples = 1\\nvalue = 131500.0'),\n",
       " Text(77.19677971473851, 66.00857142857143, 'mse = 0.0\\nsamples = 1\\nvalue = 131000.0'),\n",
       " Text(77.42316323296356, 73.7742857142857, 'mse = 0.0\\nsamples = 1\\nvalue = 130000.0'),\n",
       " Text(78.10231378763868, 81.53999999999999, 'X[32] <= 2.5\\nmse = 500000.0\\nsamples = 3\\nvalue = 128500.0'),\n",
       " Text(77.87593026941363, 73.7742857142857, 'mse = 0.0\\nsamples = 1\\nvalue = 127500.0'),\n",
       " Text(78.32869730586371, 73.7742857142857, 'mse = 0.0\\nsamples = 2\\nvalue = 129000.0'),\n",
       " Text(76.85720443740095, 112.60285714285713, 'mse = 0.0\\nsamples = 2\\nvalue = 147000.0'),\n",
       " Text(79.96997781299525, 128.1342857142857, 'X[49] <= 4.5\\nmse = 43258275.0\\nsamples = 20\\nvalue = 144785.0'),\n",
       " Text(78.44188906497624, 120.36857142857143, 'X[15] <= 10.0\\nmse = 31984375.0\\nsamples = 8\\nvalue = 140625.0'),\n",
       " Text(77.87593026941363, 112.60285714285713, 'X[17] <= 1.5\\nmse = 6250000.0\\nsamples = 2\\nvalue = 132500.0'),\n",
       " Text(77.6495467511886, 104.83714285714285, 'mse = 0.0\\nsamples = 1\\nvalue = 135000.0'),\n",
       " Text(78.10231378763868, 104.83714285714285, 'mse = 0.0\\nsamples = 1\\nvalue = 130000.0'),\n",
       " Text(79.00784786053883, 112.60285714285713, 'X[73] <= 36.0\\nmse = 11222222.222\\nsamples = 6\\nvalue = 143333.333'),\n",
       " Text(78.55508082408875, 104.83714285714285, 'X[48] <= 4.5\\nmse = 2250000.0\\nsamples = 4\\nvalue = 145500.0'),\n",
       " Text(78.32869730586371, 97.07142857142857, 'X[3] <= 0.5\\nmse = 222222.222\\nsamples = 3\\nvalue = 144666.667'),\n",
       " Text(78.10231378763868, 89.30571428571429, 'mse = 0.0\\nsamples = 1\\nvalue = 144000.0'),\n",
       " Text(78.55508082408875, 89.30571428571429, 'mse = 0.0\\nsamples = 2\\nvalue = 145000.0'),\n",
       " Text(78.7814643423138, 97.07142857142857, 'mse = 0.0\\nsamples = 1\\nvalue = 148000.0'),\n",
       " Text(79.46061489698891, 104.83714285714285, 'X[48] <= 4.5\\nmse = 1000000.0\\nsamples = 2\\nvalue = 139000.0'),\n",
       " Text(79.23423137876387, 97.07142857142857, 'mse = 0.0\\nsamples = 1\\nvalue = 138000.0'),\n",
       " Text(79.68699841521395, 97.07142857142857, 'mse = 0.0\\nsamples = 1\\nvalue = 140000.0'),\n",
       " Text(81.49806656101427, 120.36857142857143, 'X[24] <= 1.5\\nmse = 31545763.889\\nsamples = 12\\nvalue = 147558.333'),\n",
       " Text(80.81891600633915, 112.60285714285713, 'X[74] <= 96.0\\nmse = 15860000.0\\nsamples = 5\\nvalue = 152200.0'),\n",
       " Text(80.5925324881141, 104.83714285714285, 'X[23] <= 2.5\\nmse = 3171875.0\\nsamples = 4\\nvalue = 150375.0'),\n",
       " Text(80.13976545166403, 97.07142857142857, 'X[13] <= 2.0\\nmse = 1000000.0\\nsamples = 2\\nvalue = 152000.0'),\n",
       " Text(79.91338193343898, 89.30571428571429, 'mse = 0.0\\nsamples = 1\\nvalue = 151000.0'),\n",
       " Text(80.36614896988907, 89.30571428571429, 'mse = 0.0\\nsamples = 1\\nvalue = 153000.0'),\n",
       " Text(81.04529952456419, 97.07142857142857, 'X[53] <= 128.0\\nmse = 62500.0\\nsamples = 2\\nvalue = 148750.0'),\n",
       " Text(80.81891600633915, 89.30571428571429, 'mse = 0.0\\nsamples = 1\\nvalue = 148500.0'),\n",
       " Text(81.27168304278923, 89.30571428571429, 'mse = 0.0\\nsamples = 1\\nvalue = 149000.0'),\n",
       " Text(81.04529952456419, 104.83714285714285, 'mse = 0.0\\nsamples = 1\\nvalue = 159500.0'),\n",
       " Text(82.17721711568939, 112.60285714285713, 'X[19] <= 3.0\\nmse = 16368163.265\\nsamples = 7\\nvalue = 144242.857'),\n",
       " Text(81.7244500792393, 104.83714285714285, 'X[23] <= 2.0\\nmse = 1562500.0\\nsamples = 2\\nvalue = 138750.0'),\n",
       " Text(81.49806656101427, 97.07142857142857, 'mse = 0.0\\nsamples = 1\\nvalue = 137500.0'),\n",
       " Text(81.95083359746435, 97.07142857142857, 'mse = 0.0\\nsamples = 1\\nvalue = 140000.0'),\n",
       " Text(82.62998415213947, 104.83714285714285, 'X[39] <= 1.0\\nmse = 5394400.0\\nsamples = 5\\nvalue = 146440.0'),\n",
       " Text(82.40360063391442, 97.07142857142857, 'mse = 0.0\\nsamples = 1\\nvalue = 142500.0'),\n",
       " Text(82.8563676703645, 97.07142857142857, 'X[9] <= 0.5\\nmse = 1891875.0\\nsamples = 4\\nvalue = 147425.0'),\n",
       " Text(82.62998415213947, 89.30571428571429, 'mse = 0.0\\nsamples = 1\\nvalue = 149700.0'),\n",
       " Text(83.08275118858954, 89.30571428571429, 'X[68] <= 5.5\\nmse = 222222.222\\nsamples = 3\\nvalue = 146666.667'),\n",
       " Text(82.8563676703645, 81.53999999999999, 'mse = 0.0\\nsamples = 2\\nvalue = 147000.0'),\n",
       " Text(83.30913470681459, 81.53999999999999, 'mse = 0.0\\nsamples = 1\\nvalue = 146000.0'),\n",
       " Text(82.40360063391442, 135.89999999999998, 'X[15] <= 10.5\\nmse = 178921875.0\\nsamples = 4\\nvalue = 160625.0'),\n",
       " Text(82.17721711568939, 128.1342857142857, 'mse = 0.0\\nsamples = 1\\nvalue = 180000.0'),\n",
       " Text(82.62998415213947, 128.1342857142857, 'X[58] <= 880.0\\nmse = 71722222.222\\nsamples = 3\\nvalue = 154166.667'),\n",
       " Text(82.40360063391442, 120.36857142857143, 'mse = 0.0\\nsamples = 1\\nvalue = 143000.0'),\n",
       " Text(82.8563676703645, 120.36857142857143, 'X[4] <= 2.0\\nmse = 14062500.0\\nsamples = 2\\nvalue = 159750.0'),\n",
       " Text(82.62998415213947, 112.60285714285713, 'mse = 0.0\\nsamples = 1\\nvalue = 163500.0'),\n",
       " Text(83.08275118858954, 112.60285714285713, 'mse = 0.0\\nsamples = 1\\nvalue = 156000.0'),\n",
       " Text(101.03776634310618, 182.4942857142857, 'X[34] <= 1.5\\nmse = 504875149.154\\nsamples = 188\\nvalue = 146883.5'),\n",
       " Text(93.5671378763867, 174.72857142857143, 'X[61] <= 1199.5\\nmse = 387887918.818\\nsamples = 88\\nvalue = 156544.0'),\n",
       " Text(87.30621870047544, 166.96285714285713, 'X[43] <= 69.5\\nmse = 193187009.0\\nsamples = 50\\nvalue = 147429.0'),\n",
       " Text(84.75940412044375, 159.19714285714286, 'X[71] <= 291.5\\nmse = 57814182.825\\nsamples = 19\\nvalue = 139405.263'),\n",
       " Text(83.53551822503962, 151.43142857142857, 'X[53] <= 77.5\\nmse = 21698400.0\\nsamples = 5\\nvalue = 131640.0'),\n",
       " Text(83.08275118858954, 143.66571428571427, 'X[44] <= 6.5\\nmse = 1842222.222\\nsamples = 3\\nvalue = 135233.333'),\n",
       " Text(82.8563676703645, 135.89999999999998, 'mse = 0.0\\nsamples = 1\\nvalue = 137000.0'),\n",
       " Text(83.30913470681459, 135.89999999999998, 'X[39] <= 2.0\\nmse = 422500.0\\nsamples = 2\\nvalue = 134350.0'),\n",
       " Text(83.08275118858954, 128.1342857142857, 'mse = 0.0\\nsamples = 1\\nvalue = 133700.0'),\n",
       " Text(83.53551822503962, 128.1342857142857, 'mse = 0.0\\nsamples = 1\\nvalue = 135000.0'),\n",
       " Text(83.98828526148971, 143.66571428571427, 'X[6] <= 2.0\\nmse = 3062500.0\\nsamples = 2\\nvalue = 126250.0'),\n",
       " Text(83.76190174326466, 135.89999999999998, 'mse = 0.0\\nsamples = 1\\nvalue = 124500.0'),\n",
       " Text(84.21466877971474, 135.89999999999998, 'mse = 0.0\\nsamples = 1\\nvalue = 128000.0'),\n",
       " Text(85.98329001584787, 151.43142857142857, 'X[43] <= 67.5\\nmse = 41485969.388\\nsamples = 14\\nvalue = 142178.571'),\n",
       " Text(85.31828843106182, 143.66571428571427, 'X[62] <= 0.5\\nmse = 21505208.333\\nsamples = 12\\nvalue = 144125.0'),\n",
       " Text(84.66743581616483, 135.89999999999998, 'X[30] <= 1.5\\nmse = 6250000.0\\nsamples = 2\\nvalue = 152500.0'),\n",
       " Text(84.44105229793978, 128.1342857142857, 'mse = 0.0\\nsamples = 1\\nvalue = 150000.0'),\n",
       " Text(84.89381933438986, 128.1342857142857, 'mse = 0.0\\nsamples = 1\\nvalue = 155000.0'),\n",
       " Text(85.9691410459588, 135.89999999999998, 'X[51] <= 72.5\\nmse = 7722500.0\\nsamples = 10\\nvalue = 142450.0'),\n",
       " Text(85.34658637083994, 128.1342857142857, 'X[16] <= 8.0\\nmse = 3964843.75\\nsamples = 8\\nvalue = 141437.5'),\n",
       " Text(84.78062757527734, 120.36857142857143, 'X[72] <= 43.0\\nmse = 1562500.0\\nsamples = 2\\nvalue = 144250.0'),\n",
       " Text(84.5542440570523, 112.60285714285713, 'mse = 0.0\\nsamples = 1\\nvalue = 145500.0'),\n",
       " Text(85.00701109350238, 112.60285714285713, 'mse = 0.0\\nsamples = 1\\nvalue = 143000.0'),\n",
       " Text(85.91254516640254, 120.36857142857143, 'X[52] <= 10580.0\\nmse = 1250000.0\\nsamples = 6\\nvalue = 140500.0'),\n",
       " Text(85.45977812995245, 112.60285714285713, 'X[15] <= 8.0\\nmse = 888888.889\\nsamples = 3\\nvalue = 139666.667'),\n",
       " Text(85.23339461172742, 104.83714285714285, 'mse = 0.0\\nsamples = 1\\nvalue = 141000.0'),\n",
       " Text(85.6861616481775, 104.83714285714285, 'mse = 0.0\\nsamples = 2\\nvalue = 139000.0'),\n",
       " Text(86.36531220285262, 112.60285714285713, 'X[42] <= 2.0\\nmse = 222222.222\\nsamples = 3\\nvalue = 141333.333'),\n",
       " Text(86.13892868462759, 104.83714285714285, 'mse = 0.0\\nsamples = 1\\nvalue = 142000.0'),\n",
       " Text(86.59169572107766, 104.83714285714285, 'mse = 0.0\\nsamples = 2\\nvalue = 141000.0'),\n",
       " Text(86.59169572107766, 128.1342857142857, 'X[54] <= 528.0\\nmse = 2250000.0\\nsamples = 2\\nvalue = 146500.0'),\n",
       " Text(86.36531220285262, 120.36857142857143, 'mse = 0.0\\nsamples = 1\\nvalue = 148000.0'),\n",
       " Text(86.8180792393027, 120.36857142857143, 'mse = 0.0\\nsamples = 1\\nvalue = 145000.0'),\n",
       " Text(86.64829160063393, 143.66571428571427, 'X[54] <= 674.5\\nmse = 2250000.0\\nsamples = 2\\nvalue = 130500.0'),\n",
       " Text(86.42190808240888, 135.89999999999998, 'mse = 0.0\\nsamples = 1\\nvalue = 132000.0'),\n",
       " Text(86.87467511885896, 135.89999999999998, 'mse = 0.0\\nsamples = 1\\nvalue = 129000.0'),\n",
       " Text(89.85303328050713, 159.19714285714286, 'X[52] <= 5976.0\\nmse = 212514021.852\\nsamples = 31\\nvalue = 152346.774'),\n",
       " Text(88.00659270998416, 151.43142857142857, 'X[54] <= 459.5\\nmse = 25921875.0\\nsamples = 4\\nvalue = 132375.0'),\n",
       " Text(87.55382567353408, 143.66571428571427, 'X[61] <= 1013.5\\nmse = 62500.0\\nsamples = 2\\nvalue = 127750.0'),\n",
       " Text(87.32744215530904, 135.89999999999998, 'mse = 0.0\\nsamples = 1\\nvalue = 128000.0'),\n",
       " Text(87.78020919175911, 135.89999999999998, 'mse = 0.0\\nsamples = 1\\nvalue = 127500.0'),\n",
       " Text(88.45935974643423, 143.66571428571427, 'X[61] <= 1105.5\\nmse = 9000000.0\\nsamples = 2\\nvalue = 137000.0'),\n",
       " Text(88.2329762282092, 135.89999999999998, 'mse = 0.0\\nsamples = 1\\nvalue = 140000.0'),\n",
       " Text(88.68574326465928, 135.89999999999998, 'mse = 0.0\\nsamples = 1\\nvalue = 134000.0'),\n",
       " Text(91.69947385103012, 151.43142857142857, 'X[30] <= 2.5\\nmse = 172310802.469\\nsamples = 27\\nvalue = 155305.556'),\n",
       " Text(89.59127733755943, 143.66571428571427, 'X[54] <= 499.5\\nmse = 79122222.222\\nsamples = 6\\nvalue = 166566.667'),\n",
       " Text(89.13851030110935, 135.89999999999998, 'X[58] <= 1112.5\\nmse = 1102500.0\\nsamples = 2\\nvalue = 154950.0'),\n",
       " Text(88.91212678288431, 128.1342857142857, 'mse = 0.0\\nsamples = 1\\nvalue = 156000.0'),\n",
       " Text(89.3648938193344, 128.1342857142857, 'mse = 0.0\\nsamples = 1\\nvalue = 153900.0'),\n",
       " Text(90.04404437400952, 135.89999999999998, 'X[66] <= 1.5\\nmse = 16921875.0\\nsamples = 4\\nvalue = 172375.0'),\n",
       " Text(89.81766085578447, 128.1342857142857, 'mse = 0.0\\nsamples = 1\\nvalue = 165500.0'),\n",
       " Text(90.27042789223455, 128.1342857142857, 'X[16] <= 9.5\\nmse = 1555555.556\\nsamples = 3\\nvalue = 174666.667'),\n",
       " Text(90.04404437400952, 120.36857142857143, 'mse = 0.0\\nsamples = 1\\nvalue = 173000.0'),\n",
       " Text(90.4968114104596, 120.36857142857143, 'X[49] <= 4.5\\nmse = 250000.0\\nsamples = 2\\nvalue = 175500.0'),\n",
       " Text(90.27042789223455, 112.60285714285713, 'mse = 0.0\\nsamples = 1\\nvalue = 176000.0'),\n",
       " Text(90.72319492868463, 112.60285714285713, 'mse = 0.0\\nsamples = 1\\nvalue = 175000.0'),\n",
       " Text(93.8076703645008, 143.66571428571427, 'X[12] <= 6.5\\nmse = 152351882.086\\nsamples = 21\\nvalue = 152088.095'),\n",
       " Text(92.36447543581617, 135.89999999999998, 'X[71] <= 445.0\\nmse = 68369960.938\\nsamples = 16\\nvalue = 147543.75'),\n",
       " Text(91.17596196513472, 128.1342857142857, 'X[46] <= 1.5\\nmse = 43183333.333\\nsamples = 6\\nvalue = 140800.0'),\n",
       " Text(90.94957844690967, 120.36857142857143, 'mse = 0.0\\nsamples = 1\\nvalue = 154500.0'),\n",
       " Text(91.40234548335975, 120.36857142857143, 'X[52] <= 7950.0\\nmse = 6774400.0\\nsamples = 5\\nvalue = 138060.0'),\n",
       " Text(91.17596196513472, 112.60285714285713, 'mse = 0.0\\nsamples = 1\\nvalue = 133000.0'),\n",
       " Text(91.62872900158479, 112.60285714285713, 'X[61] <= 1108.5\\nmse = 466875.0\\nsamples = 4\\nvalue = 139325.0'),\n",
       " Text(91.40234548335975, 104.83714285714285, 'X[72] <= 298.0\\nmse = 22500.0\\nsamples = 2\\nvalue = 138650.0'),\n",
       " Text(91.17596196513472, 97.07142857142857, 'mse = 0.0\\nsamples = 1\\nvalue = 138800.0'),\n",
       " Text(91.62872900158479, 97.07142857142857, 'mse = 0.0\\nsamples = 1\\nvalue = 138500.0'),\n",
       " Text(91.85511251980984, 104.83714285714285, 'mse = 0.0\\nsamples = 2\\nvalue = 140000.0'),\n",
       " Text(93.55298890649763, 128.1342857142857, 'X[24] <= 0.5\\nmse = 39822900.0\\nsamples = 10\\nvalue = 151590.0'),\n",
       " Text(92.98703011093502, 120.36857142857143, 'X[69] <= 0.5\\nmse = 4760000.0\\nsamples = 5\\nvalue = 156300.0'),\n",
       " Text(92.76064659270999, 112.60285714285713, 'X[54] <= 812.0\\nmse = 1671875.0\\nsamples = 4\\nvalue = 155375.0'),\n",
       " Text(92.3078795562599, 104.83714285714285, 'X[13] <= 2.0\\nmse = 562500.0\\nsamples = 2\\nvalue = 154250.0'),\n",
       " Text(92.08149603803487, 97.07142857142857, 'mse = 0.0\\nsamples = 1\\nvalue = 153500.0'),\n",
       " Text(92.53426307448495, 97.07142857142857, 'mse = 0.0\\nsamples = 1\\nvalue = 155000.0'),\n",
       " Text(93.21341362916007, 104.83714285714285, 'X[20] <= 1.5\\nmse = 250000.0\\nsamples = 2\\nvalue = 156500.0'),\n",
       " Text(92.98703011093502, 97.07142857142857, 'mse = 0.0\\nsamples = 1\\nvalue = 156000.0'),\n",
       " Text(93.43979714738511, 97.07142857142857, 'mse = 0.0\\nsamples = 1\\nvalue = 157000.0'),\n",
       " Text(93.21341362916007, 112.60285714285713, 'mse = 0.0\\nsamples = 1\\nvalue = 160000.0'),\n",
       " Text(94.11894770206023, 120.36857142857143, 'X[61] <= 1167.5\\nmse = 30517600.0\\nsamples = 5\\nvalue = 146880.0'),\n",
       " Text(93.89256418383519, 112.60285714285713, 'X[62] <= 0.5\\nmse = 10651875.0\\nsamples = 4\\nvalue = 149225.0'),\n",
       " Text(93.66618066561014, 104.83714285714285, 'mse = 0.0\\nsamples = 1\\nvalue = 154000.0'),\n",
       " Text(94.11894770206023, 104.83714285714285, 'X[51] <= 71.5\\nmse = 4068888.889\\nsamples = 3\\nvalue = 147633.333'),\n",
       " Text(93.89256418383519, 97.07142857142857, 'X[71] <= 502.0\\nmse = 902500.0\\nsamples = 2\\nvalue = 148950.0'),\n",
       " Text(93.66618066561014, 89.30571428571429, 'mse = 0.0\\nsamples = 1\\nvalue = 149900.0'),\n",
       " Text(94.11894770206023, 89.30571428571429, 'mse = 0.0\\nsamples = 1\\nvalue = 148000.0'),\n",
       " Text(94.34533122028526, 97.07142857142857, 'mse = 0.0\\nsamples = 1\\nvalue = 145000.0'),\n",
       " Text(94.34533122028526, 112.60285714285713, 'mse = 0.0\\nsamples = 1\\nvalue = 137500.0'),\n",
       " Text(95.25086529318543, 135.89999999999998, 'X[58] <= 1102.0\\nmse = 143543600.0\\nsamples = 5\\nvalue = 166630.0'),\n",
       " Text(94.79809825673534, 128.1342857142857, 'X[55] <= 64.0\\nmse = 43230625.0\\nsamples = 2\\nvalue = 153375.0'),\n",
       " Text(94.57171473851031, 120.36857142857143, 'mse = 0.0\\nsamples = 1\\nvalue = 146800.0'),\n",
       " Text(95.02448177496038, 120.36857142857143, 'mse = 0.0\\nsamples = 1\\nvalue = 159950.0'),\n",
       " Text(95.70363232963551, 128.1342857142857, 'X[39] <= 2.0\\nmse = 15202222.222\\nsamples = 3\\nvalue = 175466.667'),\n",
       " Text(95.47724881141046, 120.36857142857143, 'X[43] <= 78.5\\nmse = 3802500.0\\nsamples = 2\\nvalue = 172950.0'),\n",
       " Text(95.25086529318543, 112.60285714285713, 'mse = 0.0\\nsamples = 1\\nvalue = 174900.0'),\n",
       " Text(95.70363232963551, 112.60285714285713, 'mse = 0.0\\nsamples = 1\\nvalue = 171000.0'),\n",
       " Text(95.93001584786055, 120.36857142857143, 'mse = 0.0\\nsamples = 1\\nvalue = 180500.0'),\n",
       " Text(99.82805705229795, 166.96285714285713, 'X[68] <= 4.5\\nmse = 390911145.033\\nsamples = 38\\nvalue = 168537.421'),\n",
       " Text(98.30704278922346, 159.19714285714286, 'X[44] <= 42.0\\nmse = 178222500.0\\nsamples = 2\\nvalue = 221650.0'),\n",
       " Text(98.08065927099842, 151.43142857142857, 'mse = 0.0\\nsamples = 1\\nvalue = 235000.0'),\n",
       " Text(98.5334263074485, 151.43142857142857, 'mse = 0.0\\nsamples = 1\\nvalue = 208300.0'),\n",
       " Text(101.34907131537243, 159.19714285714286, 'X[43] <= 79.5\\nmse = 237301332.701\\nsamples = 36\\nvalue = 165586.722'),\n",
       " Text(98.98619334389858, 151.43142857142857, 'X[51] <= 81.0\\nmse = 161382493.075\\nsamples = 19\\nvalue = 156547.368'),\n",
       " Text(97.17512519809826, 143.66571428571427, 'X[44] <= 6.5\\nmse = 95019097.222\\nsamples = 12\\nvalue = 149708.333'),\n",
       " Text(96.38278288431063, 135.89999999999998, 'X[68] <= 6.5\\nmse = 2250000.0\\nsamples = 2\\nvalue = 133500.0'),\n",
       " Text(96.15639936608558, 128.1342857142857, 'mse = 0.0\\nsamples = 1\\nvalue = 135000.0'),\n",
       " Text(96.60916640253566, 128.1342857142857, 'mse = 0.0\\nsamples = 1\\nvalue = 132000.0'),\n",
       " Text(97.9674675118859, 135.89999999999998, 'X[43] <= 71.5\\nmse = 50522500.0\\nsamples = 10\\nvalue = 152950.0'),\n",
       " Text(97.06193343898575, 128.1342857142857, 'X[52] <= 8666.0\\nmse = 33632653.061\\nsamples = 7\\nvalue = 156285.714'),\n",
       " Text(96.38278288431063, 120.36857142857143, 'X[44] <= 23.5\\nmse = 16222222.222\\nsamples = 3\\nvalue = 150666.667'),\n",
       " Text(96.15639936608558, 112.60285714285713, 'mse = 0.0\\nsamples = 1\\nvalue = 145000.0'),\n",
       " Text(96.60916640253566, 112.60285714285713, 'X[56] <= 42.0\\nmse = 250000.0\\nsamples = 2\\nvalue = 153500.0'),\n",
       " Text(96.38278288431063, 104.83714285714285, 'mse = 0.0\\nsamples = 1\\nvalue = 154000.0'),\n",
       " Text(96.8355499207607, 104.83714285714285, 'mse = 0.0\\nsamples = 1\\nvalue = 153000.0'),\n",
       " Text(97.74108399366087, 120.36857142857143, 'X[73] <= 164.5\\nmse = 5250000.0\\nsamples = 4\\nvalue = 160500.0'),\n",
       " Text(97.51470047543582, 112.60285714285713, 'X[16] <= 7.0\\nmse = 1555555.556\\nsamples = 3\\nvalue = 161666.667'),\n",
       " Text(97.28831695721078, 104.83714285714285, 'mse = 0.0\\nsamples = 1\\nvalue = 160000.0'),\n",
       " Text(97.74108399366087, 104.83714285714285, 'X[48] <= 4.5\\nmse = 250000.0\\nsamples = 2\\nvalue = 162500.0'),\n",
       " Text(97.51470047543582, 97.07142857142857, 'mse = 0.0\\nsamples = 1\\nvalue = 162000.0'),\n",
       " Text(97.9674675118859, 97.07142857142857, 'mse = 0.0\\nsamples = 1\\nvalue = 163000.0'),\n",
       " Text(97.9674675118859, 112.60285714285713, 'mse = 0.0\\nsamples = 1\\nvalue = 157000.0'),\n",
       " Text(98.87300158478605, 128.1342857142857, 'X[54] <= 762.5\\nmse = 3388888.889\\nsamples = 3\\nvalue = 145166.667'),\n",
       " Text(98.64661806656102, 120.36857142857143, 'X[8] <= 13.0\\nmse = 1000000.0\\nsamples = 2\\nvalue = 144000.0'),\n",
       " Text(98.42023454833598, 112.60285714285713, 'mse = 0.0\\nsamples = 1\\nvalue = 143000.0'),\n",
       " Text(98.87300158478605, 112.60285714285713, 'mse = 0.0\\nsamples = 1\\nvalue = 145000.0'),\n",
       " Text(99.0993851030111, 120.36857142857143, 'mse = 0.0\\nsamples = 1\\nvalue = 147500.0'),\n",
       " Text(100.7972614896989, 143.66571428571427, 'X[24] <= 2.5\\nmse = 57513469.388\\nsamples = 7\\nvalue = 168271.429'),\n",
       " Text(100.2313026941363, 135.89999999999998, 'X[16] <= 11.5\\nmse = 22492500.0\\nsamples = 4\\nvalue = 173850.0'),\n",
       " Text(99.77853565768622, 128.1342857142857, 'X[15] <= 6.0\\nmse = 2102500.0\\nsamples = 2\\nvalue = 178450.0'),\n",
       " Text(99.55215213946117, 120.36857142857143, 'mse = 0.0\\nsamples = 1\\nvalue = 179900.0'),\n",
       " Text(100.00491917591125, 120.36857142857143, 'mse = 0.0\\nsamples = 1\\nvalue = 177000.0'),\n",
       " Text(100.68406973058637, 128.1342857142857, 'X[70] <= 1.5\\nmse = 562500.0\\nsamples = 2\\nvalue = 169250.0'),\n",
       " Text(100.45768621236134, 120.36857142857143, 'mse = 0.0\\nsamples = 1\\nvalue = 170000.0'),\n",
       " Text(100.91045324881142, 120.36857142857143, 'mse = 0.0\\nsamples = 1\\nvalue = 168500.0'),\n",
       " Text(101.36322028526149, 135.89999999999998, 'X[3] <= 1.5\\nmse = 7388888.889\\nsamples = 3\\nvalue = 160833.333'),\n",
       " Text(101.13683676703646, 128.1342857142857, 'mse = 0.0\\nsamples = 1\\nvalue = 164500.0'),\n",
       " Text(101.58960380348654, 128.1342857142857, 'X[49] <= 5.0\\nmse = 1000000.0\\nsamples = 2\\nvalue = 159000.0'),\n",
       " Text(101.36322028526149, 120.36857142857143, 'mse = 0.0\\nsamples = 1\\nvalue = 160000.0'),\n",
       " Text(101.81598732171157, 120.36857142857143, 'mse = 0.0\\nsamples = 1\\nvalue = 158000.0'),\n",
       " Text(103.71194928684628, 151.43142857142857, 'X[30] <= 2.5\\nmse = 128762238.837\\nsamples = 17\\nvalue = 175689.529'),\n",
       " Text(102.8913090332805, 143.66571428571427, 'X[23] <= 1.0\\nmse = 58296875.56\\nsamples = 10\\nvalue = 182682.2'),\n",
       " Text(102.26875435816166, 135.89999999999998, 'X[47] <= 2.0\\nmse = 422500.0\\nsamples = 2\\nvalue = 195350.0'),\n",
       " Text(102.04237083993661, 128.1342857142857, 'mse = 0.0\\nsamples = 1\\nvalue = 194700.0'),\n",
       " Text(102.49513787638669, 128.1342857142857, 'mse = 0.0\\nsamples = 1\\nvalue = 196000.0'),\n",
       " Text(103.51386370839937, 135.89999999999998, 'X[56] <= 1232.0\\nmse = 22617607.938\\nsamples = 8\\nvalue = 179515.25'),\n",
       " Text(102.94790491283678, 128.1342857142857, 'X[45] <= 93.0\\nmse = 9034722.222\\nsamples = 6\\nvalue = 181616.667'),\n",
       " Text(102.49513787638669, 120.36857142857143, 'X[61] <= 1301.5\\nmse = 2116875.0\\nsamples = 4\\nvalue = 179675.0'),\n",
       " Text(102.26875435816166, 112.60285714285713, 'X[71] <= 508.5\\nmse = 722500.0\\nsamples = 2\\nvalue = 178350.0'),\n",
       " Text(102.04237083993661, 104.83714285714285, 'mse = 0.0\\nsamples = 1\\nvalue = 179200.0'),\n",
       " Text(102.49513787638669, 104.83714285714285, 'mse = 0.0\\nsamples = 1\\nvalue = 177500.0'),\n",
       " Text(102.72152139461173, 112.60285714285713, 'mse = 0.0\\nsamples = 2\\nvalue = 181000.0'),\n",
       " Text(103.40067194928685, 120.36857142857143, 'X[52] <= 8810.0\\nmse = 250000.0\\nsamples = 2\\nvalue = 185500.0'),\n",
       " Text(103.17428843106181, 112.60285714285713, 'mse = 0.0\\nsamples = 1\\nvalue = 185000.0'),\n",
       " Text(103.6270554675119, 112.60285714285713, 'mse = 0.0\\nsamples = 1\\nvalue = 186000.0'),\n",
       " Text(104.07982250396196, 128.1342857142857, 'X[9] <= 4.0\\nmse = 10374841.0\\nsamples = 2\\nvalue = 173211.0'),\n",
       " Text(103.85343898573693, 120.36857142857143, 'mse = 0.0\\nsamples = 1\\nvalue = 176432.0'),\n",
       " Text(104.30620602218701, 120.36857142857143, 'mse = 0.0\\nsamples = 1\\nvalue = 169990.0'),\n",
       " Text(104.53258954041205, 143.66571428571427, 'X[9] <= 1.5\\nmse = 59782857.143\\nsamples = 7\\nvalue = 165700.0'),\n",
       " Text(104.30620602218701, 135.89999999999998, 'mse = 0.0\\nsamples = 1\\nvalue = 181500.0'),\n",
       " Text(104.7589730586371, 135.89999999999998, 'X[22] <= 2.0\\nmse = 21205555.556\\nsamples = 6\\nvalue = 163066.667'),\n",
       " Text(104.53258954041205, 128.1342857142857, 'mse = 0.0\\nsamples = 1\\nvalue = 153500.0'),\n",
       " Text(104.98535657686213, 128.1342857142857, 'X[51] <= 50.0\\nmse = 3481600.0\\nsamples = 5\\nvalue = 164980.0'),\n",
       " Text(104.7589730586371, 120.36857142857143, 'mse = 0.0\\nsamples = 1\\nvalue = 162000.0'),\n",
       " Text(105.21174009508717, 120.36857142857143, 'X[46] <= 4.0\\nmse = 1576875.0\\nsamples = 4\\nvalue = 165725.0'),\n",
       " Text(104.98535657686213, 112.60285714285713, 'mse = 0.0\\nsamples = 1\\nvalue = 167900.0'),\n",
       " Text(105.43812361331221, 112.60285714285713, 'mse = 0.0\\nsamples = 3\\nvalue = 165000.0'),\n",
       " Text(108.50839480982567, 174.72857142857143, 'X[49] <= 3.5\\nmse = 453426601.292\\nsamples = 100\\nvalue = 138382.26'),\n",
       " Text(105.55131537242472, 166.96285714285713, 'X[54] <= 273.5\\nmse = 540731311.959\\nsamples = 7\\nvalue = 103008.429'),\n",
       " Text(104.98535657686213, 159.19714285714286, 'X[28] <= 0.5\\nmse = 156250000.0\\nsamples = 2\\nvalue = 72500.0'),\n",
       " Text(104.7589730586371, 151.43142857142857, 'mse = 0.0\\nsamples = 1\\nvalue = 85000.0'),\n",
       " Text(105.21174009508717, 151.43142857142857, 'mse = 0.0\\nsamples = 1\\nvalue = 60000.0'),\n",
       " Text(106.11727416798733, 159.19714285714286, 'X[66] <= 2.5\\nmse = 173295876.96\\nsamples = 5\\nvalue = 115211.8'),\n",
       " Text(105.66450713153725, 151.43142857142857, 'X[46] <= 10.5\\nmse = 20189618.0\\nsamples = 3\\nvalue = 104853.0'),\n",
       " Text(105.43812361331221, 143.66571428571427, 'X[45] <= 58.5\\nmse = 959420.25\\nsamples = 2\\nvalue = 107979.5'),\n",
       " Text(105.21174009508717, 135.89999999999998, 'mse = 0.0\\nsamples = 1\\nvalue = 107000.0'),\n",
       " Text(105.66450713153725, 135.89999999999998, 'mse = 0.0\\nsamples = 1\\nvalue = 108959.0'),\n",
       " Text(105.89089064976228, 143.66571428571427, 'mse = 0.0\\nsamples = 1\\nvalue = 98600.0'),\n",
       " Text(106.5700412044374, 151.43142857142857, 'X[50] <= 135.0\\nmse = 562500.0\\nsamples = 2\\nvalue = 130750.0'),\n",
       " Text(106.34365768621237, 143.66571428571427, 'mse = 0.0\\nsamples = 1\\nvalue = 130000.0'),\n",
       " Text(106.79642472266245, 143.66571428571427, 'mse = 0.0\\nsamples = 1\\nvalue = 131500.0'),\n",
       " Text(111.46547424722662, 166.96285714285713, 'X[43] <= 56.0\\nmse = 345581656.027\\nsamples = 93\\nvalue = 141044.806'),\n",
       " Text(108.2679175911252, 159.19714285714286, 'X[52] <= 7631.5\\nmse = 49855636.0\\nsamples = 10\\nvalue = 113398.0'),\n",
       " Text(107.47557527733757, 151.43142857142857, 'X[30] <= 1.5\\nmse = 14343904.0\\nsamples = 5\\nvalue = 107276.0'),\n",
       " Text(107.24919175911252, 143.66571428571427, 'mse = 0.0\\nsamples = 1\\nvalue = 100000.0'),\n",
       " Text(107.7019587955626, 143.66571428571427, 'X[51] <= 55.0\\nmse = 1386075.0\\nsamples = 4\\nvalue = 109095.0'),\n",
       " Text(107.24919175911252, 135.89999999999998, 'X[24] <= 2.0\\nmse = 90000.0\\nsamples = 2\\nvalue = 110200.0'),\n",
       " Text(107.02280824088749, 128.1342857142857, 'mse = 0.0\\nsamples = 1\\nvalue = 110500.0'),\n",
       " Text(107.47557527733757, 128.1342857142857, 'mse = 0.0\\nsamples = 1\\nvalue = 109900.0'),\n",
       " Text(108.15472583201269, 135.89999999999998, 'X[68] <= 4.5\\nmse = 240100.0\\nsamples = 2\\nvalue = 107990.0'),\n",
       " Text(107.92834231378764, 128.1342857142857, 'mse = 0.0\\nsamples = 1\\nvalue = 108480.0'),\n",
       " Text(108.38110935023772, 128.1342857142857, 'mse = 0.0\\nsamples = 1\\nvalue = 107500.0'),\n",
       " Text(109.06025990491284, 151.43142857142857, 'X[32] <= 3.5\\nmse = 10409600.0\\nsamples = 5\\nvalue = 119520.0'),\n",
       " Text(108.8338763866878, 143.66571428571427, 'X[57] <= 1010.0\\nmse = 3627500.0\\nsamples = 4\\nvalue = 118150.0'),\n",
       " Text(108.60749286846276, 135.89999999999998, 'mse = 0.0\\nsamples = 1\\nvalue = 115000.0'),\n",
       " Text(109.06025990491284, 135.89999999999998, 'X[7] <= 0.5\\nmse = 426666.667\\nsamples = 3\\nvalue = 119200.0'),\n",
       " Text(108.8338763866878, 128.1342857142857, 'X[50] <= 25.0\\nmse = 160000.0\\nsamples = 2\\nvalue = 119600.0'),\n",
       " Text(108.60749286846276, 120.36857142857143, 'mse = 0.0\\nsamples = 1\\nvalue = 119200.0'),\n",
       " Text(109.06025990491284, 120.36857142857143, 'mse = 0.0\\nsamples = 1\\nvalue = 120000.0'),\n",
       " Text(109.28664342313789, 128.1342857142857, 'mse = 0.0\\nsamples = 1\\nvalue = 118400.0'),\n",
       " Text(109.28664342313789, 143.66571428571427, 'mse = 0.0\\nsamples = 1\\nvalue = 125000.0'),\n",
       " Text(114.66303090332805, 159.19714285714286, 'X[42] <= 1.0\\nmse = 278026263.828\\nsamples = 83\\nvalue = 144375.747'),\n",
       " Text(110.41856101426308, 151.43142857142857, 'X[58] <= 1140.5\\nmse = 345071428.571\\nsamples = 7\\nvalue = 118000.0'),\n",
       " Text(109.96579397781301, 143.66571428571427, 'X[54] <= 140.0\\nmse = 192040000.0\\nsamples = 5\\nvalue = 108900.0'),\n",
       " Text(109.73941045958796, 135.89999999999998, 'mse = 0.0\\nsamples = 1\\nvalue = 84500.0'),\n",
       " Text(110.19217749603804, 135.89999999999998, 'X[47] <= 3.5\\nmse = 54000000.0\\nsamples = 4\\nvalue = 115000.0'),\n",
       " Text(109.73941045958796, 128.1342857142857, 'X[69] <= 0.5\\nmse = 9000000.0\\nsamples = 2\\nvalue = 122000.0'),\n",
       " Text(109.51302694136292, 120.36857142857143, 'mse = 0.0\\nsamples = 1\\nvalue = 119000.0'),\n",
       " Text(109.96579397781301, 120.36857142857143, 'mse = 0.0\\nsamples = 1\\nvalue = 125000.0'),\n",
       " Text(110.64494453248813, 128.1342857142857, 'X[43] <= 71.5\\nmse = 1000000.0\\nsamples = 2\\nvalue = 108000.0'),\n",
       " Text(110.41856101426308, 120.36857142857143, 'mse = 0.0\\nsamples = 1\\nvalue = 109000.0'),\n",
       " Text(110.87132805071316, 120.36857142857143, 'mse = 0.0\\nsamples = 1\\nvalue = 107000.0'),\n",
       " Text(110.87132805071316, 143.66571428571427, 'X[49] <= 4.5\\nmse = 3062500.0\\nsamples = 2\\nvalue = 140750.0'),\n",
       " Text(110.64494453248813, 135.89999999999998, 'mse = 0.0\\nsamples = 1\\nvalue = 142500.0'),\n",
       " Text(111.0977115689382, 135.89999999999998, 'mse = 0.0\\nsamples = 1\\nvalue = 139000.0'),\n",
       " Text(118.90750079239304, 151.43142857142857, 'X[57] <= 1164.5\\nmse = 201873541.426\\nsamples = 76\\nvalue = 146805.092'),\n",
       " Text(115.2495499207607, 143.66571428571427, 'X[52] <= 11376.5\\nmse = 161531480.686\\nsamples = 55\\nvalue = 142644.309'),\n",
       " Text(113.25366085578447, 135.89999999999998, 'X[43] <= 73.5\\nmse = 106189522.957\\nsamples = 43\\nvalue = 138950.86'),\n",
       " Text(112.091676703645, 128.1342857142857, 'X[51] <= 82.5\\nmse = 80844250.686\\nsamples = 27\\nvalue = 135042.593'),\n",
       " Text(111.32409508716324, 120.36857142857143, 'X[61] <= 1281.5\\nmse = 56570850.0\\nsamples = 25\\nvalue = 133650.0'),\n",
       " Text(110.4680824088748, 112.60285714285713, 'X[74] <= 75.5\\nmse = 42694685.728\\nsamples = 23\\nvalue = 132456.522'),\n",
       " Text(109.43520760697307, 104.83714285714285, 'X[48] <= 3.5\\nmse = 30908112.245\\nsamples = 21\\nvalue = 131303.571'),\n",
       " Text(108.0486085578447, 97.07142857142857, 'X[17] <= 1.0\\nmse = 16942916.667\\nsamples = 3\\nvalue = 124225.0'),\n",
       " Text(107.82222503961965, 89.30571428571429, 'mse = 0.0\\nsamples = 1\\nvalue = 118500.0'),\n",
       " Text(108.27499207606974, 89.30571428571429, 'X[27] <= 2.0\\nmse = 832656.25\\nsamples = 2\\nvalue = 127087.5'),\n",
       " Text(108.0486085578447, 81.53999999999999, 'mse = 0.0\\nsamples = 1\\nvalue = 126175.0'),\n",
       " Text(108.50137559429477, 81.53999999999999, 'mse = 0.0\\nsamples = 1\\nvalue = 128000.0'),\n",
       " Text(110.82180665610143, 97.07142857142857, 'X[65] <= 0.5\\nmse = 23492777.778\\nsamples = 18\\nvalue = 132483.333'),\n",
       " Text(109.7464849445325, 89.30571428571429, 'X[8] <= 9.5\\nmse = 17233488.889\\nsamples = 15\\nvalue = 133813.333'),\n",
       " Text(108.95414263074485, 81.53999999999999, 'X[57] <= 1154.0\\nmse = 4000000.0\\nsamples = 2\\nvalue = 127000.0'),\n",
       " Text(108.72775911251982, 73.7742857142857, 'mse = 0.0\\nsamples = 1\\nvalue = 129000.0'),\n",
       " Text(109.18052614896989, 73.7742857142857, 'mse = 0.0\\nsamples = 1\\nvalue = 125000.0'),\n",
       " Text(110.53882725832013, 81.53999999999999, 'X[13] <= 2.0\\nmse = 11028905.325\\nsamples = 13\\nvalue = 134861.538'),\n",
       " Text(109.63329318541997, 73.7742857142857, 'X[66] <= 2.5\\nmse = 6031400.0\\nsamples = 5\\nvalue = 137460.0'),\n",
       " Text(109.18052614896989, 66.00857142857143, 'X[27] <= 3.0\\nmse = 625.0\\nsamples = 2\\nvalue = 134475.0'),\n",
       " Text(108.95414263074485, 58.24285714285713, 'mse = 0.0\\nsamples = 1\\nvalue = 134500.0'),\n",
       " Text(109.40690966719494, 58.24285714285713, 'mse = 0.0\\nsamples = 1\\nvalue = 134450.0'),\n",
       " Text(110.08606022187006, 66.00857142857143, 'X[39] <= 1.5\\nmse = 151666.667\\nsamples = 3\\nvalue = 139450.0'),\n",
       " Text(109.85967670364501, 58.24285714285713, 'mse = 0.0\\nsamples = 1\\nvalue = 139950.0'),\n",
       " Text(110.31244374009509, 58.24285714285713, 'X[57] <= 1088.5\\nmse = 40000.0\\nsamples = 2\\nvalue = 139200.0'),\n",
       " Text(110.08606022187006, 50.47714285714284, 'mse = 0.0\\nsamples = 1\\nvalue = 139400.0'),\n",
       " Text(110.53882725832013, 50.47714285714284, 'mse = 0.0\\nsamples = 1\\nvalue = 139000.0'),\n",
       " Text(111.44436133122029, 73.7742857142857, 'X[54] <= 537.0\\nmse = 7294843.75\\nsamples = 8\\nvalue = 133237.5'),\n",
       " Text(111.21797781299526, 66.00857142857143, 'mse = 0.0\\nsamples = 1\\nvalue = 128900.0'),\n",
       " Text(111.67074484944533, 66.00857142857143, 'X[71] <= 376.0\\nmse = 5265306.122\\nsamples = 7\\nvalue = 133857.143'),\n",
       " Text(111.21797781299526, 58.24285714285713, 'X[71] <= 287.0\\nmse = 421875.0\\nsamples = 4\\nvalue = 135625.0'),\n",
       " Text(110.99159429477021, 50.47714285714284, 'mse = 0.0\\nsamples = 2\\nvalue = 135000.0'),\n",
       " Text(111.44436133122029, 50.47714285714284, 'X[76] <= 65.0\\nmse = 62500.0\\nsamples = 2\\nvalue = 136250.0'),\n",
       " Text(111.21797781299526, 42.71142857142857, 'mse = 0.0\\nsamples = 1\\nvalue = 136500.0'),\n",
       " Text(111.67074484944533, 42.71142857142857, 'mse = 0.0\\nsamples = 1\\nvalue = 136000.0'),\n",
       " Text(112.12351188589541, 58.24285714285713, 'X[52] <= 9565.5\\nmse = 2000000.0\\nsamples = 3\\nvalue = 131500.0'),\n",
       " Text(111.89712836767038, 50.47714285714284, 'mse = 0.0\\nsamples = 2\\nvalue = 132500.0'),\n",
       " Text(112.34989540412045, 50.47714285714284, 'mse = 0.0\\nsamples = 1\\nvalue = 129500.0'),\n",
       " Text(111.89712836767038, 89.30571428571429, 'X[25] <= 4.5\\nmse = 1722222.222\\nsamples = 3\\nvalue = 125833.333'),\n",
       " Text(111.67074484944533, 81.53999999999999, 'mse = 0.0\\nsamples = 1\\nvalue = 124000.0'),\n",
       " Text(112.12351188589541, 81.53999999999999, 'X[51] <= 74.0\\nmse = 62500.0\\nsamples = 2\\nvalue = 126750.0'),\n",
       " Text(111.89712836767038, 73.7742857142857, 'mse = 0.0\\nsamples = 1\\nvalue = 127000.0'),\n",
       " Text(112.34989540412045, 73.7742857142857, 'mse = 0.0\\nsamples = 1\\nvalue = 126500.0'),\n",
       " Text(111.50095721077655, 104.83714285714285, 'X[47] <= 3.5\\nmse = 5941406.25\\nsamples = 2\\nvalue = 144562.5'),\n",
       " Text(111.27457369255151, 97.07142857142857, 'mse = 0.0\\nsamples = 1\\nvalue = 147000.0'),\n",
       " Text(111.7273407290016, 97.07142857142857, 'mse = 0.0\\nsamples = 1\\nvalue = 142125.0'),\n",
       " Text(112.18010776545167, 112.60285714285713, 'X[31] <= 4.0\\nmse = 11390625.0\\nsamples = 2\\nvalue = 147375.0'),\n",
       " Text(111.95372424722663, 104.83714285714285, 'mse = 0.0\\nsamples = 1\\nvalue = 144000.0'),\n",
       " Text(112.40649128367671, 104.83714285714285, 'mse = 0.0\\nsamples = 1\\nvalue = 150750.0'),\n",
       " Text(112.85925832012678, 120.36857142857143, 'X[49] <= 5.5\\nmse = 57002500.0\\nsamples = 2\\nvalue = 152450.0'),\n",
       " Text(112.63287480190175, 112.60285714285713, 'mse = 0.0\\nsamples = 1\\nvalue = 160000.0'),\n",
       " Text(113.08564183835183, 112.60285714285713, 'mse = 0.0\\nsamples = 1\\nvalue = 144900.0'),\n",
       " Text(114.41564500792394, 128.1342857142857, 'X[51] <= 60.5\\nmse = 79687163.809\\nsamples = 16\\nvalue = 145546.062'),\n",
       " Text(113.76479239302695, 120.36857142857143, 'X[72] <= 50.0\\nmse = 8702500.0\\nsamples = 2\\nvalue = 126950.0'),\n",
       " Text(113.5384088748019, 112.60285714285713, 'mse = 0.0\\nsamples = 1\\nvalue = 124000.0'),\n",
       " Text(113.99117591125199, 112.60285714285713, 'mse = 0.0\\nsamples = 1\\nvalue = 129900.0'),\n",
       " Text(115.06649762282092, 120.36857142857143, 'X[74] <= 79.0\\nmse = 33368476.515\\nsamples = 14\\nvalue = 148202.643'),\n",
       " Text(114.44394294770207, 112.60285714285713, 'X[71] <= 546.0\\nmse = 16022737.91\\nsamples = 12\\nvalue = 149903.083'),\n",
       " Text(113.87798415213946, 104.83714285714285, 'X[71] <= 391.0\\nmse = 12424142.617\\nsamples = 9\\nvalue = 151315.222'),\n",
       " Text(113.42521711568939, 97.07142857142857, 'X[8] <= 15.0\\nmse = 17555555.556\\nsamples = 3\\nvalue = 148333.333'),\n",
       " Text(113.19883359746434, 89.30571428571429, 'X[58] <= 1109.5\\nmse = 2250000.0\\nsamples = 2\\nvalue = 145500.0'),\n",
       " Text(112.97245007923931, 81.53999999999999, 'mse = 0.0\\nsamples = 1\\nvalue = 144000.0'),\n",
       " Text(113.42521711568939, 81.53999999999999, 'mse = 0.0\\nsamples = 1\\nvalue = 147000.0'),\n",
       " Text(113.65160063391443, 89.30571428571429, 'mse = 0.0\\nsamples = 1\\nvalue = 154000.0'),\n",
       " Text(114.33075118858955, 97.07142857142857, 'X[71] <= 450.0\\nmse = 3189690.139\\nsamples = 6\\nvalue = 152806.167'),\n",
       " Text(114.10436767036451, 89.30571428571429, 'mse = 0.0\\nsamples = 2\\nvalue = 155000.0'),\n",
       " Text(114.55713470681458, 89.30571428571429, 'X[58] <= 1075.5\\nmse = 1174856.688\\nsamples = 4\\nvalue = 151709.25'),\n",
       " Text(114.10436767036451, 81.53999999999999, 'X[76] <= 184.0\\nmse = 62500.0\\nsamples = 2\\nvalue = 150750.0'),\n",
       " Text(113.87798415213946, 73.7742857142857, 'mse = 0.0\\nsamples = 1\\nvalue = 151000.0'),\n",
       " ...]"
      ]
     },
     "execution_count": 98,
     "metadata": {},
     "output_type": "execute_result"
    },
    {
     "data": {
      "image/png": "[encoded data removed]",
      "text/plain": [
       "<Figure size 432x288 with 1 Axes>"
      ]
     },
     "metadata": {
      "needs_background": "light"
     },
     "output_type": "display_data"
    }
   ],
   "source": [
    "# plotting the decision tree\n",
    "from sklearn.tree import plot_tree\n",
    "plot_tree(TR, filled=True)"
   ]
  },
  {
   "cell_type": "code",
   "execution_count": 99,
   "id": "2a105dda",
   "metadata": {},
   "outputs": [],
   "source": [
    "# checking the accuracy of the model (decision tree regressor) with the cross val score, taking 10 samples \n",
    "from sklearn.model_selection import cross_val_score"
   ]
  },
  {
   "cell_type": "code",
   "execution_count": 100,
   "id": "94dd6f44",
   "metadata": {},
   "outputs": [
    {
     "data": {
      "text/plain": [
       "array([0.72710879, 0.78100073, 0.80159318, 0.70491033, 0.83360621,\n",
       "       0.84204344, 0.80223104, 0.62332809, 0.45535622, 0.73602003])"
      ]
     },
     "execution_count": 100,
     "metadata": {},
     "output_type": "execute_result"
    }
   ],
   "source": [
    "cross_val_score(TR,X,y,cv=10)"
   ]
  },
  {
   "cell_type": "code",
   "execution_count": 121,
   "id": "42b01a54",
   "metadata": {},
   "outputs": [],
   "source": [
    "# Applying Gradient Boosting Regressor keeping parameter default\n",
    "from sklearn.ensemble import GradientBoostingRegressor\n",
    "from sklearn.metrics import r2_score"
   ]
  },
  {
   "cell_type": "code",
   "execution_count": 122,
   "id": "687c8e9f",
   "metadata": {},
   "outputs": [],
   "source": [
    "gbr_model=GradientBoostingRegressor()"
   ]
  },
  {
   "cell_type": "code",
   "execution_count": 123,
   "id": "1af43e89",
   "metadata": {},
   "outputs": [
    {
     "data": {
      "text/plain": [
       "GradientBoostingRegressor(alpha=0.9, ccp_alpha=0.0, criterion='friedman_mse',\n",
       "                          init=None, learning_rate=0.1, loss='ls', max_depth=3,\n",
       "                          max_features=None, max_leaf_nodes=None,\n",
       "                          min_impurity_decrease=0.0, min_impurity_split=None,\n",
       "                          min_samples_leaf=1, min_samples_split=2,\n",
       "                          min_weight_fraction_leaf=0.0, n_estimators=100,\n",
       "                          n_iter_no_change=None, presort='deprecated',\n",
       "                          random_state=None, subsample=1.0, tol=0.0001,\n",
       "                          validation_fraction=0.1, verbose=0, warm_start=False)"
      ]
     },
     "execution_count": 123,
     "metadata": {},
     "output_type": "execute_result"
    }
   ],
   "source": [
    "gbr_model.fit(X,y)"
   ]
  },
  {
   "cell_type": "code",
   "execution_count": 124,
   "id": "265a1a5d",
   "metadata": {},
   "outputs": [
    {
     "data": {
      "text/plain": [
       "0.9639527004415478"
      ]
     },
     "execution_count": 124,
     "metadata": {},
     "output_type": "execute_result"
    }
   ],
   "source": [
    "gbr_model.score(X,y)"
   ]
  },
  {
   "cell_type": "code",
   "execution_count": 125,
   "id": "7b0f2424",
   "metadata": {},
   "outputs": [],
   "source": [
    "gbr_predict=gbr_model.predict(X)"
   ]
  },
  {
   "cell_type": "code",
   "execution_count": 126,
   "id": "3c26ba3c",
   "metadata": {},
   "outputs": [
    {
     "name": "stdout",
     "output_type": "stream",
     "text": [
      "[205884.69599756 166825.01886371 210779.43569691 ... 257823.6009127\n",
      " 139023.58992514 148780.16191774]\n"
     ]
    }
   ],
   "source": [
    "print(gbr_predict)"
   ]
  },
  {
   "cell_type": "code",
   "execution_count": 127,
   "id": "47b79d54",
   "metadata": {},
   "outputs": [],
   "source": [
    "# predicting for the testing data\n",
    "gbr_predict_test=gbr_model.predict(housetestdf)"
   ]
  },
  {
   "cell_type": "code",
   "execution_count": 128,
   "id": "4e4499d5",
   "metadata": {},
   "outputs": [
    {
     "data": {
      "text/plain": [
       "array([117846.70952328, 160878.39101292, 176064.94402416, ...,\n",
       "       163897.79087946, 119572.68616118, 234893.13666953])"
      ]
     },
     "execution_count": 128,
     "metadata": {},
     "output_type": "execute_result"
    }
   ],
   "source": [
    "gbr_predict_test"
   ]
  },
  {
   "cell_type": "code",
   "execution_count": 129,
   "id": "14346561",
   "metadata": {},
   "outputs": [
    {
     "data": {
      "text/plain": [
       "array([0.90435539, 0.90866058, 0.94205957, 0.77603871, 0.91454402,\n",
       "       0.88167102, 0.88377755, 0.89866807, 0.88176055, 0.87794114])"
      ]
     },
     "execution_count": 129,
     "metadata": {},
     "output_type": "execute_result"
    }
   ],
   "source": [
    "# checking the accuracy of the model (gradient boosting regressor) with the cross val score, taking 10 samples \n",
    "cross_val_score(gbr_model,X,y,cv=10)"
   ]
  },
  {
   "cell_type": "code",
   "execution_count": 131,
   "id": "391baf58",
   "metadata": {},
   "outputs": [
    {
     "data": {
      "text/plain": [
       "0.9611283207598736"
      ]
     },
     "execution_count": 131,
     "metadata": {},
     "output_type": "execute_result"
    }
   ],
   "source": [
    "r2_score(gbr_predict,y) # gradient boost giving the best score "
   ]
  },
  {
   "cell_type": "code",
   "execution_count": 133,
   "id": "186bab31",
   "metadata": {},
   "outputs": [],
   "source": [
    "# changing the predicted values predicted by gradient boost to the dataframe and saving into the csv file\n",
    "pd.DataFrame(gbr_predict_test).to_csv('GBReg.csv')"
   ]
  },
  {
   "cell_type": "code",
   "execution_count": null,
   "id": "cefd0887",
   "metadata": {},
   "outputs": [],
   "source": []
  }
 ],
 "metadata": {
  "kernelspec": {
   "display_name": "Python 3",
   "language": "python",
   "name": "python3"
  },
  "language_info": {
   "codemirror_mode": {
    "name": "ipython",
    "version": 3
   },
   "file_extension": ".py",
   "mimetype": "text/x-python",
   "name": "python",
   "nbconvert_exporter": "python",
   "pygments_lexer": "ipython3",
   "version": "3.7.10"
  }
 },
 "nbformat": 4,
 "nbformat_minor": 5
}
